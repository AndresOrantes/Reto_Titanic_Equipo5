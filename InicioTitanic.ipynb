{
 "cells": [
  {
   "cell_type": "markdown",
   "metadata": {},
   "source": [
    "# Reto del Titanic\n",
    "### Carga de librerías y datos"
   ]
  },
  {
   "cell_type": "code",
   "execution_count": 1,
   "metadata": {},
   "outputs": [],
   "source": [
    "import pandas as pd\n",
    "import numpy as np\n",
    "import matplotlib.pyplot as plt\n",
    "import seaborn as sb\n",
    "import plotly.express as px\n",
    "from sklearn.preprocessing import OneHotEncoder\n",
    "#import polars as pl"
   ]
  },
  {
   "cell_type": "code",
   "execution_count": 2,
   "metadata": {},
   "outputs": [
    {
     "data": {
      "text/html": [
       "<div>\n",
       "<style scoped>\n",
       "    .dataframe tbody tr th:only-of-type {\n",
       "        vertical-align: middle;\n",
       "    }\n",
       "\n",
       "    .dataframe tbody tr th {\n",
       "        vertical-align: top;\n",
       "    }\n",
       "\n",
       "    .dataframe thead th {\n",
       "        text-align: right;\n",
       "    }\n",
       "</style>\n",
       "<table border=\"1\" class=\"dataframe\">\n",
       "  <thead>\n",
       "    <tr style=\"text-align: right;\">\n",
       "      <th></th>\n",
       "      <th>PassengerId</th>\n",
       "      <th>Survived</th>\n",
       "      <th>Pclass</th>\n",
       "      <th>Name</th>\n",
       "      <th>Sex</th>\n",
       "      <th>Age</th>\n",
       "      <th>SibSp</th>\n",
       "      <th>Parch</th>\n",
       "      <th>Ticket</th>\n",
       "      <th>Fare</th>\n",
       "      <th>Cabin</th>\n",
       "      <th>Embarked</th>\n",
       "    </tr>\n",
       "  </thead>\n",
       "  <tbody>\n",
       "    <tr>\n",
       "      <th>0</th>\n",
       "      <td>1</td>\n",
       "      <td>0.0</td>\n",
       "      <td>3</td>\n",
       "      <td>Braund, Mr. Owen Harris</td>\n",
       "      <td>male</td>\n",
       "      <td>22.0</td>\n",
       "      <td>1</td>\n",
       "      <td>0</td>\n",
       "      <td>A/5 21171</td>\n",
       "      <td>7.2500</td>\n",
       "      <td>NaN</td>\n",
       "      <td>S</td>\n",
       "    </tr>\n",
       "    <tr>\n",
       "      <th>1</th>\n",
       "      <td>2</td>\n",
       "      <td>1.0</td>\n",
       "      <td>1</td>\n",
       "      <td>Cumings, Mrs. John Bradley (Florence Briggs Th...</td>\n",
       "      <td>female</td>\n",
       "      <td>38.0</td>\n",
       "      <td>1</td>\n",
       "      <td>0</td>\n",
       "      <td>PC 17599</td>\n",
       "      <td>71.2833</td>\n",
       "      <td>C85</td>\n",
       "      <td>C</td>\n",
       "    </tr>\n",
       "    <tr>\n",
       "      <th>2</th>\n",
       "      <td>3</td>\n",
       "      <td>1.0</td>\n",
       "      <td>3</td>\n",
       "      <td>Heikkinen, Miss. Laina</td>\n",
       "      <td>female</td>\n",
       "      <td>26.0</td>\n",
       "      <td>0</td>\n",
       "      <td>0</td>\n",
       "      <td>STON/O2. 3101282</td>\n",
       "      <td>7.9250</td>\n",
       "      <td>NaN</td>\n",
       "      <td>S</td>\n",
       "    </tr>\n",
       "    <tr>\n",
       "      <th>3</th>\n",
       "      <td>4</td>\n",
       "      <td>1.0</td>\n",
       "      <td>1</td>\n",
       "      <td>Futrelle, Mrs. Jacques Heath (Lily May Peel)</td>\n",
       "      <td>female</td>\n",
       "      <td>35.0</td>\n",
       "      <td>1</td>\n",
       "      <td>0</td>\n",
       "      <td>113803</td>\n",
       "      <td>53.1000</td>\n",
       "      <td>C123</td>\n",
       "      <td>S</td>\n",
       "    </tr>\n",
       "    <tr>\n",
       "      <th>4</th>\n",
       "      <td>5</td>\n",
       "      <td>0.0</td>\n",
       "      <td>3</td>\n",
       "      <td>Allen, Mr. William Henry</td>\n",
       "      <td>male</td>\n",
       "      <td>35.0</td>\n",
       "      <td>0</td>\n",
       "      <td>0</td>\n",
       "      <td>373450</td>\n",
       "      <td>8.0500</td>\n",
       "      <td>NaN</td>\n",
       "      <td>S</td>\n",
       "    </tr>\n",
       "    <tr>\n",
       "      <th>...</th>\n",
       "      <td>...</td>\n",
       "      <td>...</td>\n",
       "      <td>...</td>\n",
       "      <td>...</td>\n",
       "      <td>...</td>\n",
       "      <td>...</td>\n",
       "      <td>...</td>\n",
       "      <td>...</td>\n",
       "      <td>...</td>\n",
       "      <td>...</td>\n",
       "      <td>...</td>\n",
       "      <td>...</td>\n",
       "    </tr>\n",
       "    <tr>\n",
       "      <th>1304</th>\n",
       "      <td>1305</td>\n",
       "      <td>NaN</td>\n",
       "      <td>3</td>\n",
       "      <td>Spector, Mr. Woolf</td>\n",
       "      <td>male</td>\n",
       "      <td>NaN</td>\n",
       "      <td>0</td>\n",
       "      <td>0</td>\n",
       "      <td>A.5. 3236</td>\n",
       "      <td>8.0500</td>\n",
       "      <td>NaN</td>\n",
       "      <td>S</td>\n",
       "    </tr>\n",
       "    <tr>\n",
       "      <th>1305</th>\n",
       "      <td>1306</td>\n",
       "      <td>NaN</td>\n",
       "      <td>1</td>\n",
       "      <td>Oliva y Ocana, Dona. Fermina</td>\n",
       "      <td>female</td>\n",
       "      <td>39.0</td>\n",
       "      <td>0</td>\n",
       "      <td>0</td>\n",
       "      <td>PC 17758</td>\n",
       "      <td>108.9000</td>\n",
       "      <td>C105</td>\n",
       "      <td>C</td>\n",
       "    </tr>\n",
       "    <tr>\n",
       "      <th>1306</th>\n",
       "      <td>1307</td>\n",
       "      <td>NaN</td>\n",
       "      <td>3</td>\n",
       "      <td>Saether, Mr. Simon Sivertsen</td>\n",
       "      <td>male</td>\n",
       "      <td>38.5</td>\n",
       "      <td>0</td>\n",
       "      <td>0</td>\n",
       "      <td>SOTON/O.Q. 3101262</td>\n",
       "      <td>7.2500</td>\n",
       "      <td>NaN</td>\n",
       "      <td>S</td>\n",
       "    </tr>\n",
       "    <tr>\n",
       "      <th>1307</th>\n",
       "      <td>1308</td>\n",
       "      <td>NaN</td>\n",
       "      <td>3</td>\n",
       "      <td>Ware, Mr. Frederick</td>\n",
       "      <td>male</td>\n",
       "      <td>NaN</td>\n",
       "      <td>0</td>\n",
       "      <td>0</td>\n",
       "      <td>359309</td>\n",
       "      <td>8.0500</td>\n",
       "      <td>NaN</td>\n",
       "      <td>S</td>\n",
       "    </tr>\n",
       "    <tr>\n",
       "      <th>1308</th>\n",
       "      <td>1309</td>\n",
       "      <td>NaN</td>\n",
       "      <td>3</td>\n",
       "      <td>Peter, Master. Michael J</td>\n",
       "      <td>male</td>\n",
       "      <td>NaN</td>\n",
       "      <td>1</td>\n",
       "      <td>1</td>\n",
       "      <td>2668</td>\n",
       "      <td>22.3583</td>\n",
       "      <td>NaN</td>\n",
       "      <td>C</td>\n",
       "    </tr>\n",
       "  </tbody>\n",
       "</table>\n",
       "<p>1309 rows × 12 columns</p>\n",
       "</div>"
      ],
      "text/plain": [
       "      PassengerId  Survived  Pclass  \\\n",
       "0               1       0.0       3   \n",
       "1               2       1.0       1   \n",
       "2               3       1.0       3   \n",
       "3               4       1.0       1   \n",
       "4               5       0.0       3   \n",
       "...           ...       ...     ...   \n",
       "1304         1305       NaN       3   \n",
       "1305         1306       NaN       1   \n",
       "1306         1307       NaN       3   \n",
       "1307         1308       NaN       3   \n",
       "1308         1309       NaN       3   \n",
       "\n",
       "                                                   Name     Sex   Age  SibSp  \\\n",
       "0                               Braund, Mr. Owen Harris    male  22.0      1   \n",
       "1     Cumings, Mrs. John Bradley (Florence Briggs Th...  female  38.0      1   \n",
       "2                                Heikkinen, Miss. Laina  female  26.0      0   \n",
       "3          Futrelle, Mrs. Jacques Heath (Lily May Peel)  female  35.0      1   \n",
       "4                              Allen, Mr. William Henry    male  35.0      0   \n",
       "...                                                 ...     ...   ...    ...   \n",
       "1304                                 Spector, Mr. Woolf    male   NaN      0   \n",
       "1305                       Oliva y Ocana, Dona. Fermina  female  39.0      0   \n",
       "1306                       Saether, Mr. Simon Sivertsen    male  38.5      0   \n",
       "1307                                Ware, Mr. Frederick    male   NaN      0   \n",
       "1308                           Peter, Master. Michael J    male   NaN      1   \n",
       "\n",
       "      Parch              Ticket      Fare Cabin Embarked  \n",
       "0         0           A/5 21171    7.2500   NaN        S  \n",
       "1         0            PC 17599   71.2833   C85        C  \n",
       "2         0    STON/O2. 3101282    7.9250   NaN        S  \n",
       "3         0              113803   53.1000  C123        S  \n",
       "4         0              373450    8.0500   NaN        S  \n",
       "...     ...                 ...       ...   ...      ...  \n",
       "1304      0           A.5. 3236    8.0500   NaN        S  \n",
       "1305      0            PC 17758  108.9000  C105        C  \n",
       "1306      0  SOTON/O.Q. 3101262    7.2500   NaN        S  \n",
       "1307      0              359309    8.0500   NaN        S  \n",
       "1308      1                2668   22.3583   NaN        C  \n",
       "\n",
       "[1309 rows x 12 columns]"
      ]
     },
     "execution_count": 2,
     "metadata": {},
     "output_type": "execute_result"
    }
   ],
   "source": [
    "train=pd.read_csv(\"train.csv\")\n",
    "test=pd.read_csv(\"test.csv\")\n",
    "df = pd.concat([train, test],ignore_index=True)\n",
    "df"
   ]
  },
  {
   "cell_type": "code",
   "execution_count": 3,
   "metadata": {},
   "outputs": [
    {
     "data": {
      "text/html": [
       "<div>\n",
       "<style scoped>\n",
       "    .dataframe tbody tr th:only-of-type {\n",
       "        vertical-align: middle;\n",
       "    }\n",
       "\n",
       "    .dataframe tbody tr th {\n",
       "        vertical-align: top;\n",
       "    }\n",
       "\n",
       "    .dataframe thead th {\n",
       "        text-align: right;\n",
       "    }\n",
       "</style>\n",
       "<table border=\"1\" class=\"dataframe\">\n",
       "  <thead>\n",
       "    <tr style=\"text-align: right;\">\n",
       "      <th></th>\n",
       "      <th>PassengerId</th>\n",
       "      <th>Survived</th>\n",
       "      <th>Pclass</th>\n",
       "      <th>Name</th>\n",
       "      <th>Sex</th>\n",
       "      <th>Age</th>\n",
       "      <th>SibSp</th>\n",
       "      <th>Parch</th>\n",
       "      <th>Ticket</th>\n",
       "      <th>Fare</th>\n",
       "      <th>Cabin</th>\n",
       "      <th>Embarked</th>\n",
       "    </tr>\n",
       "  </thead>\n",
       "  <tbody>\n",
       "    <tr>\n",
       "      <th>0</th>\n",
       "      <td>1</td>\n",
       "      <td>0</td>\n",
       "      <td>3</td>\n",
       "      <td>Braund, Mr. Owen Harris</td>\n",
       "      <td>male</td>\n",
       "      <td>22.0</td>\n",
       "      <td>1</td>\n",
       "      <td>0</td>\n",
       "      <td>A/5 21171</td>\n",
       "      <td>7.2500</td>\n",
       "      <td>NaN</td>\n",
       "      <td>S</td>\n",
       "    </tr>\n",
       "    <tr>\n",
       "      <th>1</th>\n",
       "      <td>2</td>\n",
       "      <td>1</td>\n",
       "      <td>1</td>\n",
       "      <td>Cumings, Mrs. John Bradley (Florence Briggs Th...</td>\n",
       "      <td>female</td>\n",
       "      <td>38.0</td>\n",
       "      <td>1</td>\n",
       "      <td>0</td>\n",
       "      <td>PC 17599</td>\n",
       "      <td>71.2833</td>\n",
       "      <td>C85</td>\n",
       "      <td>C</td>\n",
       "    </tr>\n",
       "    <tr>\n",
       "      <th>2</th>\n",
       "      <td>3</td>\n",
       "      <td>1</td>\n",
       "      <td>3</td>\n",
       "      <td>Heikkinen, Miss. Laina</td>\n",
       "      <td>female</td>\n",
       "      <td>26.0</td>\n",
       "      <td>0</td>\n",
       "      <td>0</td>\n",
       "      <td>STON/O2. 3101282</td>\n",
       "      <td>7.9250</td>\n",
       "      <td>NaN</td>\n",
       "      <td>S</td>\n",
       "    </tr>\n",
       "    <tr>\n",
       "      <th>3</th>\n",
       "      <td>4</td>\n",
       "      <td>1</td>\n",
       "      <td>1</td>\n",
       "      <td>Futrelle, Mrs. Jacques Heath (Lily May Peel)</td>\n",
       "      <td>female</td>\n",
       "      <td>35.0</td>\n",
       "      <td>1</td>\n",
       "      <td>0</td>\n",
       "      <td>113803</td>\n",
       "      <td>53.1000</td>\n",
       "      <td>C123</td>\n",
       "      <td>S</td>\n",
       "    </tr>\n",
       "    <tr>\n",
       "      <th>4</th>\n",
       "      <td>5</td>\n",
       "      <td>0</td>\n",
       "      <td>3</td>\n",
       "      <td>Allen, Mr. William Henry</td>\n",
       "      <td>male</td>\n",
       "      <td>35.0</td>\n",
       "      <td>0</td>\n",
       "      <td>0</td>\n",
       "      <td>373450</td>\n",
       "      <td>8.0500</td>\n",
       "      <td>NaN</td>\n",
       "      <td>S</td>\n",
       "    </tr>\n",
       "    <tr>\n",
       "      <th>...</th>\n",
       "      <td>...</td>\n",
       "      <td>...</td>\n",
       "      <td>...</td>\n",
       "      <td>...</td>\n",
       "      <td>...</td>\n",
       "      <td>...</td>\n",
       "      <td>...</td>\n",
       "      <td>...</td>\n",
       "      <td>...</td>\n",
       "      <td>...</td>\n",
       "      <td>...</td>\n",
       "      <td>...</td>\n",
       "    </tr>\n",
       "    <tr>\n",
       "      <th>886</th>\n",
       "      <td>887</td>\n",
       "      <td>0</td>\n",
       "      <td>2</td>\n",
       "      <td>Montvila, Rev. Juozas</td>\n",
       "      <td>male</td>\n",
       "      <td>27.0</td>\n",
       "      <td>0</td>\n",
       "      <td>0</td>\n",
       "      <td>211536</td>\n",
       "      <td>13.0000</td>\n",
       "      <td>NaN</td>\n",
       "      <td>S</td>\n",
       "    </tr>\n",
       "    <tr>\n",
       "      <th>887</th>\n",
       "      <td>888</td>\n",
       "      <td>1</td>\n",
       "      <td>1</td>\n",
       "      <td>Graham, Miss. Margaret Edith</td>\n",
       "      <td>female</td>\n",
       "      <td>19.0</td>\n",
       "      <td>0</td>\n",
       "      <td>0</td>\n",
       "      <td>112053</td>\n",
       "      <td>30.0000</td>\n",
       "      <td>B42</td>\n",
       "      <td>S</td>\n",
       "    </tr>\n",
       "    <tr>\n",
       "      <th>888</th>\n",
       "      <td>889</td>\n",
       "      <td>0</td>\n",
       "      <td>3</td>\n",
       "      <td>Johnston, Miss. Catherine Helen \"Carrie\"</td>\n",
       "      <td>female</td>\n",
       "      <td>NaN</td>\n",
       "      <td>1</td>\n",
       "      <td>2</td>\n",
       "      <td>W./C. 6607</td>\n",
       "      <td>23.4500</td>\n",
       "      <td>NaN</td>\n",
       "      <td>S</td>\n",
       "    </tr>\n",
       "    <tr>\n",
       "      <th>889</th>\n",
       "      <td>890</td>\n",
       "      <td>1</td>\n",
       "      <td>1</td>\n",
       "      <td>Behr, Mr. Karl Howell</td>\n",
       "      <td>male</td>\n",
       "      <td>26.0</td>\n",
       "      <td>0</td>\n",
       "      <td>0</td>\n",
       "      <td>111369</td>\n",
       "      <td>30.0000</td>\n",
       "      <td>C148</td>\n",
       "      <td>C</td>\n",
       "    </tr>\n",
       "    <tr>\n",
       "      <th>890</th>\n",
       "      <td>891</td>\n",
       "      <td>0</td>\n",
       "      <td>3</td>\n",
       "      <td>Dooley, Mr. Patrick</td>\n",
       "      <td>male</td>\n",
       "      <td>32.0</td>\n",
       "      <td>0</td>\n",
       "      <td>0</td>\n",
       "      <td>370376</td>\n",
       "      <td>7.7500</td>\n",
       "      <td>NaN</td>\n",
       "      <td>Q</td>\n",
       "    </tr>\n",
       "  </tbody>\n",
       "</table>\n",
       "<p>891 rows × 12 columns</p>\n",
       "</div>"
      ],
      "text/plain": [
       "     PassengerId  Survived  Pclass  \\\n",
       "0              1         0       3   \n",
       "1              2         1       1   \n",
       "2              3         1       3   \n",
       "3              4         1       1   \n",
       "4              5         0       3   \n",
       "..           ...       ...     ...   \n",
       "886          887         0       2   \n",
       "887          888         1       1   \n",
       "888          889         0       3   \n",
       "889          890         1       1   \n",
       "890          891         0       3   \n",
       "\n",
       "                                                  Name     Sex   Age  SibSp  \\\n",
       "0                              Braund, Mr. Owen Harris    male  22.0      1   \n",
       "1    Cumings, Mrs. John Bradley (Florence Briggs Th...  female  38.0      1   \n",
       "2                               Heikkinen, Miss. Laina  female  26.0      0   \n",
       "3         Futrelle, Mrs. Jacques Heath (Lily May Peel)  female  35.0      1   \n",
       "4                             Allen, Mr. William Henry    male  35.0      0   \n",
       "..                                                 ...     ...   ...    ...   \n",
       "886                              Montvila, Rev. Juozas    male  27.0      0   \n",
       "887                       Graham, Miss. Margaret Edith  female  19.0      0   \n",
       "888           Johnston, Miss. Catherine Helen \"Carrie\"  female   NaN      1   \n",
       "889                              Behr, Mr. Karl Howell    male  26.0      0   \n",
       "890                                Dooley, Mr. Patrick    male  32.0      0   \n",
       "\n",
       "     Parch            Ticket     Fare Cabin Embarked  \n",
       "0        0         A/5 21171   7.2500   NaN        S  \n",
       "1        0          PC 17599  71.2833   C85        C  \n",
       "2        0  STON/O2. 3101282   7.9250   NaN        S  \n",
       "3        0            113803  53.1000  C123        S  \n",
       "4        0            373450   8.0500   NaN        S  \n",
       "..     ...               ...      ...   ...      ...  \n",
       "886      0            211536  13.0000   NaN        S  \n",
       "887      0            112053  30.0000   B42        S  \n",
       "888      2        W./C. 6607  23.4500   NaN        S  \n",
       "889      0            111369  30.0000  C148        C  \n",
       "890      0            370376   7.7500   NaN        Q  \n",
       "\n",
       "[891 rows x 12 columns]"
      ]
     },
     "execution_count": 3,
     "metadata": {},
     "output_type": "execute_result"
    }
   ],
   "source": [
    "train"
   ]
  },
  {
   "cell_type": "markdown",
   "metadata": {},
   "source": [
    "### Analisis exploratorio y limpieza de datos."
   ]
  },
  {
   "cell_type": "code",
   "execution_count": 4,
   "metadata": {},
   "outputs": [
    {
     "data": {
      "text/html": [
       "<div>\n",
       "<style scoped>\n",
       "    .dataframe tbody tr th:only-of-type {\n",
       "        vertical-align: middle;\n",
       "    }\n",
       "\n",
       "    .dataframe tbody tr th {\n",
       "        vertical-align: top;\n",
       "    }\n",
       "\n",
       "    .dataframe thead th {\n",
       "        text-align: right;\n",
       "    }\n",
       "</style>\n",
       "<table border=\"1\" class=\"dataframe\">\n",
       "  <thead>\n",
       "    <tr style=\"text-align: right;\">\n",
       "      <th></th>\n",
       "      <th>PassengerId</th>\n",
       "      <th>Survived</th>\n",
       "      <th>Pclass</th>\n",
       "      <th>Name</th>\n",
       "      <th>Sex</th>\n",
       "      <th>Age</th>\n",
       "      <th>SibSp</th>\n",
       "      <th>Parch</th>\n",
       "      <th>Ticket</th>\n",
       "      <th>Fare</th>\n",
       "      <th>Cabin</th>\n",
       "      <th>Embarked</th>\n",
       "    </tr>\n",
       "  </thead>\n",
       "  <tbody>\n",
       "    <tr>\n",
       "      <th>0</th>\n",
       "      <td>1</td>\n",
       "      <td>0.0</td>\n",
       "      <td>3</td>\n",
       "      <td>Braund, Mr. Owen Harris</td>\n",
       "      <td>male</td>\n",
       "      <td>22.0</td>\n",
       "      <td>1</td>\n",
       "      <td>0</td>\n",
       "      <td>A/5 21171</td>\n",
       "      <td>7.2500</td>\n",
       "      <td>NaN</td>\n",
       "      <td>S</td>\n",
       "    </tr>\n",
       "    <tr>\n",
       "      <th>1</th>\n",
       "      <td>2</td>\n",
       "      <td>1.0</td>\n",
       "      <td>1</td>\n",
       "      <td>Cumings, Mrs. John Bradley (Florence Briggs Th...</td>\n",
       "      <td>female</td>\n",
       "      <td>38.0</td>\n",
       "      <td>1</td>\n",
       "      <td>0</td>\n",
       "      <td>PC 17599</td>\n",
       "      <td>71.2833</td>\n",
       "      <td>C85</td>\n",
       "      <td>C</td>\n",
       "    </tr>\n",
       "    <tr>\n",
       "      <th>2</th>\n",
       "      <td>3</td>\n",
       "      <td>1.0</td>\n",
       "      <td>3</td>\n",
       "      <td>Heikkinen, Miss. Laina</td>\n",
       "      <td>female</td>\n",
       "      <td>26.0</td>\n",
       "      <td>0</td>\n",
       "      <td>0</td>\n",
       "      <td>STON/O2. 3101282</td>\n",
       "      <td>7.9250</td>\n",
       "      <td>NaN</td>\n",
       "      <td>S</td>\n",
       "    </tr>\n",
       "    <tr>\n",
       "      <th>3</th>\n",
       "      <td>4</td>\n",
       "      <td>1.0</td>\n",
       "      <td>1</td>\n",
       "      <td>Futrelle, Mrs. Jacques Heath (Lily May Peel)</td>\n",
       "      <td>female</td>\n",
       "      <td>35.0</td>\n",
       "      <td>1</td>\n",
       "      <td>0</td>\n",
       "      <td>113803</td>\n",
       "      <td>53.1000</td>\n",
       "      <td>C123</td>\n",
       "      <td>S</td>\n",
       "    </tr>\n",
       "    <tr>\n",
       "      <th>4</th>\n",
       "      <td>5</td>\n",
       "      <td>0.0</td>\n",
       "      <td>3</td>\n",
       "      <td>Allen, Mr. William Henry</td>\n",
       "      <td>male</td>\n",
       "      <td>35.0</td>\n",
       "      <td>0</td>\n",
       "      <td>0</td>\n",
       "      <td>373450</td>\n",
       "      <td>8.0500</td>\n",
       "      <td>NaN</td>\n",
       "      <td>S</td>\n",
       "    </tr>\n",
       "  </tbody>\n",
       "</table>\n",
       "</div>"
      ],
      "text/plain": [
       "   PassengerId  Survived  Pclass  \\\n",
       "0            1       0.0       3   \n",
       "1            2       1.0       1   \n",
       "2            3       1.0       3   \n",
       "3            4       1.0       1   \n",
       "4            5       0.0       3   \n",
       "\n",
       "                                                Name     Sex   Age  SibSp  \\\n",
       "0                            Braund, Mr. Owen Harris    male  22.0      1   \n",
       "1  Cumings, Mrs. John Bradley (Florence Briggs Th...  female  38.0      1   \n",
       "2                             Heikkinen, Miss. Laina  female  26.0      0   \n",
       "3       Futrelle, Mrs. Jacques Heath (Lily May Peel)  female  35.0      1   \n",
       "4                           Allen, Mr. William Henry    male  35.0      0   \n",
       "\n",
       "   Parch            Ticket     Fare Cabin Embarked  \n",
       "0      0         A/5 21171   7.2500   NaN        S  \n",
       "1      0          PC 17599  71.2833   C85        C  \n",
       "2      0  STON/O2. 3101282   7.9250   NaN        S  \n",
       "3      0            113803  53.1000  C123        S  \n",
       "4      0            373450   8.0500   NaN        S  "
      ]
     },
     "execution_count": 4,
     "metadata": {},
     "output_type": "execute_result"
    }
   ],
   "source": [
    "#train.head()\n",
    "df.head()"
   ]
  },
  {
   "cell_type": "code",
   "execution_count": 5,
   "metadata": {},
   "outputs": [
    {
     "data": {
      "text/html": [
       "<div>\n",
       "<style scoped>\n",
       "    .dataframe tbody tr th:only-of-type {\n",
       "        vertical-align: middle;\n",
       "    }\n",
       "\n",
       "    .dataframe tbody tr th {\n",
       "        vertical-align: top;\n",
       "    }\n",
       "\n",
       "    .dataframe thead th {\n",
       "        text-align: right;\n",
       "    }\n",
       "</style>\n",
       "<table border=\"1\" class=\"dataframe\">\n",
       "  <thead>\n",
       "    <tr style=\"text-align: right;\">\n",
       "      <th></th>\n",
       "      <th>PassengerId</th>\n",
       "      <th>Pclass</th>\n",
       "      <th>Name</th>\n",
       "      <th>Sex</th>\n",
       "      <th>Age</th>\n",
       "      <th>SibSp</th>\n",
       "      <th>Parch</th>\n",
       "      <th>Ticket</th>\n",
       "      <th>Fare</th>\n",
       "      <th>Cabin</th>\n",
       "      <th>Embarked</th>\n",
       "    </tr>\n",
       "  </thead>\n",
       "  <tbody>\n",
       "    <tr>\n",
       "      <th>0</th>\n",
       "      <td>892</td>\n",
       "      <td>3</td>\n",
       "      <td>Kelly, Mr. James</td>\n",
       "      <td>male</td>\n",
       "      <td>34.5</td>\n",
       "      <td>0</td>\n",
       "      <td>0</td>\n",
       "      <td>330911</td>\n",
       "      <td>7.8292</td>\n",
       "      <td>NaN</td>\n",
       "      <td>Q</td>\n",
       "    </tr>\n",
       "    <tr>\n",
       "      <th>1</th>\n",
       "      <td>893</td>\n",
       "      <td>3</td>\n",
       "      <td>Wilkes, Mrs. James (Ellen Needs)</td>\n",
       "      <td>female</td>\n",
       "      <td>47.0</td>\n",
       "      <td>1</td>\n",
       "      <td>0</td>\n",
       "      <td>363272</td>\n",
       "      <td>7.0000</td>\n",
       "      <td>NaN</td>\n",
       "      <td>S</td>\n",
       "    </tr>\n",
       "    <tr>\n",
       "      <th>2</th>\n",
       "      <td>894</td>\n",
       "      <td>2</td>\n",
       "      <td>Myles, Mr. Thomas Francis</td>\n",
       "      <td>male</td>\n",
       "      <td>62.0</td>\n",
       "      <td>0</td>\n",
       "      <td>0</td>\n",
       "      <td>240276</td>\n",
       "      <td>9.6875</td>\n",
       "      <td>NaN</td>\n",
       "      <td>Q</td>\n",
       "    </tr>\n",
       "    <tr>\n",
       "      <th>3</th>\n",
       "      <td>895</td>\n",
       "      <td>3</td>\n",
       "      <td>Wirz, Mr. Albert</td>\n",
       "      <td>male</td>\n",
       "      <td>27.0</td>\n",
       "      <td>0</td>\n",
       "      <td>0</td>\n",
       "      <td>315154</td>\n",
       "      <td>8.6625</td>\n",
       "      <td>NaN</td>\n",
       "      <td>S</td>\n",
       "    </tr>\n",
       "    <tr>\n",
       "      <th>4</th>\n",
       "      <td>896</td>\n",
       "      <td>3</td>\n",
       "      <td>Hirvonen, Mrs. Alexander (Helga E Lindqvist)</td>\n",
       "      <td>female</td>\n",
       "      <td>22.0</td>\n",
       "      <td>1</td>\n",
       "      <td>1</td>\n",
       "      <td>3101298</td>\n",
       "      <td>12.2875</td>\n",
       "      <td>NaN</td>\n",
       "      <td>S</td>\n",
       "    </tr>\n",
       "  </tbody>\n",
       "</table>\n",
       "</div>"
      ],
      "text/plain": [
       "   PassengerId  Pclass                                          Name     Sex  \\\n",
       "0          892       3                              Kelly, Mr. James    male   \n",
       "1          893       3              Wilkes, Mrs. James (Ellen Needs)  female   \n",
       "2          894       2                     Myles, Mr. Thomas Francis    male   \n",
       "3          895       3                              Wirz, Mr. Albert    male   \n",
       "4          896       3  Hirvonen, Mrs. Alexander (Helga E Lindqvist)  female   \n",
       "\n",
       "    Age  SibSp  Parch   Ticket     Fare Cabin Embarked  \n",
       "0  34.5      0      0   330911   7.8292   NaN        Q  \n",
       "1  47.0      1      0   363272   7.0000   NaN        S  \n",
       "2  62.0      0      0   240276   9.6875   NaN        Q  \n",
       "3  27.0      0      0   315154   8.6625   NaN        S  \n",
       "4  22.0      1      1  3101298  12.2875   NaN        S  "
      ]
     },
     "execution_count": 5,
     "metadata": {},
     "output_type": "execute_result"
    }
   ],
   "source": [
    "test.head()"
   ]
  },
  {
   "cell_type": "markdown",
   "metadata": {},
   "source": [
    "Se empezará analizando los valores nulos de los datos"
   ]
  },
  {
   "cell_type": "code",
   "execution_count": 6,
   "metadata": {},
   "outputs": [
    {
     "name": "stdout",
     "output_type": "stream",
     "text": [
      "Valores nulos Train:\n",
      " PassengerId       0\n",
      "Survived        418\n",
      "Pclass            0\n",
      "Name              0\n",
      "Sex               0\n",
      "Age             263\n",
      "SibSp             0\n",
      "Parch             0\n",
      "Ticket            0\n",
      "Fare              1\n",
      "Cabin          1014\n",
      "Embarked          2\n",
      "dtype: int64\n"
     ]
    }
   ],
   "source": [
    "print(\"Valores nulos Train:\\n\", df.isnull().sum())"
   ]
  },
  {
   "cell_type": "code",
   "execution_count": 7,
   "metadata": {},
   "outputs": [
    {
     "name": "stdout",
     "output_type": "stream",
     "text": [
      "Valores nulos Test\n",
      " PassengerId      0\n",
      "Pclass           0\n",
      "Name             0\n",
      "Sex              0\n",
      "Age             86\n",
      "SibSp            0\n",
      "Parch            0\n",
      "Ticket           0\n",
      "Fare             1\n",
      "Cabin          327\n",
      "Embarked         0\n",
      "dtype: int64\n"
     ]
    }
   ],
   "source": [
    "print(\"Valores nulos Test\\n\", test.isnull().sum())"
   ]
  },
  {
   "cell_type": "markdown",
   "metadata": {},
   "source": [
    "Se puede apreciar que los datos con mayor cantidad de valores nulos son la edad (Age) y la cabina (Cabin). \n",
    "\n",
    "Debido a que los valores de cabina son los que mayor cantidad de nulos tienen y sería más difícil *rellenar*, por lo que se decidió retirar dichos datos.\n",
    "\n",
    "También se retiraron los identificadores (Passenger ID) ya que son variables independientes que solamente llevan el registro de la base de datos."
   ]
  },
  {
   "cell_type": "code",
   "execution_count": 8,
   "metadata": {},
   "outputs": [],
   "source": [
    "train = train.drop([\"Cabin\",\"PassengerId\"],axis=1)\n",
    "test = test.drop([\"Cabin\",\"PassengerId\"],axis=1)\n",
    "df = df.drop([\"Cabin\", \"PassengerId\"],axis=1)"
   ]
  },
  {
   "cell_type": "markdown",
   "metadata": {},
   "source": [
    "A partir de ahora solo se tomarán en cuenta los datos de entrenamiento, puesto que si se tienen que realizar adecuaciones en los de prueba se podrán realizar más adelante."
   ]
  },
  {
   "cell_type": "code",
   "execution_count": 9,
   "metadata": {},
   "outputs": [
    {
     "data": {
      "text/html": [
       "<div>\n",
       "<style scoped>\n",
       "    .dataframe tbody tr th:only-of-type {\n",
       "        vertical-align: middle;\n",
       "    }\n",
       "\n",
       "    .dataframe tbody tr th {\n",
       "        vertical-align: top;\n",
       "    }\n",
       "\n",
       "    .dataframe thead th {\n",
       "        text-align: right;\n",
       "    }\n",
       "</style>\n",
       "<table border=\"1\" class=\"dataframe\">\n",
       "  <thead>\n",
       "    <tr style=\"text-align: right;\">\n",
       "      <th></th>\n",
       "      <th>Survived</th>\n",
       "      <th>Pclass</th>\n",
       "      <th>Name</th>\n",
       "      <th>Sex</th>\n",
       "      <th>Age</th>\n",
       "      <th>SibSp</th>\n",
       "      <th>Parch</th>\n",
       "      <th>Ticket</th>\n",
       "      <th>Fare</th>\n",
       "      <th>Embarked</th>\n",
       "    </tr>\n",
       "  </thead>\n",
       "  <tbody>\n",
       "    <tr>\n",
       "      <th>0</th>\n",
       "      <td>0</td>\n",
       "      <td>3</td>\n",
       "      <td>Braund, Mr. Owen Harris</td>\n",
       "      <td>male</td>\n",
       "      <td>22.0</td>\n",
       "      <td>1</td>\n",
       "      <td>0</td>\n",
       "      <td>A/5 21171</td>\n",
       "      <td>7.2500</td>\n",
       "      <td>S</td>\n",
       "    </tr>\n",
       "    <tr>\n",
       "      <th>1</th>\n",
       "      <td>1</td>\n",
       "      <td>1</td>\n",
       "      <td>Cumings, Mrs. John Bradley (Florence Briggs Th...</td>\n",
       "      <td>female</td>\n",
       "      <td>38.0</td>\n",
       "      <td>1</td>\n",
       "      <td>0</td>\n",
       "      <td>PC 17599</td>\n",
       "      <td>71.2833</td>\n",
       "      <td>C</td>\n",
       "    </tr>\n",
       "    <tr>\n",
       "      <th>2</th>\n",
       "      <td>1</td>\n",
       "      <td>3</td>\n",
       "      <td>Heikkinen, Miss. Laina</td>\n",
       "      <td>female</td>\n",
       "      <td>26.0</td>\n",
       "      <td>0</td>\n",
       "      <td>0</td>\n",
       "      <td>STON/O2. 3101282</td>\n",
       "      <td>7.9250</td>\n",
       "      <td>S</td>\n",
       "    </tr>\n",
       "    <tr>\n",
       "      <th>3</th>\n",
       "      <td>1</td>\n",
       "      <td>1</td>\n",
       "      <td>Futrelle, Mrs. Jacques Heath (Lily May Peel)</td>\n",
       "      <td>female</td>\n",
       "      <td>35.0</td>\n",
       "      <td>1</td>\n",
       "      <td>0</td>\n",
       "      <td>113803</td>\n",
       "      <td>53.1000</td>\n",
       "      <td>S</td>\n",
       "    </tr>\n",
       "    <tr>\n",
       "      <th>4</th>\n",
       "      <td>0</td>\n",
       "      <td>3</td>\n",
       "      <td>Allen, Mr. William Henry</td>\n",
       "      <td>male</td>\n",
       "      <td>35.0</td>\n",
       "      <td>0</td>\n",
       "      <td>0</td>\n",
       "      <td>373450</td>\n",
       "      <td>8.0500</td>\n",
       "      <td>S</td>\n",
       "    </tr>\n",
       "    <tr>\n",
       "      <th>5</th>\n",
       "      <td>0</td>\n",
       "      <td>3</td>\n",
       "      <td>Moran, Mr. James</td>\n",
       "      <td>male</td>\n",
       "      <td>NaN</td>\n",
       "      <td>0</td>\n",
       "      <td>0</td>\n",
       "      <td>330877</td>\n",
       "      <td>8.4583</td>\n",
       "      <td>Q</td>\n",
       "    </tr>\n",
       "    <tr>\n",
       "      <th>6</th>\n",
       "      <td>0</td>\n",
       "      <td>1</td>\n",
       "      <td>McCarthy, Mr. Timothy J</td>\n",
       "      <td>male</td>\n",
       "      <td>54.0</td>\n",
       "      <td>0</td>\n",
       "      <td>0</td>\n",
       "      <td>17463</td>\n",
       "      <td>51.8625</td>\n",
       "      <td>S</td>\n",
       "    </tr>\n",
       "    <tr>\n",
       "      <th>7</th>\n",
       "      <td>0</td>\n",
       "      <td>3</td>\n",
       "      <td>Palsson, Master. Gosta Leonard</td>\n",
       "      <td>male</td>\n",
       "      <td>2.0</td>\n",
       "      <td>3</td>\n",
       "      <td>1</td>\n",
       "      <td>349909</td>\n",
       "      <td>21.0750</td>\n",
       "      <td>S</td>\n",
       "    </tr>\n",
       "    <tr>\n",
       "      <th>8</th>\n",
       "      <td>1</td>\n",
       "      <td>3</td>\n",
       "      <td>Johnson, Mrs. Oscar W (Elisabeth Vilhelmina Berg)</td>\n",
       "      <td>female</td>\n",
       "      <td>27.0</td>\n",
       "      <td>0</td>\n",
       "      <td>2</td>\n",
       "      <td>347742</td>\n",
       "      <td>11.1333</td>\n",
       "      <td>S</td>\n",
       "    </tr>\n",
       "    <tr>\n",
       "      <th>9</th>\n",
       "      <td>1</td>\n",
       "      <td>2</td>\n",
       "      <td>Nasser, Mrs. Nicholas (Adele Achem)</td>\n",
       "      <td>female</td>\n",
       "      <td>14.0</td>\n",
       "      <td>1</td>\n",
       "      <td>0</td>\n",
       "      <td>237736</td>\n",
       "      <td>30.0708</td>\n",
       "      <td>C</td>\n",
       "    </tr>\n",
       "    <tr>\n",
       "      <th>10</th>\n",
       "      <td>1</td>\n",
       "      <td>3</td>\n",
       "      <td>Sandstrom, Miss. Marguerite Rut</td>\n",
       "      <td>female</td>\n",
       "      <td>4.0</td>\n",
       "      <td>1</td>\n",
       "      <td>1</td>\n",
       "      <td>PP 9549</td>\n",
       "      <td>16.7000</td>\n",
       "      <td>S</td>\n",
       "    </tr>\n",
       "    <tr>\n",
       "      <th>11</th>\n",
       "      <td>1</td>\n",
       "      <td>1</td>\n",
       "      <td>Bonnell, Miss. Elizabeth</td>\n",
       "      <td>female</td>\n",
       "      <td>58.0</td>\n",
       "      <td>0</td>\n",
       "      <td>0</td>\n",
       "      <td>113783</td>\n",
       "      <td>26.5500</td>\n",
       "      <td>S</td>\n",
       "    </tr>\n",
       "    <tr>\n",
       "      <th>12</th>\n",
       "      <td>0</td>\n",
       "      <td>3</td>\n",
       "      <td>Saundercock, Mr. William Henry</td>\n",
       "      <td>male</td>\n",
       "      <td>20.0</td>\n",
       "      <td>0</td>\n",
       "      <td>0</td>\n",
       "      <td>A/5. 2151</td>\n",
       "      <td>8.0500</td>\n",
       "      <td>S</td>\n",
       "    </tr>\n",
       "    <tr>\n",
       "      <th>13</th>\n",
       "      <td>0</td>\n",
       "      <td>3</td>\n",
       "      <td>Andersson, Mr. Anders Johan</td>\n",
       "      <td>male</td>\n",
       "      <td>39.0</td>\n",
       "      <td>1</td>\n",
       "      <td>5</td>\n",
       "      <td>347082</td>\n",
       "      <td>31.2750</td>\n",
       "      <td>S</td>\n",
       "    </tr>\n",
       "    <tr>\n",
       "      <th>14</th>\n",
       "      <td>0</td>\n",
       "      <td>3</td>\n",
       "      <td>Vestrom, Miss. Hulda Amanda Adolfina</td>\n",
       "      <td>female</td>\n",
       "      <td>14.0</td>\n",
       "      <td>0</td>\n",
       "      <td>0</td>\n",
       "      <td>350406</td>\n",
       "      <td>7.8542</td>\n",
       "      <td>S</td>\n",
       "    </tr>\n",
       "    <tr>\n",
       "      <th>15</th>\n",
       "      <td>1</td>\n",
       "      <td>2</td>\n",
       "      <td>Hewlett, Mrs. (Mary D Kingcome)</td>\n",
       "      <td>female</td>\n",
       "      <td>55.0</td>\n",
       "      <td>0</td>\n",
       "      <td>0</td>\n",
       "      <td>248706</td>\n",
       "      <td>16.0000</td>\n",
       "      <td>S</td>\n",
       "    </tr>\n",
       "    <tr>\n",
       "      <th>16</th>\n",
       "      <td>0</td>\n",
       "      <td>3</td>\n",
       "      <td>Rice, Master. Eugene</td>\n",
       "      <td>male</td>\n",
       "      <td>2.0</td>\n",
       "      <td>4</td>\n",
       "      <td>1</td>\n",
       "      <td>382652</td>\n",
       "      <td>29.1250</td>\n",
       "      <td>Q</td>\n",
       "    </tr>\n",
       "    <tr>\n",
       "      <th>17</th>\n",
       "      <td>1</td>\n",
       "      <td>2</td>\n",
       "      <td>Williams, Mr. Charles Eugene</td>\n",
       "      <td>male</td>\n",
       "      <td>NaN</td>\n",
       "      <td>0</td>\n",
       "      <td>0</td>\n",
       "      <td>244373</td>\n",
       "      <td>13.0000</td>\n",
       "      <td>S</td>\n",
       "    </tr>\n",
       "    <tr>\n",
       "      <th>18</th>\n",
       "      <td>0</td>\n",
       "      <td>3</td>\n",
       "      <td>Vander Planke, Mrs. Julius (Emelia Maria Vande...</td>\n",
       "      <td>female</td>\n",
       "      <td>31.0</td>\n",
       "      <td>1</td>\n",
       "      <td>0</td>\n",
       "      <td>345763</td>\n",
       "      <td>18.0000</td>\n",
       "      <td>S</td>\n",
       "    </tr>\n",
       "    <tr>\n",
       "      <th>19</th>\n",
       "      <td>1</td>\n",
       "      <td>3</td>\n",
       "      <td>Masselmani, Mrs. Fatima</td>\n",
       "      <td>female</td>\n",
       "      <td>NaN</td>\n",
       "      <td>0</td>\n",
       "      <td>0</td>\n",
       "      <td>2649</td>\n",
       "      <td>7.2250</td>\n",
       "      <td>C</td>\n",
       "    </tr>\n",
       "  </tbody>\n",
       "</table>\n",
       "</div>"
      ],
      "text/plain": [
       "    Survived  Pclass                                               Name  \\\n",
       "0          0       3                            Braund, Mr. Owen Harris   \n",
       "1          1       1  Cumings, Mrs. John Bradley (Florence Briggs Th...   \n",
       "2          1       3                             Heikkinen, Miss. Laina   \n",
       "3          1       1       Futrelle, Mrs. Jacques Heath (Lily May Peel)   \n",
       "4          0       3                           Allen, Mr. William Henry   \n",
       "5          0       3                                   Moran, Mr. James   \n",
       "6          0       1                            McCarthy, Mr. Timothy J   \n",
       "7          0       3                     Palsson, Master. Gosta Leonard   \n",
       "8          1       3  Johnson, Mrs. Oscar W (Elisabeth Vilhelmina Berg)   \n",
       "9          1       2                Nasser, Mrs. Nicholas (Adele Achem)   \n",
       "10         1       3                    Sandstrom, Miss. Marguerite Rut   \n",
       "11         1       1                           Bonnell, Miss. Elizabeth   \n",
       "12         0       3                     Saundercock, Mr. William Henry   \n",
       "13         0       3                        Andersson, Mr. Anders Johan   \n",
       "14         0       3               Vestrom, Miss. Hulda Amanda Adolfina   \n",
       "15         1       2                   Hewlett, Mrs. (Mary D Kingcome)    \n",
       "16         0       3                               Rice, Master. Eugene   \n",
       "17         1       2                       Williams, Mr. Charles Eugene   \n",
       "18         0       3  Vander Planke, Mrs. Julius (Emelia Maria Vande...   \n",
       "19         1       3                            Masselmani, Mrs. Fatima   \n",
       "\n",
       "       Sex   Age  SibSp  Parch            Ticket     Fare Embarked  \n",
       "0     male  22.0      1      0         A/5 21171   7.2500        S  \n",
       "1   female  38.0      1      0          PC 17599  71.2833        C  \n",
       "2   female  26.0      0      0  STON/O2. 3101282   7.9250        S  \n",
       "3   female  35.0      1      0            113803  53.1000        S  \n",
       "4     male  35.0      0      0            373450   8.0500        S  \n",
       "5     male   NaN      0      0            330877   8.4583        Q  \n",
       "6     male  54.0      0      0             17463  51.8625        S  \n",
       "7     male   2.0      3      1            349909  21.0750        S  \n",
       "8   female  27.0      0      2            347742  11.1333        S  \n",
       "9   female  14.0      1      0            237736  30.0708        C  \n",
       "10  female   4.0      1      1           PP 9549  16.7000        S  \n",
       "11  female  58.0      0      0            113783  26.5500        S  \n",
       "12    male  20.0      0      0         A/5. 2151   8.0500        S  \n",
       "13    male  39.0      1      5            347082  31.2750        S  \n",
       "14  female  14.0      0      0            350406   7.8542        S  \n",
       "15  female  55.0      0      0            248706  16.0000        S  \n",
       "16    male   2.0      4      1            382652  29.1250        Q  \n",
       "17    male   NaN      0      0            244373  13.0000        S  \n",
       "18  female  31.0      1      0            345763  18.0000        S  \n",
       "19  female   NaN      0      0              2649   7.2250        C  "
      ]
     },
     "execution_count": 9,
     "metadata": {},
     "output_type": "execute_result"
    }
   ],
   "source": [
    "train.head(20)"
   ]
  },
  {
   "cell_type": "code",
   "execution_count": 10,
   "metadata": {},
   "outputs": [
    {
     "data": {
      "text/plain": [
       "Survived    418\n",
       "Pclass        0\n",
       "Name          0\n",
       "Sex           0\n",
       "Age         263\n",
       "SibSp         0\n",
       "Parch         0\n",
       "Ticket        0\n",
       "Fare          1\n",
       "Embarked      2\n",
       "dtype: int64"
      ]
     },
     "execution_count": 10,
     "metadata": {},
     "output_type": "execute_result"
    }
   ],
   "source": [
    "df.isnull().sum()"
   ]
  },
  {
   "cell_type": "markdown",
   "metadata": {},
   "source": [
    "Se puede notar que hay 2 datos faltantes en el puerto de embarcamiento (Embarked), por lo que se tiene que pensar en qué es lo que se puede hacer para poder *completarlos*. \n",
    "\n",
    "Observando una gráfica de éstos valores:"
   ]
  },
  {
   "cell_type": "code",
   "execution_count": 11,
   "metadata": {},
   "outputs": [
    {
     "data": {
      "application/vnd.plotly.v1+json": {
       "config": {
        "plotlyServerURL": "https://plot.ly"
       },
       "data": [
        {
         "alignmentgroup": "True",
         "bingroup": "x",
         "hovertemplate": "Embarked=%{x}<br>count=%{y}<extra></extra>",
         "legendgroup": "",
         "marker": {
          "color": "#636efa",
          "pattern": {
           "shape": ""
          }
         },
         "name": "",
         "offsetgroup": "",
         "orientation": "v",
         "showlegend": false,
         "type": "histogram",
         "x": [
          "S",
          "C",
          "S",
          "S",
          "S",
          "Q",
          "S",
          "S",
          "S",
          "C",
          "S",
          "S",
          "S",
          "S",
          "S",
          "S",
          "Q",
          "S",
          "S",
          "C",
          "S",
          "S",
          "Q",
          "S",
          "S",
          "S",
          "C",
          "S",
          "Q",
          "S",
          "C",
          "C",
          "Q",
          "S",
          "C",
          "S",
          "C",
          "S",
          "S",
          "C",
          "S",
          "S",
          "C",
          "C",
          "Q",
          "S",
          "Q",
          "Q",
          "C",
          "S",
          "S",
          "S",
          "C",
          "S",
          "C",
          "S",
          "S",
          "C",
          "S",
          "S",
          "C",
          null,
          "S",
          "S",
          "C",
          "C",
          "S",
          "S",
          "S",
          "S",
          "S",
          "S",
          "S",
          "C",
          "S",
          "S",
          "S",
          "S",
          "S",
          "S",
          "S",
          "S",
          "Q",
          "S",
          "S",
          "S",
          "S",
          "S",
          "S",
          "S",
          "S",
          "S",
          "S",
          "S",
          "S",
          "S",
          "C",
          "C",
          "S",
          "S",
          "S",
          "S",
          "S",
          "S",
          "S",
          "S",
          "S",
          "S",
          "S",
          "Q",
          "S",
          "C",
          "S",
          "S",
          "C",
          "S",
          "Q",
          "S",
          "C",
          "S",
          "S",
          "S",
          "C",
          "S",
          "S",
          "C",
          "Q",
          "S",
          "C",
          "S",
          "C",
          "S",
          "S",
          "S",
          "S",
          "C",
          "S",
          "S",
          "S",
          "C",
          "C",
          "S",
          "S",
          "Q",
          "S",
          "S",
          "S",
          "S",
          "S",
          "S",
          "S",
          "S",
          "S",
          "S",
          "S",
          "C",
          "Q",
          "S",
          "S",
          "S",
          "S",
          "S",
          "S",
          "S",
          "S",
          "S",
          "S",
          "S",
          "S",
          "S",
          "S",
          "Q",
          "S",
          "S",
          "C",
          "S",
          "S",
          "C",
          "S",
          "S",
          "S",
          "C",
          "S",
          "S",
          "S",
          "S",
          "Q",
          "S",
          "Q",
          "S",
          "S",
          "S",
          "S",
          "S",
          "C",
          "C",
          "Q",
          "S",
          "Q",
          "S",
          "S",
          "S",
          "S",
          "C",
          "S",
          "S",
          "S",
          "C",
          "Q",
          "C",
          "S",
          "S",
          "S",
          "S",
          "Q",
          "C",
          "S",
          "S",
          "C",
          "S",
          "S",
          "S",
          "S",
          "S",
          "S",
          "S",
          "S",
          "S",
          "S",
          "S",
          "S",
          "S",
          "S",
          "S",
          "S",
          "S",
          "S",
          "S",
          "S",
          "S",
          "C",
          "Q",
          "S",
          "S",
          "C",
          "Q",
          "S",
          "S",
          "S",
          "S",
          "S",
          "S",
          "S",
          "S",
          "S",
          "C",
          "C",
          "S",
          "C",
          "S",
          "Q",
          "S",
          "S",
          "S",
          "Q",
          "S",
          "S",
          "S",
          "S",
          "S",
          "S",
          "S",
          "S",
          "C",
          "Q",
          "S",
          "S",
          "S",
          "Q",
          "S",
          "Q",
          "S",
          "S",
          "S",
          "S",
          "C",
          "S",
          "S",
          "S",
          "Q",
          "S",
          "C",
          "C",
          "S",
          "S",
          "C",
          "C",
          "S",
          "S",
          "C",
          "Q",
          "Q",
          "S",
          "Q",
          "S",
          "S",
          "C",
          "C",
          "C",
          "C",
          "C",
          "C",
          "S",
          "S",
          "S",
          "S",
          "S",
          "S",
          "S",
          "C",
          "S",
          "S",
          "Q",
          "S",
          "S",
          "C",
          "S",
          "S",
          "S",
          "C",
          "Q",
          "S",
          "S",
          "S",
          "S",
          "S",
          "S",
          "C",
          "S",
          "S",
          "S",
          "S",
          "S",
          "S",
          "S",
          "S",
          "S",
          "S",
          "S",
          "S",
          "S",
          "S",
          "C",
          "S",
          "C",
          "S",
          "S",
          "S",
          "Q",
          "Q",
          "S",
          "C",
          "C",
          "S",
          "Q",
          "S",
          "C",
          "C",
          "Q",
          "C",
          "C",
          "S",
          "S",
          "C",
          "S",
          "C",
          "S",
          "C",
          "C",
          "S",
          "C",
          "C",
          "S",
          "S",
          "S",
          "S",
          "S",
          "S",
          "Q",
          "C",
          "S",
          "S",
          "S",
          "C",
          "S",
          "S",
          "S",
          "S",
          "S",
          "S",
          "S",
          "S",
          "S",
          "S",
          "S",
          "S",
          "S",
          "S",
          "S",
          "S",
          "S",
          "Q",
          "Q",
          "S",
          "S",
          "S",
          "S",
          "S",
          "S",
          "S",
          "C",
          "Q",
          "S",
          "S",
          "S",
          "S",
          "S",
          "S",
          "Q",
          "S",
          "S",
          "S",
          "S",
          "S",
          "S",
          "S",
          "S",
          "S",
          "S",
          "S",
          "S",
          "S",
          "S",
          "S",
          "S",
          "S",
          "S",
          "S",
          "C",
          "S",
          "S",
          "S",
          "C",
          "C",
          "S",
          "C",
          "S",
          "S",
          "S",
          "Q",
          "S",
          "S",
          "S",
          "S",
          "S",
          "S",
          "S",
          "S",
          "Q",
          "C",
          "S",
          "S",
          "S",
          "C",
          "S",
          "S",
          "S",
          "S",
          "S",
          "S",
          "S",
          "S",
          "S",
          "S",
          "C",
          "S",
          "S",
          "C",
          "S",
          "S",
          "S",
          "S",
          "S",
          "C",
          "S",
          "C",
          "C",
          "S",
          "S",
          "S",
          "S",
          "Q",
          "Q",
          "S",
          "S",
          "C",
          "S",
          "S",
          "S",
          "S",
          "Q",
          "S",
          "S",
          "C",
          "S",
          "S",
          "S",
          "Q",
          "S",
          "S",
          "S",
          "S",
          "C",
          "C",
          "C",
          "Q",
          "S",
          "S",
          "S",
          "S",
          "S",
          "C",
          "C",
          "C",
          "S",
          "S",
          "S",
          "C",
          "S",
          "C",
          "S",
          "S",
          "S",
          "S",
          "C",
          "S",
          "S",
          "C",
          "S",
          "S",
          "C",
          "S",
          "Q",
          "C",
          "S",
          "S",
          "C",
          "C",
          "S",
          "S",
          "Q",
          "S",
          "S",
          "S",
          "S",
          "S",
          "S",
          "S",
          "C",
          "S",
          "S",
          "S",
          "S",
          "Q",
          "S",
          "S",
          "S",
          "S",
          "C",
          "S",
          "S",
          "C",
          "S",
          "C",
          "C",
          "S",
          "S",
          "C",
          "S",
          "S",
          "S",
          "C",
          "S",
          "Q",
          "S",
          "S",
          "S",
          "S",
          "C",
          "C",
          "S",
          "S",
          "S",
          "S",
          "C",
          "S",
          "S",
          "S",
          "C",
          "S",
          "S",
          "S",
          "Q",
          "Q",
          "S",
          "S",
          "S",
          "S",
          "S",
          "S",
          "C",
          "S",
          "C",
          "S",
          "S",
          "S",
          "Q",
          "S",
          "S",
          "Q",
          "S",
          "S",
          "C",
          "S",
          "S",
          "S",
          "S",
          "S",
          "S",
          "S",
          "S",
          "C",
          "S",
          "S",
          "C",
          "C",
          "S",
          "C",
          "S",
          "S",
          "S",
          "S",
          "S",
          "Q",
          "Q",
          "S",
          "S",
          "Q",
          "S",
          "C",
          "S",
          "C",
          "S",
          "S",
          "S",
          "S",
          "S",
          "S",
          "S",
          "S",
          "S",
          "S",
          "S",
          "S",
          "S",
          "S",
          "S",
          "S",
          "S",
          "C",
          "Q",
          "C",
          "S",
          "S",
          "S",
          "C",
          "S",
          "S",
          "S",
          "S",
          "S",
          "C",
          "S",
          "C",
          "S",
          "S",
          "S",
          "Q",
          "C",
          "S",
          "C",
          "S",
          "C",
          "Q",
          "S",
          "S",
          "S",
          "S",
          "S",
          "C",
          "C",
          "S",
          "S",
          "S",
          "S",
          "S",
          "C",
          "S",
          "Q",
          "S",
          "S",
          "S",
          "S",
          "S",
          "S",
          "S",
          "S",
          "Q",
          "S",
          "S",
          "S",
          "C",
          "S",
          "S",
          "S",
          "S",
          "S",
          "C",
          "S",
          "S",
          "S",
          "S",
          "C",
          "S",
          "S",
          "S",
          "S",
          "S",
          "S",
          "Q",
          "S",
          "S",
          "S",
          "S",
          "S",
          "S",
          "S",
          "S",
          "S",
          "S",
          "S",
          "S",
          "C",
          "S",
          "S",
          "S",
          "C",
          "Q",
          "Q",
          "S",
          "S",
          "S",
          "S",
          "C",
          "S",
          "S",
          "Q",
          "S",
          "Q",
          "S",
          "C",
          "S",
          "S",
          "S",
          "S",
          "S",
          "S",
          "Q",
          "S",
          "C",
          "Q",
          "S",
          "S",
          "C",
          "S",
          "S",
          "S",
          "S",
          "C",
          "S",
          "S",
          "S",
          "S",
          "C",
          "S",
          "S",
          "S",
          "S",
          "S",
          "S",
          "S",
          "S",
          "S",
          "S",
          "S",
          "S",
          "S",
          "C",
          "S",
          "S",
          "S",
          "S",
          "S",
          "S",
          "S",
          "Q",
          "S",
          "C",
          "Q",
          null,
          "C",
          "S",
          "C",
          "S",
          "S",
          "C",
          "S",
          "S",
          "S",
          "C",
          "S",
          "S",
          "C",
          "C",
          "S",
          "S",
          "S",
          "C",
          "S",
          "C",
          "S",
          "S",
          "C",
          "S",
          "S",
          "S",
          "S",
          "S",
          "C",
          "C",
          "S",
          "S",
          "S",
          "S",
          "S",
          "S",
          "C",
          "S",
          "S",
          "S",
          "S",
          "S",
          "S",
          "S",
          "C",
          "C",
          "S",
          "S",
          "S",
          "C",
          "S",
          "S",
          "S",
          "S",
          "S",
          "Q",
          "S",
          "S",
          "S",
          "C",
          "Q",
          "Q",
          "S",
          "Q",
          "S",
          "S",
          "S",
          "Q",
          "S",
          "C",
          "S",
          "S",
          "S",
          "S",
          "S",
          "S",
          "C",
          "Q",
          "C",
          "S",
          "C",
          "C",
          "S",
          "S",
          "C",
          "C",
          "S",
          "C",
          "C",
          "S",
          "C",
          "S",
          "S",
          "S",
          "S",
          "C",
          "C",
          "S",
          "S",
          "S",
          "S",
          "C",
          "S",
          "S",
          "S",
          "S",
          "S",
          "C",
          "Q",
          "C",
          "S",
          "S",
          "C",
          "S",
          "S",
          "C",
          "Q",
          "S",
          "S",
          "S",
          "C",
          "S",
          "S",
          "S",
          "Q",
          "C",
          "S",
          "Q",
          "S",
          "C",
          "S",
          "Q",
          "S",
          "S",
          "C",
          "C",
          "C",
          "S",
          "S",
          "S",
          "Q",
          "C",
          "S",
          "S",
          "S",
          "Q",
          "C",
          "Q",
          "S",
          "Q",
          "S",
          "S",
          "S",
          "S",
          "S",
          "C",
          "S",
          "S",
          "S",
          "S",
          "S",
          "C",
          "S",
          "Q",
          "S",
          "C",
          "S",
          "Q",
          "Q",
          "S",
          "S",
          "C",
          "Q",
          "C",
          "Q",
          "S",
          "C",
          "C",
          "S",
          "C",
          "S",
          "S",
          "Q",
          "C",
          "S",
          "Q",
          "S",
          "S",
          "Q",
          "S",
          "S",
          "S",
          "C",
          "S",
          "C",
          "S",
          "S",
          "C",
          "S",
          "S",
          "S",
          "S",
          "S",
          "C",
          "S",
          "S",
          "S",
          "S",
          "S",
          "S",
          "S",
          "C",
          "C",
          "S",
          "S",
          "S",
          "S",
          "S",
          "S",
          "S",
          "S",
          "Q",
          "C",
          "S",
          "S",
          "S",
          "S",
          "C",
          "S",
          "C",
          "S",
          "S",
          "C",
          "S",
          "C",
          "S",
          "S",
          "S",
          "C",
          "S",
          "C",
          "S",
          "C",
          "S",
          "Q",
          "C",
          "S",
          "S",
          "S",
          "S",
          "S",
          "S",
          "S",
          "S",
          "Q",
          "S",
          "S",
          "C",
          "S",
          "S",
          "S",
          "Q",
          "S",
          "C",
          "S",
          "S",
          "C",
          "Q",
          "S",
          "C",
          "S",
          "S",
          "S",
          "S",
          "S",
          "S",
          "S",
          "Q",
          "S",
          "C",
          "S",
          "C",
          "S",
          "S",
          "S",
          "C",
          "C",
          "S",
          "Q",
          "S",
          "S",
          "S",
          "S",
          "S",
          "Q",
          "C",
          "S",
          "C",
          "C",
          "S",
          "C",
          "C",
          "S",
          "C",
          "S",
          "S",
          "S",
          "S",
          "S",
          "S",
          "C",
          "S",
          "S",
          "C",
          "S",
          "S",
          "S",
          "Q",
          "S",
          "S",
          "S",
          "S",
          "S",
          "S",
          "S",
          "C",
          "S",
          "S",
          "S",
          "S",
          "S",
          "C",
          "Q",
          "C",
          "Q",
          "C",
          "S",
          "S",
          "S",
          "S",
          "S",
          "S",
          "S",
          "Q",
          "C",
          "S",
          "S",
          "S",
          "S",
          "C",
          "S",
          "S",
          "Q",
          "C",
          "S",
          "S",
          "S",
          "C",
          "C",
          "S",
          "S",
          "S",
          "C",
          "S",
          "S",
          "Q",
          "S",
          "S",
          "S",
          "S",
          "S",
          "S",
          "C",
          "S",
          "Q",
          "C",
          "Q",
          "C",
          "S",
          "S",
          "S",
          "S",
          "C",
          "S",
          "S",
          "S",
          "S",
          "S",
          "C",
          "S",
          "S",
          "S",
          "C",
          "C",
          "C",
          "S",
          "S",
          "S",
          "C",
          "S",
          "C",
          "S",
          "S",
          "S",
          "C",
          "S",
          "S",
          "S",
          "C",
          "S",
          "S",
          "C",
          "S",
          "S",
          "S",
          "S",
          "S",
          "S",
          "S",
          "Q",
          "S",
          "S",
          "C",
          "S",
          "S",
          "C",
          "S",
          "C",
          "S",
          "C",
          "C",
          "S",
          "C",
          "S",
          "S",
          "S",
          "C",
          "S",
          "S",
          "S",
          "S",
          "Q",
          "Q",
          "S",
          "S",
          "S",
          "S",
          "S",
          "S",
          "Q",
          "S",
          "S",
          "S",
          "S",
          "S",
          "S",
          "S",
          "Q",
          "C",
          "S",
          "Q",
          "S",
          "S",
          "C",
          "S",
          "C",
          "C",
          "S",
          "C",
          "Q",
          "S",
          "Q",
          "Q",
          "S",
          "S",
          "C",
          "S",
          "S",
          "C"
         ],
         "xaxis": "x",
         "yaxis": "y"
        }
       ],
       "layout": {
        "barmode": "relative",
        "legend": {
         "tracegroupgap": 0
        },
        "margin": {
         "t": 60
        },
        "template": {
         "data": {
          "bar": [
           {
            "error_x": {
             "color": "#2a3f5f"
            },
            "error_y": {
             "color": "#2a3f5f"
            },
            "marker": {
             "line": {
              "color": "#E5ECF6",
              "width": 0.5
             },
             "pattern": {
              "fillmode": "overlay",
              "size": 10,
              "solidity": 0.2
             }
            },
            "type": "bar"
           }
          ],
          "barpolar": [
           {
            "marker": {
             "line": {
              "color": "#E5ECF6",
              "width": 0.5
             },
             "pattern": {
              "fillmode": "overlay",
              "size": 10,
              "solidity": 0.2
             }
            },
            "type": "barpolar"
           }
          ],
          "carpet": [
           {
            "aaxis": {
             "endlinecolor": "#2a3f5f",
             "gridcolor": "white",
             "linecolor": "white",
             "minorgridcolor": "white",
             "startlinecolor": "#2a3f5f"
            },
            "baxis": {
             "endlinecolor": "#2a3f5f",
             "gridcolor": "white",
             "linecolor": "white",
             "minorgridcolor": "white",
             "startlinecolor": "#2a3f5f"
            },
            "type": "carpet"
           }
          ],
          "choropleth": [
           {
            "colorbar": {
             "outlinewidth": 0,
             "ticks": ""
            },
            "type": "choropleth"
           }
          ],
          "contour": [
           {
            "colorbar": {
             "outlinewidth": 0,
             "ticks": ""
            },
            "colorscale": [
             [
              0,
              "#0d0887"
             ],
             [
              0.1111111111111111,
              "#46039f"
             ],
             [
              0.2222222222222222,
              "#7201a8"
             ],
             [
              0.3333333333333333,
              "#9c179e"
             ],
             [
              0.4444444444444444,
              "#bd3786"
             ],
             [
              0.5555555555555556,
              "#d8576b"
             ],
             [
              0.6666666666666666,
              "#ed7953"
             ],
             [
              0.7777777777777778,
              "#fb9f3a"
             ],
             [
              0.8888888888888888,
              "#fdca26"
             ],
             [
              1,
              "#f0f921"
             ]
            ],
            "type": "contour"
           }
          ],
          "contourcarpet": [
           {
            "colorbar": {
             "outlinewidth": 0,
             "ticks": ""
            },
            "type": "contourcarpet"
           }
          ],
          "heatmap": [
           {
            "colorbar": {
             "outlinewidth": 0,
             "ticks": ""
            },
            "colorscale": [
             [
              0,
              "#0d0887"
             ],
             [
              0.1111111111111111,
              "#46039f"
             ],
             [
              0.2222222222222222,
              "#7201a8"
             ],
             [
              0.3333333333333333,
              "#9c179e"
             ],
             [
              0.4444444444444444,
              "#bd3786"
             ],
             [
              0.5555555555555556,
              "#d8576b"
             ],
             [
              0.6666666666666666,
              "#ed7953"
             ],
             [
              0.7777777777777778,
              "#fb9f3a"
             ],
             [
              0.8888888888888888,
              "#fdca26"
             ],
             [
              1,
              "#f0f921"
             ]
            ],
            "type": "heatmap"
           }
          ],
          "heatmapgl": [
           {
            "colorbar": {
             "outlinewidth": 0,
             "ticks": ""
            },
            "colorscale": [
             [
              0,
              "#0d0887"
             ],
             [
              0.1111111111111111,
              "#46039f"
             ],
             [
              0.2222222222222222,
              "#7201a8"
             ],
             [
              0.3333333333333333,
              "#9c179e"
             ],
             [
              0.4444444444444444,
              "#bd3786"
             ],
             [
              0.5555555555555556,
              "#d8576b"
             ],
             [
              0.6666666666666666,
              "#ed7953"
             ],
             [
              0.7777777777777778,
              "#fb9f3a"
             ],
             [
              0.8888888888888888,
              "#fdca26"
             ],
             [
              1,
              "#f0f921"
             ]
            ],
            "type": "heatmapgl"
           }
          ],
          "histogram": [
           {
            "marker": {
             "pattern": {
              "fillmode": "overlay",
              "size": 10,
              "solidity": 0.2
             }
            },
            "type": "histogram"
           }
          ],
          "histogram2d": [
           {
            "colorbar": {
             "outlinewidth": 0,
             "ticks": ""
            },
            "colorscale": [
             [
              0,
              "#0d0887"
             ],
             [
              0.1111111111111111,
              "#46039f"
             ],
             [
              0.2222222222222222,
              "#7201a8"
             ],
             [
              0.3333333333333333,
              "#9c179e"
             ],
             [
              0.4444444444444444,
              "#bd3786"
             ],
             [
              0.5555555555555556,
              "#d8576b"
             ],
             [
              0.6666666666666666,
              "#ed7953"
             ],
             [
              0.7777777777777778,
              "#fb9f3a"
             ],
             [
              0.8888888888888888,
              "#fdca26"
             ],
             [
              1,
              "#f0f921"
             ]
            ],
            "type": "histogram2d"
           }
          ],
          "histogram2dcontour": [
           {
            "colorbar": {
             "outlinewidth": 0,
             "ticks": ""
            },
            "colorscale": [
             [
              0,
              "#0d0887"
             ],
             [
              0.1111111111111111,
              "#46039f"
             ],
             [
              0.2222222222222222,
              "#7201a8"
             ],
             [
              0.3333333333333333,
              "#9c179e"
             ],
             [
              0.4444444444444444,
              "#bd3786"
             ],
             [
              0.5555555555555556,
              "#d8576b"
             ],
             [
              0.6666666666666666,
              "#ed7953"
             ],
             [
              0.7777777777777778,
              "#fb9f3a"
             ],
             [
              0.8888888888888888,
              "#fdca26"
             ],
             [
              1,
              "#f0f921"
             ]
            ],
            "type": "histogram2dcontour"
           }
          ],
          "mesh3d": [
           {
            "colorbar": {
             "outlinewidth": 0,
             "ticks": ""
            },
            "type": "mesh3d"
           }
          ],
          "parcoords": [
           {
            "line": {
             "colorbar": {
              "outlinewidth": 0,
              "ticks": ""
             }
            },
            "type": "parcoords"
           }
          ],
          "pie": [
           {
            "automargin": true,
            "type": "pie"
           }
          ],
          "scatter": [
           {
            "fillpattern": {
             "fillmode": "overlay",
             "size": 10,
             "solidity": 0.2
            },
            "type": "scatter"
           }
          ],
          "scatter3d": [
           {
            "line": {
             "colorbar": {
              "outlinewidth": 0,
              "ticks": ""
             }
            },
            "marker": {
             "colorbar": {
              "outlinewidth": 0,
              "ticks": ""
             }
            },
            "type": "scatter3d"
           }
          ],
          "scattercarpet": [
           {
            "marker": {
             "colorbar": {
              "outlinewidth": 0,
              "ticks": ""
             }
            },
            "type": "scattercarpet"
           }
          ],
          "scattergeo": [
           {
            "marker": {
             "colorbar": {
              "outlinewidth": 0,
              "ticks": ""
             }
            },
            "type": "scattergeo"
           }
          ],
          "scattergl": [
           {
            "marker": {
             "colorbar": {
              "outlinewidth": 0,
              "ticks": ""
             }
            },
            "type": "scattergl"
           }
          ],
          "scattermapbox": [
           {
            "marker": {
             "colorbar": {
              "outlinewidth": 0,
              "ticks": ""
             }
            },
            "type": "scattermapbox"
           }
          ],
          "scatterpolar": [
           {
            "marker": {
             "colorbar": {
              "outlinewidth": 0,
              "ticks": ""
             }
            },
            "type": "scatterpolar"
           }
          ],
          "scatterpolargl": [
           {
            "marker": {
             "colorbar": {
              "outlinewidth": 0,
              "ticks": ""
             }
            },
            "type": "scatterpolargl"
           }
          ],
          "scatterternary": [
           {
            "marker": {
             "colorbar": {
              "outlinewidth": 0,
              "ticks": ""
             }
            },
            "type": "scatterternary"
           }
          ],
          "surface": [
           {
            "colorbar": {
             "outlinewidth": 0,
             "ticks": ""
            },
            "colorscale": [
             [
              0,
              "#0d0887"
             ],
             [
              0.1111111111111111,
              "#46039f"
             ],
             [
              0.2222222222222222,
              "#7201a8"
             ],
             [
              0.3333333333333333,
              "#9c179e"
             ],
             [
              0.4444444444444444,
              "#bd3786"
             ],
             [
              0.5555555555555556,
              "#d8576b"
             ],
             [
              0.6666666666666666,
              "#ed7953"
             ],
             [
              0.7777777777777778,
              "#fb9f3a"
             ],
             [
              0.8888888888888888,
              "#fdca26"
             ],
             [
              1,
              "#f0f921"
             ]
            ],
            "type": "surface"
           }
          ],
          "table": [
           {
            "cells": {
             "fill": {
              "color": "#EBF0F8"
             },
             "line": {
              "color": "white"
             }
            },
            "header": {
             "fill": {
              "color": "#C8D4E3"
             },
             "line": {
              "color": "white"
             }
            },
            "type": "table"
           }
          ]
         },
         "layout": {
          "annotationdefaults": {
           "arrowcolor": "#2a3f5f",
           "arrowhead": 0,
           "arrowwidth": 1
          },
          "autotypenumbers": "strict",
          "coloraxis": {
           "colorbar": {
            "outlinewidth": 0,
            "ticks": ""
           }
          },
          "colorscale": {
           "diverging": [
            [
             0,
             "#8e0152"
            ],
            [
             0.1,
             "#c51b7d"
            ],
            [
             0.2,
             "#de77ae"
            ],
            [
             0.3,
             "#f1b6da"
            ],
            [
             0.4,
             "#fde0ef"
            ],
            [
             0.5,
             "#f7f7f7"
            ],
            [
             0.6,
             "#e6f5d0"
            ],
            [
             0.7,
             "#b8e186"
            ],
            [
             0.8,
             "#7fbc41"
            ],
            [
             0.9,
             "#4d9221"
            ],
            [
             1,
             "#276419"
            ]
           ],
           "sequential": [
            [
             0,
             "#0d0887"
            ],
            [
             0.1111111111111111,
             "#46039f"
            ],
            [
             0.2222222222222222,
             "#7201a8"
            ],
            [
             0.3333333333333333,
             "#9c179e"
            ],
            [
             0.4444444444444444,
             "#bd3786"
            ],
            [
             0.5555555555555556,
             "#d8576b"
            ],
            [
             0.6666666666666666,
             "#ed7953"
            ],
            [
             0.7777777777777778,
             "#fb9f3a"
            ],
            [
             0.8888888888888888,
             "#fdca26"
            ],
            [
             1,
             "#f0f921"
            ]
           ],
           "sequentialminus": [
            [
             0,
             "#0d0887"
            ],
            [
             0.1111111111111111,
             "#46039f"
            ],
            [
             0.2222222222222222,
             "#7201a8"
            ],
            [
             0.3333333333333333,
             "#9c179e"
            ],
            [
             0.4444444444444444,
             "#bd3786"
            ],
            [
             0.5555555555555556,
             "#d8576b"
            ],
            [
             0.6666666666666666,
             "#ed7953"
            ],
            [
             0.7777777777777778,
             "#fb9f3a"
            ],
            [
             0.8888888888888888,
             "#fdca26"
            ],
            [
             1,
             "#f0f921"
            ]
           ]
          },
          "colorway": [
           "#636efa",
           "#EF553B",
           "#00cc96",
           "#ab63fa",
           "#FFA15A",
           "#19d3f3",
           "#FF6692",
           "#B6E880",
           "#FF97FF",
           "#FECB52"
          ],
          "font": {
           "color": "#2a3f5f"
          },
          "geo": {
           "bgcolor": "white",
           "lakecolor": "white",
           "landcolor": "#E5ECF6",
           "showlakes": true,
           "showland": true,
           "subunitcolor": "white"
          },
          "hoverlabel": {
           "align": "left"
          },
          "hovermode": "closest",
          "mapbox": {
           "style": "light"
          },
          "paper_bgcolor": "white",
          "plot_bgcolor": "#E5ECF6",
          "polar": {
           "angularaxis": {
            "gridcolor": "white",
            "linecolor": "white",
            "ticks": ""
           },
           "bgcolor": "#E5ECF6",
           "radialaxis": {
            "gridcolor": "white",
            "linecolor": "white",
            "ticks": ""
           }
          },
          "scene": {
           "xaxis": {
            "backgroundcolor": "#E5ECF6",
            "gridcolor": "white",
            "gridwidth": 2,
            "linecolor": "white",
            "showbackground": true,
            "ticks": "",
            "zerolinecolor": "white"
           },
           "yaxis": {
            "backgroundcolor": "#E5ECF6",
            "gridcolor": "white",
            "gridwidth": 2,
            "linecolor": "white",
            "showbackground": true,
            "ticks": "",
            "zerolinecolor": "white"
           },
           "zaxis": {
            "backgroundcolor": "#E5ECF6",
            "gridcolor": "white",
            "gridwidth": 2,
            "linecolor": "white",
            "showbackground": true,
            "ticks": "",
            "zerolinecolor": "white"
           }
          },
          "shapedefaults": {
           "line": {
            "color": "#2a3f5f"
           }
          },
          "ternary": {
           "aaxis": {
            "gridcolor": "white",
            "linecolor": "white",
            "ticks": ""
           },
           "baxis": {
            "gridcolor": "white",
            "linecolor": "white",
            "ticks": ""
           },
           "bgcolor": "#E5ECF6",
           "caxis": {
            "gridcolor": "white",
            "linecolor": "white",
            "ticks": ""
           }
          },
          "title": {
           "x": 0.05
          },
          "xaxis": {
           "automargin": true,
           "gridcolor": "white",
           "linecolor": "white",
           "ticks": "",
           "title": {
            "standoff": 15
           },
           "zerolinecolor": "white",
           "zerolinewidth": 2
          },
          "yaxis": {
           "automargin": true,
           "gridcolor": "white",
           "linecolor": "white",
           "ticks": "",
           "title": {
            "standoff": 15
           },
           "zerolinecolor": "white",
           "zerolinewidth": 2
          }
         }
        },
        "xaxis": {
         "anchor": "y",
         "domain": [
          0,
          1
         ],
         "title": {
          "text": "Embarked"
         }
        },
        "yaxis": {
         "anchor": "x",
         "domain": [
          0,
          1
         ],
         "title": {
          "text": "count"
         }
        }
       }
      }
     },
     "metadata": {},
     "output_type": "display_data"
    }
   ],
   "source": [
    "\"\"\"\n",
    "plt.figure(figsize=(6, 7))\n",
    "sns.countplot(x='Embarked', data=train)\n",
    "\"\"\"\n",
    "fig=px.histogram(df, x=\"Embarked\")#, color=\"Sex\"\n",
    "fig.show()"
   ]
  },
  {
   "cell_type": "markdown",
   "metadata": {},
   "source": [
    "Se puede notar que la moda de esta variable categórica es la S, por lo que a los valores nulos les daremos dicho valor para mantener la coherencia de los datos.\n",
    "\n",
    "https://nicolasurrego.medium.com/tratamiento-de-valores-vac%C3%ADos-ii-estrategias-de-imputaci%C3%B3n-estad%C3%ADstica-moda-mediana-y-media-2665b0f53a4c"
   ]
  },
  {
   "cell_type": "code",
   "execution_count": 12,
   "metadata": {},
   "outputs": [],
   "source": [
    "df['Embarked'] = df['Embarked'].fillna(df['Embarked'].mode()[0])\n",
    "df['Fare'] = df['Fare'].fillna(df['Fare'].mode()[0])"
   ]
  },
  {
   "cell_type": "markdown",
   "metadata": {},
   "source": [
    "Ahora regresamos a la variable de edad, donde tendremos que resolver los 418 datos faltantes que presenta.\n",
    "\n",
    "Se volverá a realizar una gráfica, de forma que se decida cuál es la mejor forma de sustituir los datos faltantes."
   ]
  },
  {
   "cell_type": "code",
   "execution_count": 13,
   "metadata": {},
   "outputs": [
    {
     "data": {
      "text/html": [
       "<div>\n",
       "<style scoped>\n",
       "    .dataframe tbody tr th:only-of-type {\n",
       "        vertical-align: middle;\n",
       "    }\n",
       "\n",
       "    .dataframe tbody tr th {\n",
       "        vertical-align: top;\n",
       "    }\n",
       "\n",
       "    .dataframe thead th {\n",
       "        text-align: right;\n",
       "    }\n",
       "</style>\n",
       "<table border=\"1\" class=\"dataframe\">\n",
       "  <thead>\n",
       "    <tr style=\"text-align: right;\">\n",
       "      <th></th>\n",
       "      <th>Survived</th>\n",
       "      <th>Pclass</th>\n",
       "      <th>Age</th>\n",
       "      <th>SibSp</th>\n",
       "      <th>Parch</th>\n",
       "      <th>Fare</th>\n",
       "    </tr>\n",
       "  </thead>\n",
       "  <tbody>\n",
       "    <tr>\n",
       "      <th>count</th>\n",
       "      <td>891.000000</td>\n",
       "      <td>1309.000000</td>\n",
       "      <td>1046.000000</td>\n",
       "      <td>1309.000000</td>\n",
       "      <td>1309.000000</td>\n",
       "      <td>1309.000000</td>\n",
       "    </tr>\n",
       "    <tr>\n",
       "      <th>mean</th>\n",
       "      <td>0.383838</td>\n",
       "      <td>2.294882</td>\n",
       "      <td>29.881138</td>\n",
       "      <td>0.498854</td>\n",
       "      <td>0.385027</td>\n",
       "      <td>33.276193</td>\n",
       "    </tr>\n",
       "    <tr>\n",
       "      <th>std</th>\n",
       "      <td>0.486592</td>\n",
       "      <td>0.837836</td>\n",
       "      <td>14.413493</td>\n",
       "      <td>1.041658</td>\n",
       "      <td>0.865560</td>\n",
       "      <td>51.743584</td>\n",
       "    </tr>\n",
       "    <tr>\n",
       "      <th>min</th>\n",
       "      <td>0.000000</td>\n",
       "      <td>1.000000</td>\n",
       "      <td>0.170000</td>\n",
       "      <td>0.000000</td>\n",
       "      <td>0.000000</td>\n",
       "      <td>0.000000</td>\n",
       "    </tr>\n",
       "    <tr>\n",
       "      <th>25%</th>\n",
       "      <td>0.000000</td>\n",
       "      <td>2.000000</td>\n",
       "      <td>21.000000</td>\n",
       "      <td>0.000000</td>\n",
       "      <td>0.000000</td>\n",
       "      <td>7.895800</td>\n",
       "    </tr>\n",
       "    <tr>\n",
       "      <th>50%</th>\n",
       "      <td>0.000000</td>\n",
       "      <td>3.000000</td>\n",
       "      <td>28.000000</td>\n",
       "      <td>0.000000</td>\n",
       "      <td>0.000000</td>\n",
       "      <td>14.454200</td>\n",
       "    </tr>\n",
       "    <tr>\n",
       "      <th>75%</th>\n",
       "      <td>1.000000</td>\n",
       "      <td>3.000000</td>\n",
       "      <td>39.000000</td>\n",
       "      <td>1.000000</td>\n",
       "      <td>0.000000</td>\n",
       "      <td>31.275000</td>\n",
       "    </tr>\n",
       "    <tr>\n",
       "      <th>max</th>\n",
       "      <td>1.000000</td>\n",
       "      <td>3.000000</td>\n",
       "      <td>80.000000</td>\n",
       "      <td>8.000000</td>\n",
       "      <td>9.000000</td>\n",
       "      <td>512.329200</td>\n",
       "    </tr>\n",
       "  </tbody>\n",
       "</table>\n",
       "</div>"
      ],
      "text/plain": [
       "         Survived       Pclass          Age        SibSp        Parch  \\\n",
       "count  891.000000  1309.000000  1046.000000  1309.000000  1309.000000   \n",
       "mean     0.383838     2.294882    29.881138     0.498854     0.385027   \n",
       "std      0.486592     0.837836    14.413493     1.041658     0.865560   \n",
       "min      0.000000     1.000000     0.170000     0.000000     0.000000   \n",
       "25%      0.000000     2.000000    21.000000     0.000000     0.000000   \n",
       "50%      0.000000     3.000000    28.000000     0.000000     0.000000   \n",
       "75%      1.000000     3.000000    39.000000     1.000000     0.000000   \n",
       "max      1.000000     3.000000    80.000000     8.000000     9.000000   \n",
       "\n",
       "              Fare  \n",
       "count  1309.000000  \n",
       "mean     33.276193  \n",
       "std      51.743584  \n",
       "min       0.000000  \n",
       "25%       7.895800  \n",
       "50%      14.454200  \n",
       "75%      31.275000  \n",
       "max     512.329200  "
      ]
     },
     "execution_count": 13,
     "metadata": {},
     "output_type": "execute_result"
    }
   ],
   "source": [
    "df.describe()"
   ]
  },
  {
   "cell_type": "code",
   "execution_count": 13,
   "metadata": {},
   "outputs": [
    {
     "data": {
      "application/vnd.plotly.v1+json": {
       "config": {
        "plotlyServerURL": "https://plot.ly"
       },
       "data": [
        {
         "alignmentgroup": "True",
         "bingroup": "x",
         "hovertemplate": "Age=%{x}<br>count=%{y}<extra></extra>",
         "legendgroup": "",
         "marker": {
          "color": "#636efa",
          "pattern": {
           "shape": ""
          }
         },
         "name": "",
         "offsetgroup": "",
         "orientation": "v",
         "showlegend": false,
         "type": "histogram",
         "x": [
          22,
          38,
          26,
          35,
          35,
          null,
          54,
          2,
          27,
          14,
          4,
          58,
          20,
          39,
          14,
          55,
          2,
          null,
          31,
          null,
          35,
          34,
          15,
          28,
          8,
          38,
          null,
          19,
          null,
          null,
          40,
          null,
          null,
          66,
          28,
          42,
          null,
          21,
          18,
          14,
          40,
          27,
          null,
          3,
          19,
          null,
          null,
          null,
          null,
          18,
          7,
          21,
          49,
          29,
          65,
          null,
          21,
          28.5,
          5,
          11,
          22,
          38,
          45,
          4,
          null,
          null,
          29,
          19,
          17,
          26,
          32,
          16,
          21,
          26,
          32,
          25,
          null,
          null,
          0.83,
          30,
          22,
          29,
          null,
          28,
          17,
          33,
          16,
          null,
          23,
          24,
          29,
          20,
          46,
          26,
          59,
          null,
          71,
          23,
          34,
          34,
          28,
          null,
          21,
          33,
          37,
          28,
          21,
          null,
          38,
          null,
          47,
          14.5,
          22,
          20,
          17,
          21,
          70.5,
          29,
          24,
          2,
          21,
          null,
          32.5,
          32.5,
          54,
          12,
          null,
          24,
          null,
          45,
          33,
          20,
          47,
          29,
          25,
          23,
          19,
          37,
          16,
          24,
          null,
          22,
          24,
          19,
          18,
          19,
          27,
          9,
          36.5,
          42,
          51,
          22,
          55.5,
          40.5,
          null,
          51,
          16,
          30,
          null,
          null,
          44,
          40,
          26,
          17,
          1,
          9,
          null,
          45,
          null,
          28,
          61,
          4,
          1,
          21,
          56,
          18,
          null,
          50,
          30,
          36,
          null,
          null,
          9,
          1,
          4,
          null,
          null,
          45,
          40,
          36,
          32,
          19,
          19,
          3,
          44,
          58,
          null,
          42,
          null,
          24,
          28,
          null,
          34,
          45.5,
          18,
          2,
          32,
          26,
          16,
          40,
          24,
          35,
          22,
          30,
          null,
          31,
          27,
          42,
          32,
          30,
          16,
          27,
          51,
          null,
          38,
          22,
          19,
          20.5,
          18,
          null,
          35,
          29,
          59,
          5,
          24,
          null,
          44,
          8,
          19,
          33,
          null,
          null,
          29,
          22,
          30,
          44,
          25,
          24,
          37,
          54,
          null,
          29,
          62,
          30,
          41,
          29,
          null,
          30,
          35,
          50,
          null,
          3,
          52,
          40,
          null,
          36,
          16,
          25,
          58,
          35,
          null,
          25,
          41,
          37,
          null,
          63,
          45,
          null,
          7,
          35,
          65,
          28,
          16,
          19,
          null,
          33,
          30,
          22,
          42,
          22,
          26,
          19,
          36,
          24,
          24,
          null,
          23.5,
          2,
          null,
          50,
          null,
          null,
          19,
          null,
          null,
          0.92,
          null,
          17,
          30,
          30,
          24,
          18,
          26,
          28,
          43,
          26,
          24,
          54,
          31,
          40,
          22,
          27,
          30,
          22,
          null,
          36,
          61,
          36,
          31,
          16,
          null,
          45.5,
          38,
          16,
          null,
          null,
          29,
          41,
          45,
          45,
          2,
          24,
          28,
          25,
          36,
          24,
          40,
          null,
          3,
          42,
          23,
          null,
          15,
          25,
          null,
          28,
          22,
          38,
          null,
          null,
          40,
          29,
          45,
          35,
          null,
          30,
          60,
          null,
          null,
          24,
          25,
          18,
          19,
          22,
          3,
          null,
          22,
          27,
          20,
          19,
          42,
          1,
          32,
          35,
          null,
          18,
          1,
          36,
          null,
          17,
          36,
          21,
          28,
          23,
          24,
          22,
          31,
          46,
          23,
          28,
          39,
          26,
          21,
          28,
          20,
          34,
          51,
          3,
          21,
          null,
          null,
          null,
          33,
          null,
          44,
          null,
          34,
          18,
          30,
          10,
          null,
          21,
          29,
          28,
          18,
          null,
          28,
          19,
          null,
          32,
          28,
          null,
          42,
          17,
          50,
          14,
          21,
          24,
          64,
          31,
          45,
          20,
          25,
          28,
          null,
          4,
          13,
          34,
          5,
          52,
          36,
          null,
          30,
          49,
          null,
          29,
          65,
          null,
          50,
          null,
          48,
          34,
          47,
          48,
          null,
          38,
          null,
          56,
          null,
          0.75,
          null,
          38,
          33,
          23,
          22,
          null,
          34,
          29,
          22,
          2,
          9,
          null,
          50,
          63,
          25,
          null,
          35,
          58,
          30,
          9,
          null,
          21,
          55,
          71,
          21,
          null,
          54,
          null,
          25,
          24,
          17,
          21,
          null,
          37,
          16,
          18,
          33,
          null,
          28,
          26,
          29,
          null,
          36,
          54,
          24,
          47,
          34,
          null,
          36,
          32,
          30,
          22,
          null,
          44,
          null,
          40.5,
          50,
          null,
          39,
          23,
          2,
          null,
          17,
          null,
          30,
          7,
          45,
          30,
          null,
          22,
          36,
          9,
          11,
          32,
          50,
          64,
          19,
          null,
          33,
          8,
          17,
          27,
          null,
          22,
          22,
          62,
          48,
          null,
          39,
          36,
          null,
          40,
          28,
          null,
          null,
          24,
          19,
          29,
          null,
          32,
          62,
          53,
          36,
          null,
          16,
          19,
          34,
          39,
          null,
          32,
          25,
          39,
          54,
          36,
          null,
          18,
          47,
          60,
          22,
          null,
          35,
          52,
          47,
          null,
          37,
          36,
          null,
          49,
          null,
          49,
          24,
          null,
          null,
          44,
          35,
          36,
          30,
          27,
          22,
          40,
          39,
          null,
          null,
          null,
          35,
          24,
          34,
          26,
          4,
          26,
          27,
          42,
          20,
          21,
          21,
          61,
          57,
          21,
          26,
          null,
          80,
          51,
          32,
          null,
          9,
          28,
          32,
          31,
          41,
          null,
          20,
          24,
          2,
          null,
          0.75,
          48,
          19,
          56,
          null,
          23,
          null,
          18,
          21,
          null,
          18,
          24,
          null,
          32,
          23,
          58,
          50,
          40,
          47,
          36,
          20,
          32,
          25,
          null,
          43,
          null,
          40,
          31,
          70,
          31,
          null,
          18,
          24.5,
          18,
          43,
          36,
          null,
          27,
          20,
          14,
          60,
          25,
          14,
          19,
          18,
          15,
          31,
          4,
          null,
          25,
          60,
          52,
          44,
          null,
          49,
          42,
          18,
          35,
          18,
          25,
          26,
          39,
          45,
          42,
          22,
          null,
          24,
          null,
          48,
          29,
          52,
          19,
          38,
          27,
          null,
          33,
          6,
          17,
          34,
          50,
          27,
          20,
          30,
          null,
          25,
          25,
          29,
          11,
          null,
          23,
          23,
          28.5,
          48,
          35,
          null,
          null,
          null,
          36,
          21,
          24,
          31,
          70,
          16,
          30,
          19,
          31,
          4,
          6,
          33,
          23,
          48,
          0.67,
          28,
          18,
          34,
          33,
          null,
          41,
          20,
          36,
          16,
          51,
          null,
          30.5,
          null,
          32,
          24,
          48,
          57,
          null,
          54,
          18,
          null,
          5,
          null,
          43,
          13,
          17,
          29,
          null,
          25,
          25,
          18,
          8,
          1,
          46,
          null,
          16,
          null,
          null,
          25,
          39,
          49,
          31,
          30,
          30,
          34,
          31,
          11,
          0.42,
          27,
          31,
          39,
          18,
          39,
          33,
          26,
          39,
          35,
          6,
          30.5,
          null,
          23,
          31,
          43,
          10,
          52,
          27,
          38,
          27,
          2,
          null,
          null,
          1,
          null,
          62,
          15,
          0.83,
          null,
          23,
          18,
          39,
          21,
          null,
          32,
          null,
          20,
          16,
          30,
          34.5,
          17,
          42,
          null,
          35,
          28,
          null,
          4,
          74,
          9,
          16,
          44,
          18,
          45,
          51,
          24,
          null,
          41,
          21,
          48,
          null,
          24,
          42,
          27,
          31,
          null,
          4,
          26,
          47,
          33,
          47,
          28,
          15,
          20,
          19,
          null,
          56,
          25,
          33,
          22,
          28,
          25,
          39,
          27,
          19,
          null,
          26,
          32,
          34.5,
          47,
          62,
          27,
          22,
          14,
          30,
          26,
          18,
          21,
          null,
          46,
          23,
          63,
          47,
          24,
          35,
          21,
          27,
          45,
          55,
          9,
          null,
          21,
          48,
          50,
          22,
          22.5,
          41,
          null,
          50,
          24,
          33,
          null,
          30,
          18.5,
          null,
          21,
          25,
          null,
          39,
          null,
          41,
          30,
          45,
          25,
          45,
          null,
          60,
          36,
          24,
          27,
          20,
          28,
          null,
          10,
          35,
          25,
          null,
          36,
          17,
          32,
          18,
          22,
          13,
          null,
          18,
          47,
          31,
          60,
          24,
          21,
          29,
          28.5,
          35,
          32.5,
          null,
          55,
          30,
          24,
          6,
          67,
          49,
          null,
          null,
          null,
          27,
          18,
          null,
          2,
          22,
          null,
          27,
          null,
          25,
          25,
          76,
          29,
          20,
          33,
          43,
          27,
          null,
          26,
          16,
          28,
          21,
          null,
          null,
          18.5,
          41,
          null,
          36,
          18.5,
          63,
          18,
          null,
          1,
          36,
          29,
          12,
          null,
          35,
          28,
          null,
          17,
          22,
          null,
          42,
          24,
          32,
          53,
          null,
          null,
          43,
          24,
          26.5,
          26,
          23,
          40,
          10,
          33,
          61,
          28,
          42,
          31,
          null,
          22,
          null,
          30,
          23,
          null,
          60.5,
          36,
          13,
          24,
          29,
          23,
          42,
          26,
          null,
          7,
          26,
          null,
          41,
          26,
          48,
          18,
          null,
          22,
          null,
          27,
          23,
          null,
          40,
          15,
          20,
          54,
          36,
          64,
          30,
          37,
          18,
          null,
          27,
          40,
          21,
          17,
          null,
          40,
          34,
          null,
          11.5,
          61,
          8,
          33,
          6,
          18,
          23,
          null,
          null,
          0.33,
          47,
          8,
          25,
          null,
          35,
          24,
          33,
          25,
          32,
          null,
          17,
          60,
          38,
          42,
          null,
          57,
          50,
          null,
          30,
          21,
          22,
          21,
          53,
          null,
          23,
          null,
          40.5,
          36,
          14,
          21,
          21,
          null,
          39,
          20,
          64,
          20,
          18,
          48,
          55,
          45,
          45,
          null,
          null,
          41,
          22,
          42,
          29,
          null,
          0.92,
          20,
          27,
          24,
          32.5,
          null,
          null,
          28,
          19,
          21,
          36.5,
          21,
          29,
          1,
          30,
          null,
          null,
          null,
          null,
          17,
          46,
          null,
          26,
          null,
          null,
          20,
          28,
          40,
          30,
          22,
          23,
          0.75,
          null,
          9,
          2,
          36,
          null,
          24,
          null,
          null,
          null,
          30,
          null,
          53,
          36,
          26,
          1,
          null,
          30,
          29,
          32,
          null,
          43,
          24,
          null,
          64,
          30,
          0.83,
          55,
          45,
          18,
          22,
          null,
          37,
          55,
          17,
          57,
          19,
          27,
          22,
          26,
          25,
          26,
          33,
          39,
          23,
          12,
          46,
          29,
          21,
          48,
          39,
          null,
          19,
          27,
          30,
          32,
          39,
          25,
          null,
          18,
          32,
          null,
          58,
          null,
          16,
          26,
          38,
          24,
          31,
          45,
          25,
          18,
          49,
          0.17,
          50,
          59,
          null,
          null,
          30,
          14.5,
          24,
          31,
          27,
          25,
          null,
          null,
          22,
          45,
          29,
          21,
          31,
          49,
          44,
          54,
          45,
          22,
          21,
          55,
          5,
          null,
          26,
          null,
          19,
          null,
          24,
          24,
          57,
          21,
          6,
          23,
          51,
          13,
          47,
          29,
          18,
          24,
          48,
          22,
          31,
          30,
          38,
          22,
          17,
          43,
          20,
          23,
          50,
          null,
          3,
          null,
          37,
          28,
          null,
          39,
          38.5,
          null,
          null
         ],
         "xaxis": "x",
         "yaxis": "y"
        }
       ],
       "layout": {
        "barmode": "relative",
        "legend": {
         "tracegroupgap": 0
        },
        "margin": {
         "t": 60
        },
        "template": {
         "data": {
          "bar": [
           {
            "error_x": {
             "color": "#2a3f5f"
            },
            "error_y": {
             "color": "#2a3f5f"
            },
            "marker": {
             "line": {
              "color": "#E5ECF6",
              "width": 0.5
             },
             "pattern": {
              "fillmode": "overlay",
              "size": 10,
              "solidity": 0.2
             }
            },
            "type": "bar"
           }
          ],
          "barpolar": [
           {
            "marker": {
             "line": {
              "color": "#E5ECF6",
              "width": 0.5
             },
             "pattern": {
              "fillmode": "overlay",
              "size": 10,
              "solidity": 0.2
             }
            },
            "type": "barpolar"
           }
          ],
          "carpet": [
           {
            "aaxis": {
             "endlinecolor": "#2a3f5f",
             "gridcolor": "white",
             "linecolor": "white",
             "minorgridcolor": "white",
             "startlinecolor": "#2a3f5f"
            },
            "baxis": {
             "endlinecolor": "#2a3f5f",
             "gridcolor": "white",
             "linecolor": "white",
             "minorgridcolor": "white",
             "startlinecolor": "#2a3f5f"
            },
            "type": "carpet"
           }
          ],
          "choropleth": [
           {
            "colorbar": {
             "outlinewidth": 0,
             "ticks": ""
            },
            "type": "choropleth"
           }
          ],
          "contour": [
           {
            "colorbar": {
             "outlinewidth": 0,
             "ticks": ""
            },
            "colorscale": [
             [
              0,
              "#0d0887"
             ],
             [
              0.1111111111111111,
              "#46039f"
             ],
             [
              0.2222222222222222,
              "#7201a8"
             ],
             [
              0.3333333333333333,
              "#9c179e"
             ],
             [
              0.4444444444444444,
              "#bd3786"
             ],
             [
              0.5555555555555556,
              "#d8576b"
             ],
             [
              0.6666666666666666,
              "#ed7953"
             ],
             [
              0.7777777777777778,
              "#fb9f3a"
             ],
             [
              0.8888888888888888,
              "#fdca26"
             ],
             [
              1,
              "#f0f921"
             ]
            ],
            "type": "contour"
           }
          ],
          "contourcarpet": [
           {
            "colorbar": {
             "outlinewidth": 0,
             "ticks": ""
            },
            "type": "contourcarpet"
           }
          ],
          "heatmap": [
           {
            "colorbar": {
             "outlinewidth": 0,
             "ticks": ""
            },
            "colorscale": [
             [
              0,
              "#0d0887"
             ],
             [
              0.1111111111111111,
              "#46039f"
             ],
             [
              0.2222222222222222,
              "#7201a8"
             ],
             [
              0.3333333333333333,
              "#9c179e"
             ],
             [
              0.4444444444444444,
              "#bd3786"
             ],
             [
              0.5555555555555556,
              "#d8576b"
             ],
             [
              0.6666666666666666,
              "#ed7953"
             ],
             [
              0.7777777777777778,
              "#fb9f3a"
             ],
             [
              0.8888888888888888,
              "#fdca26"
             ],
             [
              1,
              "#f0f921"
             ]
            ],
            "type": "heatmap"
           }
          ],
          "heatmapgl": [
           {
            "colorbar": {
             "outlinewidth": 0,
             "ticks": ""
            },
            "colorscale": [
             [
              0,
              "#0d0887"
             ],
             [
              0.1111111111111111,
              "#46039f"
             ],
             [
              0.2222222222222222,
              "#7201a8"
             ],
             [
              0.3333333333333333,
              "#9c179e"
             ],
             [
              0.4444444444444444,
              "#bd3786"
             ],
             [
              0.5555555555555556,
              "#d8576b"
             ],
             [
              0.6666666666666666,
              "#ed7953"
             ],
             [
              0.7777777777777778,
              "#fb9f3a"
             ],
             [
              0.8888888888888888,
              "#fdca26"
             ],
             [
              1,
              "#f0f921"
             ]
            ],
            "type": "heatmapgl"
           }
          ],
          "histogram": [
           {
            "marker": {
             "pattern": {
              "fillmode": "overlay",
              "size": 10,
              "solidity": 0.2
             }
            },
            "type": "histogram"
           }
          ],
          "histogram2d": [
           {
            "colorbar": {
             "outlinewidth": 0,
             "ticks": ""
            },
            "colorscale": [
             [
              0,
              "#0d0887"
             ],
             [
              0.1111111111111111,
              "#46039f"
             ],
             [
              0.2222222222222222,
              "#7201a8"
             ],
             [
              0.3333333333333333,
              "#9c179e"
             ],
             [
              0.4444444444444444,
              "#bd3786"
             ],
             [
              0.5555555555555556,
              "#d8576b"
             ],
             [
              0.6666666666666666,
              "#ed7953"
             ],
             [
              0.7777777777777778,
              "#fb9f3a"
             ],
             [
              0.8888888888888888,
              "#fdca26"
             ],
             [
              1,
              "#f0f921"
             ]
            ],
            "type": "histogram2d"
           }
          ],
          "histogram2dcontour": [
           {
            "colorbar": {
             "outlinewidth": 0,
             "ticks": ""
            },
            "colorscale": [
             [
              0,
              "#0d0887"
             ],
             [
              0.1111111111111111,
              "#46039f"
             ],
             [
              0.2222222222222222,
              "#7201a8"
             ],
             [
              0.3333333333333333,
              "#9c179e"
             ],
             [
              0.4444444444444444,
              "#bd3786"
             ],
             [
              0.5555555555555556,
              "#d8576b"
             ],
             [
              0.6666666666666666,
              "#ed7953"
             ],
             [
              0.7777777777777778,
              "#fb9f3a"
             ],
             [
              0.8888888888888888,
              "#fdca26"
             ],
             [
              1,
              "#f0f921"
             ]
            ],
            "type": "histogram2dcontour"
           }
          ],
          "mesh3d": [
           {
            "colorbar": {
             "outlinewidth": 0,
             "ticks": ""
            },
            "type": "mesh3d"
           }
          ],
          "parcoords": [
           {
            "line": {
             "colorbar": {
              "outlinewidth": 0,
              "ticks": ""
             }
            },
            "type": "parcoords"
           }
          ],
          "pie": [
           {
            "automargin": true,
            "type": "pie"
           }
          ],
          "scatter": [
           {
            "fillpattern": {
             "fillmode": "overlay",
             "size": 10,
             "solidity": 0.2
            },
            "type": "scatter"
           }
          ],
          "scatter3d": [
           {
            "line": {
             "colorbar": {
              "outlinewidth": 0,
              "ticks": ""
             }
            },
            "marker": {
             "colorbar": {
              "outlinewidth": 0,
              "ticks": ""
             }
            },
            "type": "scatter3d"
           }
          ],
          "scattercarpet": [
           {
            "marker": {
             "colorbar": {
              "outlinewidth": 0,
              "ticks": ""
             }
            },
            "type": "scattercarpet"
           }
          ],
          "scattergeo": [
           {
            "marker": {
             "colorbar": {
              "outlinewidth": 0,
              "ticks": ""
             }
            },
            "type": "scattergeo"
           }
          ],
          "scattergl": [
           {
            "marker": {
             "colorbar": {
              "outlinewidth": 0,
              "ticks": ""
             }
            },
            "type": "scattergl"
           }
          ],
          "scattermapbox": [
           {
            "marker": {
             "colorbar": {
              "outlinewidth": 0,
              "ticks": ""
             }
            },
            "type": "scattermapbox"
           }
          ],
          "scatterpolar": [
           {
            "marker": {
             "colorbar": {
              "outlinewidth": 0,
              "ticks": ""
             }
            },
            "type": "scatterpolar"
           }
          ],
          "scatterpolargl": [
           {
            "marker": {
             "colorbar": {
              "outlinewidth": 0,
              "ticks": ""
             }
            },
            "type": "scatterpolargl"
           }
          ],
          "scatterternary": [
           {
            "marker": {
             "colorbar": {
              "outlinewidth": 0,
              "ticks": ""
             }
            },
            "type": "scatterternary"
           }
          ],
          "surface": [
           {
            "colorbar": {
             "outlinewidth": 0,
             "ticks": ""
            },
            "colorscale": [
             [
              0,
              "#0d0887"
             ],
             [
              0.1111111111111111,
              "#46039f"
             ],
             [
              0.2222222222222222,
              "#7201a8"
             ],
             [
              0.3333333333333333,
              "#9c179e"
             ],
             [
              0.4444444444444444,
              "#bd3786"
             ],
             [
              0.5555555555555556,
              "#d8576b"
             ],
             [
              0.6666666666666666,
              "#ed7953"
             ],
             [
              0.7777777777777778,
              "#fb9f3a"
             ],
             [
              0.8888888888888888,
              "#fdca26"
             ],
             [
              1,
              "#f0f921"
             ]
            ],
            "type": "surface"
           }
          ],
          "table": [
           {
            "cells": {
             "fill": {
              "color": "#EBF0F8"
             },
             "line": {
              "color": "white"
             }
            },
            "header": {
             "fill": {
              "color": "#C8D4E3"
             },
             "line": {
              "color": "white"
             }
            },
            "type": "table"
           }
          ]
         },
         "layout": {
          "annotationdefaults": {
           "arrowcolor": "#2a3f5f",
           "arrowhead": 0,
           "arrowwidth": 1
          },
          "autotypenumbers": "strict",
          "coloraxis": {
           "colorbar": {
            "outlinewidth": 0,
            "ticks": ""
           }
          },
          "colorscale": {
           "diverging": [
            [
             0,
             "#8e0152"
            ],
            [
             0.1,
             "#c51b7d"
            ],
            [
             0.2,
             "#de77ae"
            ],
            [
             0.3,
             "#f1b6da"
            ],
            [
             0.4,
             "#fde0ef"
            ],
            [
             0.5,
             "#f7f7f7"
            ],
            [
             0.6,
             "#e6f5d0"
            ],
            [
             0.7,
             "#b8e186"
            ],
            [
             0.8,
             "#7fbc41"
            ],
            [
             0.9,
             "#4d9221"
            ],
            [
             1,
             "#276419"
            ]
           ],
           "sequential": [
            [
             0,
             "#0d0887"
            ],
            [
             0.1111111111111111,
             "#46039f"
            ],
            [
             0.2222222222222222,
             "#7201a8"
            ],
            [
             0.3333333333333333,
             "#9c179e"
            ],
            [
             0.4444444444444444,
             "#bd3786"
            ],
            [
             0.5555555555555556,
             "#d8576b"
            ],
            [
             0.6666666666666666,
             "#ed7953"
            ],
            [
             0.7777777777777778,
             "#fb9f3a"
            ],
            [
             0.8888888888888888,
             "#fdca26"
            ],
            [
             1,
             "#f0f921"
            ]
           ],
           "sequentialminus": [
            [
             0,
             "#0d0887"
            ],
            [
             0.1111111111111111,
             "#46039f"
            ],
            [
             0.2222222222222222,
             "#7201a8"
            ],
            [
             0.3333333333333333,
             "#9c179e"
            ],
            [
             0.4444444444444444,
             "#bd3786"
            ],
            [
             0.5555555555555556,
             "#d8576b"
            ],
            [
             0.6666666666666666,
             "#ed7953"
            ],
            [
             0.7777777777777778,
             "#fb9f3a"
            ],
            [
             0.8888888888888888,
             "#fdca26"
            ],
            [
             1,
             "#f0f921"
            ]
           ]
          },
          "colorway": [
           "#636efa",
           "#EF553B",
           "#00cc96",
           "#ab63fa",
           "#FFA15A",
           "#19d3f3",
           "#FF6692",
           "#B6E880",
           "#FF97FF",
           "#FECB52"
          ],
          "font": {
           "color": "#2a3f5f"
          },
          "geo": {
           "bgcolor": "white",
           "lakecolor": "white",
           "landcolor": "#E5ECF6",
           "showlakes": true,
           "showland": true,
           "subunitcolor": "white"
          },
          "hoverlabel": {
           "align": "left"
          },
          "hovermode": "closest",
          "mapbox": {
           "style": "light"
          },
          "paper_bgcolor": "white",
          "plot_bgcolor": "#E5ECF6",
          "polar": {
           "angularaxis": {
            "gridcolor": "white",
            "linecolor": "white",
            "ticks": ""
           },
           "bgcolor": "#E5ECF6",
           "radialaxis": {
            "gridcolor": "white",
            "linecolor": "white",
            "ticks": ""
           }
          },
          "scene": {
           "xaxis": {
            "backgroundcolor": "#E5ECF6",
            "gridcolor": "white",
            "gridwidth": 2,
            "linecolor": "white",
            "showbackground": true,
            "ticks": "",
            "zerolinecolor": "white"
           },
           "yaxis": {
            "backgroundcolor": "#E5ECF6",
            "gridcolor": "white",
            "gridwidth": 2,
            "linecolor": "white",
            "showbackground": true,
            "ticks": "",
            "zerolinecolor": "white"
           },
           "zaxis": {
            "backgroundcolor": "#E5ECF6",
            "gridcolor": "white",
            "gridwidth": 2,
            "linecolor": "white",
            "showbackground": true,
            "ticks": "",
            "zerolinecolor": "white"
           }
          },
          "shapedefaults": {
           "line": {
            "color": "#2a3f5f"
           }
          },
          "ternary": {
           "aaxis": {
            "gridcolor": "white",
            "linecolor": "white",
            "ticks": ""
           },
           "baxis": {
            "gridcolor": "white",
            "linecolor": "white",
            "ticks": ""
           },
           "bgcolor": "#E5ECF6",
           "caxis": {
            "gridcolor": "white",
            "linecolor": "white",
            "ticks": ""
           }
          },
          "title": {
           "x": 0.05
          },
          "xaxis": {
           "automargin": true,
           "gridcolor": "white",
           "linecolor": "white",
           "ticks": "",
           "title": {
            "standoff": 15
           },
           "zerolinecolor": "white",
           "zerolinewidth": 2
          },
          "yaxis": {
           "automargin": true,
           "gridcolor": "white",
           "linecolor": "white",
           "ticks": "",
           "title": {
            "standoff": 15
           },
           "zerolinecolor": "white",
           "zerolinewidth": 2
          }
         }
        },
        "xaxis": {
         "anchor": "y",
         "domain": [
          0,
          1
         ],
         "title": {
          "text": "Age"
         }
        },
        "yaxis": {
         "anchor": "x",
         "domain": [
          0,
          1
         ],
         "title": {
          "text": "count"
         }
        }
       }
      }
     },
     "metadata": {},
     "output_type": "display_data"
    }
   ],
   "source": [
    "#px.histogram(df, x=\"Age\", color=\"Survived\")\n",
    "px.histogram(df, x=\"Age\")"
   ]
  },
  {
   "cell_type": "code",
   "execution_count": 14,
   "metadata": {},
   "outputs": [
    {
     "data": {
      "text/plain": [
       "<Axes: xlabel='Age', ylabel='Count'>"
      ]
     },
     "execution_count": 14,
     "metadata": {},
     "output_type": "execute_result"
    },
    {
     "data": {
      "image/png": "[encoded data removed]",
      "text/plain": [
       "<Figure size 640x480 with 1 Axes>"
      ]
     },
     "metadata": {},
     "output_type": "display_data"
    }
   ],
   "source": [
    "sb.histplot(df['Age'], kde=True)"
   ]
  },
  {
   "cell_type": "markdown",
   "metadata": {},
   "source": [
    "Se consideró probar la mediana o la media móvil para llenar los vacíos, sin embargo, se pude utilizar otro dato para poder aproximar la edad de una mejor manera.\n",
    "\n",
    "Se pretende hacer uso de los títulos de las personas para darles una medida, es decir, si una persona tiene el título Mr y no tiene edad, se usará la media móvil de las personas con ese título.\n",
    "\n",
    "A continuación se procede a hacer la obtención del título para posteriormente realizar lo mencionado anteriormente."
   ]
  },
  {
   "cell_type": "code",
   "execution_count": 15,
   "metadata": {},
   "outputs": [
    {
     "data": {
      "text/plain": [
       "array(['Mr', 'Mrs', 'Miss', 'Master', 'Don', 'Rev', 'Dr', 'Mme', 'Ms',\n",
       "       'Major', 'Lady', 'Sir', 'Mlle', 'Col', 'Capt', 'the Countess',\n",
       "       'Jonkheer', 'Dona'], dtype=object)"
      ]
     },
     "execution_count": 15,
     "metadata": {},
     "output_type": "execute_result"
    }
   ],
   "source": [
    "df['Title'] = df['Name'].str.extract(r',\\s*([^\\.]*)\\.', expand=False)\n",
    "df['Title'].unique()"
   ]
  },
  {
   "cell_type": "markdown",
   "metadata": {},
   "source": [
    "Para decidir qué medida se utilizará, se realizará una visualización de histogramas de las edades de los 17 títulos para decidir si usar media o mediana. Considerando también que la media móvil deberá mantenerse como entero."
   ]
  },
  {
   "cell_type": "code",
   "execution_count": 16,
   "metadata": {},
   "outputs": [
    {
     "data": {
      "application/vnd.plotly.v1+json": {
       "config": {
        "plotlyServerURL": "https://plot.ly"
       },
       "data": [
        {
         "alignmentgroup": "True",
         "hovertemplate": "Título=%{x}<br>Cantidad de Edades Faltantes=%{y}<extra></extra>",
         "legendgroup": "",
         "marker": {
          "color": "#636efa",
          "pattern": {
           "shape": ""
          }
         },
         "name": "",
         "offsetgroup": "",
         "orientation": "v",
         "showlegend": false,
         "textposition": "auto",
         "texttemplate": "%{y}",
         "type": "bar",
         "x": [
          "Dr",
          "Master",
          "Miss",
          "Mr",
          "Mrs",
          "Ms"
         ],
         "xaxis": "x",
         "y": [
          1,
          8,
          50,
          176,
          27,
          1
         ],
         "yaxis": "y"
        }
       ],
       "layout": {
        "barmode": "relative",
        "legend": {
         "tracegroupgap": 0
        },
        "template": {
         "data": {
          "bar": [
           {
            "error_x": {
             "color": "#2a3f5f"
            },
            "error_y": {
             "color": "#2a3f5f"
            },
            "marker": {
             "line": {
              "color": "#E5ECF6",
              "width": 0.5
             },
             "pattern": {
              "fillmode": "overlay",
              "size": 10,
              "solidity": 0.2
             }
            },
            "type": "bar"
           }
          ],
          "barpolar": [
           {
            "marker": {
             "line": {
              "color": "#E5ECF6",
              "width": 0.5
             },
             "pattern": {
              "fillmode": "overlay",
              "size": 10,
              "solidity": 0.2
             }
            },
            "type": "barpolar"
           }
          ],
          "carpet": [
           {
            "aaxis": {
             "endlinecolor": "#2a3f5f",
             "gridcolor": "white",
             "linecolor": "white",
             "minorgridcolor": "white",
             "startlinecolor": "#2a3f5f"
            },
            "baxis": {
             "endlinecolor": "#2a3f5f",
             "gridcolor": "white",
             "linecolor": "white",
             "minorgridcolor": "white",
             "startlinecolor": "#2a3f5f"
            },
            "type": "carpet"
           }
          ],
          "choropleth": [
           {
            "colorbar": {
             "outlinewidth": 0,
             "ticks": ""
            },
            "type": "choropleth"
           }
          ],
          "contour": [
           {
            "colorbar": {
             "outlinewidth": 0,
             "ticks": ""
            },
            "colorscale": [
             [
              0,
              "#0d0887"
             ],
             [
              0.1111111111111111,
              "#46039f"
             ],
             [
              0.2222222222222222,
              "#7201a8"
             ],
             [
              0.3333333333333333,
              "#9c179e"
             ],
             [
              0.4444444444444444,
              "#bd3786"
             ],
             [
              0.5555555555555556,
              "#d8576b"
             ],
             [
              0.6666666666666666,
              "#ed7953"
             ],
             [
              0.7777777777777778,
              "#fb9f3a"
             ],
             [
              0.8888888888888888,
              "#fdca26"
             ],
             [
              1,
              "#f0f921"
             ]
            ],
            "type": "contour"
           }
          ],
          "contourcarpet": [
           {
            "colorbar": {
             "outlinewidth": 0,
             "ticks": ""
            },
            "type": "contourcarpet"
           }
          ],
          "heatmap": [
           {
            "colorbar": {
             "outlinewidth": 0,
             "ticks": ""
            },
            "colorscale": [
             [
              0,
              "#0d0887"
             ],
             [
              0.1111111111111111,
              "#46039f"
             ],
             [
              0.2222222222222222,
              "#7201a8"
             ],
             [
              0.3333333333333333,
              "#9c179e"
             ],
             [
              0.4444444444444444,
              "#bd3786"
             ],
             [
              0.5555555555555556,
              "#d8576b"
             ],
             [
              0.6666666666666666,
              "#ed7953"
             ],
             [
              0.7777777777777778,
              "#fb9f3a"
             ],
             [
              0.8888888888888888,
              "#fdca26"
             ],
             [
              1,
              "#f0f921"
             ]
            ],
            "type": "heatmap"
           }
          ],
          "heatmapgl": [
           {
            "colorbar": {
             "outlinewidth": 0,
             "ticks": ""
            },
            "colorscale": [
             [
              0,
              "#0d0887"
             ],
             [
              0.1111111111111111,
              "#46039f"
             ],
             [
              0.2222222222222222,
              "#7201a8"
             ],
             [
              0.3333333333333333,
              "#9c179e"
             ],
             [
              0.4444444444444444,
              "#bd3786"
             ],
             [
              0.5555555555555556,
              "#d8576b"
             ],
             [
              0.6666666666666666,
              "#ed7953"
             ],
             [
              0.7777777777777778,
              "#fb9f3a"
             ],
             [
              0.8888888888888888,
              "#fdca26"
             ],
             [
              1,
              "#f0f921"
             ]
            ],
            "type": "heatmapgl"
           }
          ],
          "histogram": [
           {
            "marker": {
             "pattern": {
              "fillmode": "overlay",
              "size": 10,
              "solidity": 0.2
             }
            },
            "type": "histogram"
           }
          ],
          "histogram2d": [
           {
            "colorbar": {
             "outlinewidth": 0,
             "ticks": ""
            },
            "colorscale": [
             [
              0,
              "#0d0887"
             ],
             [
              0.1111111111111111,
              "#46039f"
             ],
             [
              0.2222222222222222,
              "#7201a8"
             ],
             [
              0.3333333333333333,
              "#9c179e"
             ],
             [
              0.4444444444444444,
              "#bd3786"
             ],
             [
              0.5555555555555556,
              "#d8576b"
             ],
             [
              0.6666666666666666,
              "#ed7953"
             ],
             [
              0.7777777777777778,
              "#fb9f3a"
             ],
             [
              0.8888888888888888,
              "#fdca26"
             ],
             [
              1,
              "#f0f921"
             ]
            ],
            "type": "histogram2d"
           }
          ],
          "histogram2dcontour": [
           {
            "colorbar": {
             "outlinewidth": 0,
             "ticks": ""
            },
            "colorscale": [
             [
              0,
              "#0d0887"
             ],
             [
              0.1111111111111111,
              "#46039f"
             ],
             [
              0.2222222222222222,
              "#7201a8"
             ],
             [
              0.3333333333333333,
              "#9c179e"
             ],
             [
              0.4444444444444444,
              "#bd3786"
             ],
             [
              0.5555555555555556,
              "#d8576b"
             ],
             [
              0.6666666666666666,
              "#ed7953"
             ],
             [
              0.7777777777777778,
              "#fb9f3a"
             ],
             [
              0.8888888888888888,
              "#fdca26"
             ],
             [
              1,
              "#f0f921"
             ]
            ],
            "type": "histogram2dcontour"
           }
          ],
          "mesh3d": [
           {
            "colorbar": {
             "outlinewidth": 0,
             "ticks": ""
            },
            "type": "mesh3d"
           }
          ],
          "parcoords": [
           {
            "line": {
             "colorbar": {
              "outlinewidth": 0,
              "ticks": ""
             }
            },
            "type": "parcoords"
           }
          ],
          "pie": [
           {
            "automargin": true,
            "type": "pie"
           }
          ],
          "scatter": [
           {
            "fillpattern": {
             "fillmode": "overlay",
             "size": 10,
             "solidity": 0.2
            },
            "type": "scatter"
           }
          ],
          "scatter3d": [
           {
            "line": {
             "colorbar": {
              "outlinewidth": 0,
              "ticks": ""
             }
            },
            "marker": {
             "colorbar": {
              "outlinewidth": 0,
              "ticks": ""
             }
            },
            "type": "scatter3d"
           }
          ],
          "scattercarpet": [
           {
            "marker": {
             "colorbar": {
              "outlinewidth": 0,
              "ticks": ""
             }
            },
            "type": "scattercarpet"
           }
          ],
          "scattergeo": [
           {
            "marker": {
             "colorbar": {
              "outlinewidth": 0,
              "ticks": ""
             }
            },
            "type": "scattergeo"
           }
          ],
          "scattergl": [
           {
            "marker": {
             "colorbar": {
              "outlinewidth": 0,
              "ticks": ""
             }
            },
            "type": "scattergl"
           }
          ],
          "scattermapbox": [
           {
            "marker": {
             "colorbar": {
              "outlinewidth": 0,
              "ticks": ""
             }
            },
            "type": "scattermapbox"
           }
          ],
          "scatterpolar": [
           {
            "marker": {
             "colorbar": {
              "outlinewidth": 0,
              "ticks": ""
             }
            },
            "type": "scatterpolar"
           }
          ],
          "scatterpolargl": [
           {
            "marker": {
             "colorbar": {
              "outlinewidth": 0,
              "ticks": ""
             }
            },
            "type": "scatterpolargl"
           }
          ],
          "scatterternary": [
           {
            "marker": {
             "colorbar": {
              "outlinewidth": 0,
              "ticks": ""
             }
            },
            "type": "scatterternary"
           }
          ],
          "surface": [
           {
            "colorbar": {
             "outlinewidth": 0,
             "ticks": ""
            },
            "colorscale": [
             [
              0,
              "#0d0887"
             ],
             [
              0.1111111111111111,
              "#46039f"
             ],
             [
              0.2222222222222222,
              "#7201a8"
             ],
             [
              0.3333333333333333,
              "#9c179e"
             ],
             [
              0.4444444444444444,
              "#bd3786"
             ],
             [
              0.5555555555555556,
              "#d8576b"
             ],
             [
              0.6666666666666666,
              "#ed7953"
             ],
             [
              0.7777777777777778,
              "#fb9f3a"
             ],
             [
              0.8888888888888888,
              "#fdca26"
             ],
             [
              1,
              "#f0f921"
             ]
            ],
            "type": "surface"
           }
          ],
          "table": [
           {
            "cells": {
             "fill": {
              "color": "#EBF0F8"
             },
             "line": {
              "color": "white"
             }
            },
            "header": {
             "fill": {
              "color": "#C8D4E3"
             },
             "line": {
              "color": "white"
             }
            },
            "type": "table"
           }
          ]
         },
         "layout": {
          "annotationdefaults": {
           "arrowcolor": "#2a3f5f",
           "arrowhead": 0,
           "arrowwidth": 1
          },
          "autotypenumbers": "strict",
          "coloraxis": {
           "colorbar": {
            "outlinewidth": 0,
            "ticks": ""
           }
          },
          "colorscale": {
           "diverging": [
            [
             0,
             "#8e0152"
            ],
            [
             0.1,
             "#c51b7d"
            ],
            [
             0.2,
             "#de77ae"
            ],
            [
             0.3,
             "#f1b6da"
            ],
            [
             0.4,
             "#fde0ef"
            ],
            [
             0.5,
             "#f7f7f7"
            ],
            [
             0.6,
             "#e6f5d0"
            ],
            [
             0.7,
             "#b8e186"
            ],
            [
             0.8,
             "#7fbc41"
            ],
            [
             0.9,
             "#4d9221"
            ],
            [
             1,
             "#276419"
            ]
           ],
           "sequential": [
            [
             0,
             "#0d0887"
            ],
            [
             0.1111111111111111,
             "#46039f"
            ],
            [
             0.2222222222222222,
             "#7201a8"
            ],
            [
             0.3333333333333333,
             "#9c179e"
            ],
            [
             0.4444444444444444,
             "#bd3786"
            ],
            [
             0.5555555555555556,
             "#d8576b"
            ],
            [
             0.6666666666666666,
             "#ed7953"
            ],
            [
             0.7777777777777778,
             "#fb9f3a"
            ],
            [
             0.8888888888888888,
             "#fdca26"
            ],
            [
             1,
             "#f0f921"
            ]
           ],
           "sequentialminus": [
            [
             0,
             "#0d0887"
            ],
            [
             0.1111111111111111,
             "#46039f"
            ],
            [
             0.2222222222222222,
             "#7201a8"
            ],
            [
             0.3333333333333333,
             "#9c179e"
            ],
            [
             0.4444444444444444,
             "#bd3786"
            ],
            [
             0.5555555555555556,
             "#d8576b"
            ],
            [
             0.6666666666666666,
             "#ed7953"
            ],
            [
             0.7777777777777778,
             "#fb9f3a"
            ],
            [
             0.8888888888888888,
             "#fdca26"
            ],
            [
             1,
             "#f0f921"
            ]
           ]
          },
          "colorway": [
           "#636efa",
           "#EF553B",
           "#00cc96",
           "#ab63fa",
           "#FFA15A",
           "#19d3f3",
           "#FF6692",
           "#B6E880",
           "#FF97FF",
           "#FECB52"
          ],
          "font": {
           "color": "#2a3f5f"
          },
          "geo": {
           "bgcolor": "white",
           "lakecolor": "white",
           "landcolor": "#E5ECF6",
           "showlakes": true,
           "showland": true,
           "subunitcolor": "white"
          },
          "hoverlabel": {
           "align": "left"
          },
          "hovermode": "closest",
          "mapbox": {
           "style": "light"
          },
          "paper_bgcolor": "white",
          "plot_bgcolor": "#E5ECF6",
          "polar": {
           "angularaxis": {
            "gridcolor": "white",
            "linecolor": "white",
            "ticks": ""
           },
           "bgcolor": "#E5ECF6",
           "radialaxis": {
            "gridcolor": "white",
            "linecolor": "white",
            "ticks": ""
           }
          },
          "scene": {
           "xaxis": {
            "backgroundcolor": "#E5ECF6",
            "gridcolor": "white",
            "gridwidth": 2,
            "linecolor": "white",
            "showbackground": true,
            "ticks": "",
            "zerolinecolor": "white"
           },
           "yaxis": {
            "backgroundcolor": "#E5ECF6",
            "gridcolor": "white",
            "gridwidth": 2,
            "linecolor": "white",
            "showbackground": true,
            "ticks": "",
            "zerolinecolor": "white"
           },
           "zaxis": {
            "backgroundcolor": "#E5ECF6",
            "gridcolor": "white",
            "gridwidth": 2,
            "linecolor": "white",
            "showbackground": true,
            "ticks": "",
            "zerolinecolor": "white"
           }
          },
          "shapedefaults": {
           "line": {
            "color": "#2a3f5f"
           }
          },
          "ternary": {
           "aaxis": {
            "gridcolor": "white",
            "linecolor": "white",
            "ticks": ""
           },
           "baxis": {
            "gridcolor": "white",
            "linecolor": "white",
            "ticks": ""
           },
           "bgcolor": "#E5ECF6",
           "caxis": {
            "gridcolor": "white",
            "linecolor": "white",
            "ticks": ""
           }
          },
          "title": {
           "x": 0.05
          },
          "xaxis": {
           "automargin": true,
           "gridcolor": "white",
           "linecolor": "white",
           "ticks": "",
           "title": {
            "standoff": 15
           },
           "zerolinecolor": "white",
           "zerolinewidth": 2
          },
          "yaxis": {
           "automargin": true,
           "gridcolor": "white",
           "linecolor": "white",
           "ticks": "",
           "title": {
            "standoff": 15
           },
           "zerolinecolor": "white",
           "zerolinewidth": 2
          }
         }
        },
        "title": {
         "text": "Número de Edades Faltantes por Título"
        },
        "xaxis": {
         "anchor": "y",
         "domain": [
          0,
          1
         ],
         "title": {
          "text": "Título"
         }
        },
        "yaxis": {
         "anchor": "x",
         "domain": [
          0,
          1
         ],
         "title": {
          "text": "Cantidad de Edades Faltantes"
         }
        }
       }
      }
     },
     "metadata": {},
     "output_type": "display_data"
    }
   ],
   "source": [
    "# Contar las edades faltantes por título\n",
    "edades_faltantes = df[df['Age'].isnull()].groupby('Title').size().reset_index(name='Missing Count')\n",
    "\n",
    "fig = px.bar(edades_faltantes, x='Title', y='Missing Count', \n",
    "             title='Número de Edades Faltantes por Título', \n",
    "             labels={'Title': 'Título', 'Missing Count': 'Cantidad de Edades Faltantes'},\n",
    "             text_auto=True)\n",
    "\n",
    "# Mostrar el gráfico\n",
    "fig.show()"
   ]
  },
  {
   "cell_type": "code",
   "execution_count": 17,
   "metadata": {},
   "outputs": [
    {
     "data": {
      "image/png": "[encoded data removed]",
      "text/plain": [
       "<Figure size 1800x1000 with 6 Axes>"
      ]
     },
     "metadata": {},
     "output_type": "display_data"
    }
   ],
   "source": [
    "# Títulos con valores faltantes\n",
    "titulos_con_faltantes = ['Mr', 'Miss', 'Mrs', 'Master', 'Dr', 'Ms']\n",
    "\n",
    "plt.figure(figsize=(18, 10))\n",
    "plt.subplots_adjust(hspace=0.4, wspace=0.4)\n",
    "\n",
    "# Histogramas\n",
    "for i, titulo in enumerate(titulos_con_faltantes):\n",
    "    plt.subplot(2, 3, i+1) \n",
    "    subset = df[(df['Title'] == titulo) & (df['Age'].notnull())]['Age']  # Filtrar las edades no nulas\n",
    "    plt.hist(subset, bins=15, edgecolor='black', alpha=0.7)  # Histograma\n",
    "    plt.title(f'{titulo} (N={len(subset)})')  # Título del subplot con la cantidad de datos\n",
    "    plt.xlabel('Edad')\n",
    "    plt.ylabel('Frecuencia')\n",
    "\n",
    "# Título general del gráfico\n",
    "plt.suptitle('Histogramas de Edades por Título con Edades Faltantes', fontsize=20)\n",
    "plt.show()"
   ]
  },
  {
   "cell_type": "markdown",
   "metadata": {},
   "source": [
    "En todos los títulos en los que hay edades faltantes, los datos no siguen una distribución normal, por lo que el uso de la media podría implicar la creación de datos sesgados. \n",
    "\n",
    "Se procederá a hacer el llenado de los datos vacíos haciendo uso de la mediana, puesto que esta medida permitirá que los valores atípicos no sesguen las medidas. Sin embargo, el uso de esta medida se realizará solo en los títulos: Mr, Miss y Mrs, dado que cuentan conn datos suficientes. Para los títulos: Master y Dr se usará una media móvil que se mantenga como un número entero."
   ]
  },
  {
   "cell_type": "code",
   "execution_count": 18,
   "metadata": {},
   "outputs": [],
   "source": [
    "# Llenar NaN con la mediana móvil para los títulos Mr, Miss, Mrs\n",
    "df.loc[df['Title'].isin(['Mr', 'Miss', 'Mrs']), 'Age'] = (\n",
    "    # Usamos loc para seleccionar filas donde el 'Title' es uno de los indicados (Mr, Miss, Mrs)\n",
    "    df.groupby('Title')['Age'].transform(  # Agrupamos por 'Title' y aplicamos transform para modificar 'Age'\n",
    "        lambda x: x.fillna(x.rolling(window=3, min_periods=1).median())  # Usamos lambda para llenar valores nulos con la mediana móvil (ventana de 3)\n",
    "    )\n",
    ")\n",
    "\n",
    "# Llenar NaN con la media móvil para los títulos Master y Dr\n",
    "df.loc[df['Title'].isin(['Master', 'Dr']), 'Age'] = (\n",
    "    # Usamos loc para seleccionar filas donde el 'Title' es Master o Dr\n",
    "    df.groupby('Title')['Age'].transform(  # Agrupamos por 'Title' y aplicamos transform para modificar 'Age'\n",
    "        lambda x: x.fillna(x.rolling(window=3, min_periods=1).mean())  # Llenamos NaN con la media móvil (ventana de 3)\n",
    "    )\n",
    ")\n",
    "\n",
    "df['Age'] = df['Age'].fillna(df['Age'].mode()[0]) #Llenar la moda de las edades faltantes\n"
   ]
  },
  {
   "cell_type": "code",
   "execution_count": 19,
   "metadata": {},
   "outputs": [
    {
     "data": {
      "text/plain": [
       "Survived    418\n",
       "Pclass        0\n",
       "Name          0\n",
       "Sex           0\n",
       "Age           0\n",
       "SibSp         0\n",
       "Parch         0\n",
       "Ticket        0\n",
       "Fare          0\n",
       "Embarked      0\n",
       "Title         0\n",
       "dtype: int64"
      ]
     },
     "execution_count": 19,
     "metadata": {},
     "output_type": "execute_result"
    }
   ],
   "source": [
    "df.isnull().sum()"
   ]
  },
  {
   "cell_type": "code",
   "execution_count": 20,
   "metadata": {},
   "outputs": [
    {
     "data": {
      "application/vnd.plotly.v1+json": {
       "config": {
        "plotlyServerURL": "https://plot.ly"
       },
       "data": [
        {
         "alignmentgroup": "True",
         "bingroup": "x",
         "hovertemplate": "Age=%{x}<br>count=%{y}<extra></extra>",
         "legendgroup": "",
         "marker": {
          "color": "#636efa",
          "pattern": {
           "shape": ""
          }
         },
         "name": "",
         "offsetgroup": "",
         "orientation": "v",
         "showlegend": false,
         "type": "histogram",
         "x": [
          22,
          38,
          26,
          35,
          35,
          28.5,
          54,
          2,
          27,
          14,
          4,
          58,
          20,
          39,
          14,
          55,
          2,
          29.5,
          31,
          43,
          35,
          34,
          15,
          28,
          8,
          38,
          31,
          19,
          11.5,
          19,
          40,
          38,
          8,
          66,
          28,
          42,
          35,
          21,
          18,
          14,
          40,
          27,
          21,
          3,
          19,
          21,
          24,
          11,
          24,
          18,
          7,
          21,
          49,
          29,
          65,
          43,
          21,
          28.5,
          5,
          11,
          22,
          38,
          45,
          4,
          33.5,
          7.5,
          29,
          19,
          17,
          26,
          32,
          16,
          21,
          26,
          32,
          25,
          28.5,
          25,
          0.83,
          30,
          22,
          29,
          23,
          28,
          17,
          33,
          16,
          22,
          23,
          24,
          29,
          20,
          46,
          26,
          59,
          42.5,
          71,
          23,
          34,
          34,
          28,
          28.5,
          21,
          33,
          37,
          28,
          21,
          32.5,
          38,
          24.5,
          47,
          14.5,
          22,
          20,
          17,
          21,
          70.5,
          29,
          24,
          2,
          21,
          22.5,
          32.5,
          32.5,
          54,
          12,
          43.25,
          24,
          17.25,
          45,
          33,
          20,
          47,
          29,
          25,
          23,
          19,
          37,
          16,
          24,
          38,
          22,
          24,
          19,
          18,
          19,
          27,
          9,
          36.5,
          42,
          51,
          22,
          55.5,
          40.5,
          48,
          51,
          16,
          30,
          40.5,
          6.415,
          44,
          40,
          26,
          17,
          1,
          9,
          31,
          45,
          21.5,
          28,
          61,
          4,
          1,
          21,
          56,
          18,
          6.5,
          50,
          30,
          36,
          25.5,
          33,
          9,
          1,
          4,
          36,
          45,
          45,
          40,
          36,
          32,
          19,
          19,
          3,
          44,
          58,
          27.5,
          42,
          38.5,
          24,
          28,
          35,
          34,
          45.5,
          18,
          2,
          32,
          26,
          16,
          40,
          24,
          35,
          22,
          30,
          26,
          31,
          27,
          42,
          32,
          30,
          16,
          27,
          51,
          39,
          38,
          22,
          19,
          20.5,
          18,
          29.5,
          35,
          29,
          59,
          5,
          24,
          5,
          44,
          8,
          19,
          33,
          8,
          8,
          29,
          22,
          30,
          44,
          25,
          24,
          37,
          54,
          33.5,
          29,
          62,
          30,
          41,
          29,
          35,
          30,
          35,
          50,
          46,
          3,
          52,
          40,
          32.5,
          36,
          16,
          25,
          58,
          35,
          20.5,
          25,
          41,
          37,
          35,
          63,
          45,
          31,
          7,
          35,
          65,
          28,
          16,
          19,
          17.5,
          33,
          30,
          22,
          42,
          22,
          26,
          19,
          36,
          24,
          24,
          30,
          23.5,
          2,
          23.5,
          50,
          13,
          23.5,
          19,
          2,
          19,
          0.92,
          24,
          17,
          30,
          30,
          24,
          18,
          26,
          28,
          43,
          26,
          24,
          54,
          31,
          40,
          22,
          27,
          30,
          22,
          24.5,
          36,
          61,
          36,
          31,
          16,
          26,
          45.5,
          38,
          16,
          33.5,
          27,
          29,
          41,
          45,
          45,
          2,
          24,
          28,
          25,
          36,
          24,
          40,
          31,
          3,
          42,
          23,
          32.5,
          15,
          25,
          20,
          28,
          22,
          38,
          30,
          38,
          40,
          29,
          45,
          35,
          32,
          30,
          60,
          52.5,
          24,
          24,
          25,
          18,
          19,
          22,
          3,
          60,
          22,
          27,
          20,
          19,
          42,
          1,
          32,
          35,
          25.5,
          18,
          1,
          36,
          18,
          17,
          36,
          21,
          28,
          23,
          24,
          22,
          31,
          46,
          23,
          28,
          39,
          26,
          21,
          28,
          20,
          34,
          51,
          3,
          21,
          20.5,
          36,
          21,
          33,
          24,
          44,
          26,
          34,
          18,
          30,
          10,
          37,
          21,
          29,
          28,
          18,
          23.5,
          28,
          19,
          18,
          32,
          28,
          28,
          42,
          17,
          50,
          14,
          21,
          24,
          64,
          31,
          45,
          20,
          25,
          28,
          22.5,
          4,
          13,
          34,
          5,
          52,
          36,
          35,
          30,
          49,
          39.5,
          29,
          65,
          34.5,
          50,
          47,
          48,
          34,
          47,
          48,
          47.5,
          38,
          38,
          56,
          56,
          0.75,
          56,
          38,
          33,
          23,
          22,
          38,
          34,
          29,
          22,
          2,
          9,
          25.5,
          50,
          63,
          25,
          12,
          35,
          58,
          30,
          9,
          44,
          21,
          55,
          71,
          21,
          46,
          54,
          21,
          25,
          24,
          17,
          21,
          37.5,
          37,
          16,
          18,
          33,
          17.5,
          28,
          26,
          29,
          27.5,
          36,
          54,
          24,
          47,
          34,
          35.5,
          36,
          32,
          30,
          22,
          27,
          44,
          22,
          40.5,
          50,
          40.5,
          39,
          23,
          2,
          31,
          17,
          40,
          30,
          7,
          45,
          30,
          17,
          22,
          36,
          9,
          11,
          32,
          50,
          64,
          19,
          57,
          33,
          8,
          17,
          27,
          22,
          22,
          22,
          62,
          48,
          42,
          39,
          36,
          62,
          40,
          28,
          34,
          16.5,
          24,
          19,
          29,
          21.5,
          32,
          62,
          53,
          36,
          22,
          16,
          19,
          34,
          39,
          46,
          32,
          25,
          39,
          54,
          36,
          45,
          18,
          47,
          60,
          22,
          41,
          35,
          52,
          47,
          21.5,
          37,
          36,
          18,
          49,
          42.5,
          49,
          24,
          49,
          24,
          44,
          35,
          36,
          30,
          27,
          22,
          40,
          39,
          28.5,
          40,
          27,
          35,
          24,
          34,
          26,
          4,
          26,
          27,
          42,
          20,
          21,
          21,
          61,
          57,
          21,
          26,
          43.5,
          80,
          51,
          32,
          65.5,
          9,
          28,
          32,
          31,
          41,
          31.5,
          20,
          24,
          2,
          20,
          0.75,
          48,
          19,
          56,
          33.5,
          23,
          19,
          18,
          21,
          20.5,
          18,
          24,
          22.5,
          32,
          23,
          58,
          50,
          40,
          47,
          36,
          20,
          32,
          25,
          28.5,
          43,
          36.5,
          40,
          31,
          70,
          31,
          50.5,
          18,
          24.5,
          18,
          43,
          36,
          18,
          27,
          20,
          14,
          60,
          25,
          14,
          19,
          18,
          15,
          31,
          4,
          24.5,
          25,
          60,
          52,
          44,
          9.5,
          49,
          42,
          18,
          35,
          18,
          25,
          26,
          39,
          45,
          42,
          22,
          8.5,
          24,
          40.5,
          48,
          29,
          52,
          19,
          38,
          27,
          35.5,
          33,
          6,
          17,
          34,
          50,
          27,
          20,
          30,
          16.5,
          25,
          25,
          29,
          11,
          18,
          23,
          23,
          28.5,
          48,
          35,
          31.75,
          35,
          24,
          36,
          21,
          24,
          31,
          70,
          16,
          30,
          19,
          31,
          4,
          6,
          33,
          23,
          48,
          0.67,
          28,
          18,
          34,
          33,
          26,
          41,
          20,
          36,
          16,
          51,
          41,
          30.5,
          18,
          32,
          24,
          48,
          57,
          36,
          54,
          18,
          18,
          5,
          18,
          43,
          13,
          17,
          29,
          29,
          25,
          25,
          18,
          8,
          1,
          46,
          35.5,
          16,
          15.5,
          16,
          25,
          39,
          49,
          31,
          30,
          30,
          34,
          31,
          11,
          0.42,
          27,
          31,
          39,
          18,
          39,
          33,
          26,
          39,
          35,
          6,
          30.5,
          32.75,
          23,
          31,
          43,
          10,
          52,
          27,
          38,
          27,
          2,
          35,
          27,
          1,
          24,
          62,
          15,
          0.83,
          24,
          23,
          18,
          39,
          21,
          19.5,
          32,
          32,
          20,
          16,
          30,
          34.5,
          17,
          42,
          29.5,
          35,
          28,
          38.5,
          4,
          74,
          9,
          16,
          44,
          18,
          45,
          51,
          24,
          62.5,
          41,
          21,
          48,
          12.5,
          24,
          42,
          27,
          31,
          27.5,
          4,
          26,
          47,
          33,
          47,
          28,
          15,
          20,
          19,
          19.5,
          56,
          25,
          33,
          22,
          28,
          25,
          39,
          27,
          19,
          20.5,
          26,
          32,
          34.5,
          47,
          62,
          27,
          22,
          14,
          30,
          26,
          18,
          21,
          23.5,
          46,
          23,
          63,
          47,
          24,
          35,
          21,
          27,
          45,
          55,
          9,
          34.5,
          21,
          48,
          50,
          22,
          22.5,
          41,
          31.75,
          50,
          24,
          33,
          40.5,
          30,
          18.5,
          24.5,
          21,
          25,
          21.75,
          39,
          39,
          41,
          30,
          45,
          25,
          45,
          35,
          60,
          36,
          24,
          27,
          20,
          28,
          25.5,
          10,
          35,
          25,
          30,
          36,
          17,
          32,
          18,
          22,
          13,
          48,
          18,
          47,
          31,
          60,
          24,
          21,
          29,
          28.5,
          35,
          32.5,
          30.5,
          55,
          30,
          24,
          6,
          67,
          49,
          58,
          49,
          24,
          27,
          18,
          24,
          2,
          22,
          24,
          27,
          24,
          25,
          25,
          76,
          29,
          20,
          33,
          43,
          27,
          30,
          26,
          16,
          28,
          21,
          24.5,
          21,
          18.5,
          41,
          19,
          36,
          18.5,
          63,
          18,
          29.5,
          1,
          36,
          29,
          12,
          36,
          35,
          28,
          28,
          17,
          22,
          14.5,
          42,
          24,
          32,
          53,
          32,
          28,
          43,
          24,
          26.5,
          26,
          23,
          40,
          10,
          33,
          61,
          28,
          42,
          31,
          36.5,
          22,
          22,
          30,
          23,
          22,
          60.5,
          36,
          13,
          24,
          29,
          23,
          42,
          26,
          26,
          7,
          26,
          33,
          41,
          26,
          48,
          18,
          26,
          22,
          33,
          27,
          23,
          25,
          40,
          15,
          20,
          54,
          36,
          64,
          30,
          37,
          18,
          33.5,
          27,
          40,
          21,
          17,
          20.5,
          40,
          34,
          37,
          11.5,
          61,
          8,
          33,
          6,
          18,
          23,
          22.5,
          18,
          0.33,
          47,
          8,
          25,
          24,
          35,
          24,
          33,
          25,
          32,
          28.5,
          17,
          60,
          38,
          42,
          35.5,
          57,
          50,
          49.5,
          30,
          21,
          22,
          21,
          53,
          37.5,
          23,
          30,
          40.5,
          36,
          14,
          21,
          21,
          17.5,
          39,
          20,
          64,
          20,
          18,
          48,
          55,
          45,
          45,
          32.5,
          3.165,
          41,
          22,
          42,
          29,
          25.5,
          0.92,
          20,
          27,
          24,
          32.5,
          28.25,
          32.5,
          28,
          19,
          21,
          36.5,
          21,
          29,
          1,
          30,
          25.5,
          30,
          24,
          10,
          17,
          46,
          31.5,
          26,
          1,
          46,
          20,
          28,
          40,
          30,
          22,
          23,
          0.75,
          21.5,
          9,
          2,
          36,
          29,
          24,
          24,
          24,
          24,
          30,
          24,
          53,
          36,
          26,
          1,
          31,
          30,
          29,
          32,
          30.5,
          43,
          24,
          15.5,
          64,
          30,
          0.83,
          55,
          45,
          18,
          22,
          20,
          37,
          55,
          17,
          57,
          19,
          27,
          22,
          26,
          25,
          26,
          33,
          39,
          23,
          12,
          46,
          29,
          21,
          48,
          39,
          30,
          19,
          27,
          30,
          32,
          39,
          25,
          0.79,
          18,
          32,
          25,
          58,
          0.83,
          16,
          26,
          38,
          24,
          31,
          45,
          25,
          18,
          49,
          0.17,
          50,
          59,
          49.5,
          50,
          30,
          14.5,
          24,
          31,
          27,
          25,
          28,
          27,
          22,
          45,
          29,
          21,
          31,
          49,
          44,
          54,
          45,
          22,
          21,
          55,
          5,
          38,
          26,
          49.5,
          19,
          26,
          24,
          24,
          57,
          21,
          6,
          23,
          51,
          13,
          47,
          29,
          18,
          24,
          48,
          22,
          31,
          30,
          38,
          22,
          17,
          43,
          20,
          23,
          50,
          26,
          3,
          3,
          37,
          28,
          36.5,
          39,
          38.5,
          38.5,
          9.5
         ],
         "xaxis": "x",
         "yaxis": "y"
        }
       ],
       "layout": {
        "barmode": "relative",
        "legend": {
         "tracegroupgap": 0
        },
        "margin": {
         "t": 60
        },
        "template": {
         "data": {
          "bar": [
           {
            "error_x": {
             "color": "#2a3f5f"
            },
            "error_y": {
             "color": "#2a3f5f"
            },
            "marker": {
             "line": {
              "color": "#E5ECF6",
              "width": 0.5
             },
             "pattern": {
              "fillmode": "overlay",
              "size": 10,
              "solidity": 0.2
             }
            },
            "type": "bar"
           }
          ],
          "barpolar": [
           {
            "marker": {
             "line": {
              "color": "#E5ECF6",
              "width": 0.5
             },
             "pattern": {
              "fillmode": "overlay",
              "size": 10,
              "solidity": 0.2
             }
            },
            "type": "barpolar"
           }
          ],
          "carpet": [
           {
            "aaxis": {
             "endlinecolor": "#2a3f5f",
             "gridcolor": "white",
             "linecolor": "white",
             "minorgridcolor": "white",
             "startlinecolor": "#2a3f5f"
            },
            "baxis": {
             "endlinecolor": "#2a3f5f",
             "gridcolor": "white",
             "linecolor": "white",
             "minorgridcolor": "white",
             "startlinecolor": "#2a3f5f"
            },
            "type": "carpet"
           }
          ],
          "choropleth": [
           {
            "colorbar": {
             "outlinewidth": 0,
             "ticks": ""
            },
            "type": "choropleth"
           }
          ],
          "contour": [
           {
            "colorbar": {
             "outlinewidth": 0,
             "ticks": ""
            },
            "colorscale": [
             [
              0,
              "#0d0887"
             ],
             [
              0.1111111111111111,
              "#46039f"
             ],
             [
              0.2222222222222222,
              "#7201a8"
             ],
             [
              0.3333333333333333,
              "#9c179e"
             ],
             [
              0.4444444444444444,
              "#bd3786"
             ],
             [
              0.5555555555555556,
              "#d8576b"
             ],
             [
              0.6666666666666666,
              "#ed7953"
             ],
             [
              0.7777777777777778,
              "#fb9f3a"
             ],
             [
              0.8888888888888888,
              "#fdca26"
             ],
             [
              1,
              "#f0f921"
             ]
            ],
            "type": "contour"
           }
          ],
          "contourcarpet": [
           {
            "colorbar": {
             "outlinewidth": 0,
             "ticks": ""
            },
            "type": "contourcarpet"
           }
          ],
          "heatmap": [
           {
            "colorbar": {
             "outlinewidth": 0,
             "ticks": ""
            },
            "colorscale": [
             [
              0,
              "#0d0887"
             ],
             [
              0.1111111111111111,
              "#46039f"
             ],
             [
              0.2222222222222222,
              "#7201a8"
             ],
             [
              0.3333333333333333,
              "#9c179e"
             ],
             [
              0.4444444444444444,
              "#bd3786"
             ],
             [
              0.5555555555555556,
              "#d8576b"
             ],
             [
              0.6666666666666666,
              "#ed7953"
             ],
             [
              0.7777777777777778,
              "#fb9f3a"
             ],
             [
              0.8888888888888888,
              "#fdca26"
             ],
             [
              1,
              "#f0f921"
             ]
            ],
            "type": "heatmap"
           }
          ],
          "heatmapgl": [
           {
            "colorbar": {
             "outlinewidth": 0,
             "ticks": ""
            },
            "colorscale": [
             [
              0,
              "#0d0887"
             ],
             [
              0.1111111111111111,
              "#46039f"
             ],
             [
              0.2222222222222222,
              "#7201a8"
             ],
             [
              0.3333333333333333,
              "#9c179e"
             ],
             [
              0.4444444444444444,
              "#bd3786"
             ],
             [
              0.5555555555555556,
              "#d8576b"
             ],
             [
              0.6666666666666666,
              "#ed7953"
             ],
             [
              0.7777777777777778,
              "#fb9f3a"
             ],
             [
              0.8888888888888888,
              "#fdca26"
             ],
             [
              1,
              "#f0f921"
             ]
            ],
            "type": "heatmapgl"
           }
          ],
          "histogram": [
           {
            "marker": {
             "pattern": {
              "fillmode": "overlay",
              "size": 10,
              "solidity": 0.2
             }
            },
            "type": "histogram"
           }
          ],
          "histogram2d": [
           {
            "colorbar": {
             "outlinewidth": 0,
             "ticks": ""
            },
            "colorscale": [
             [
              0,
              "#0d0887"
             ],
             [
              0.1111111111111111,
              "#46039f"
             ],
             [
              0.2222222222222222,
              "#7201a8"
             ],
             [
              0.3333333333333333,
              "#9c179e"
             ],
             [
              0.4444444444444444,
              "#bd3786"
             ],
             [
              0.5555555555555556,
              "#d8576b"
             ],
             [
              0.6666666666666666,
              "#ed7953"
             ],
             [
              0.7777777777777778,
              "#fb9f3a"
             ],
             [
              0.8888888888888888,
              "#fdca26"
             ],
             [
              1,
              "#f0f921"
             ]
            ],
            "type": "histogram2d"
           }
          ],
          "histogram2dcontour": [
           {
            "colorbar": {
             "outlinewidth": 0,
             "ticks": ""
            },
            "colorscale": [
             [
              0,
              "#0d0887"
             ],
             [
              0.1111111111111111,
              "#46039f"
             ],
             [
              0.2222222222222222,
              "#7201a8"
             ],
             [
              0.3333333333333333,
              "#9c179e"
             ],
             [
              0.4444444444444444,
              "#bd3786"
             ],
             [
              0.5555555555555556,
              "#d8576b"
             ],
             [
              0.6666666666666666,
              "#ed7953"
             ],
             [
              0.7777777777777778,
              "#fb9f3a"
             ],
             [
              0.8888888888888888,
              "#fdca26"
             ],
             [
              1,
              "#f0f921"
             ]
            ],
            "type": "histogram2dcontour"
           }
          ],
          "mesh3d": [
           {
            "colorbar": {
             "outlinewidth": 0,
             "ticks": ""
            },
            "type": "mesh3d"
           }
          ],
          "parcoords": [
           {
            "line": {
             "colorbar": {
              "outlinewidth": 0,
              "ticks": ""
             }
            },
            "type": "parcoords"
           }
          ],
          "pie": [
           {
            "automargin": true,
            "type": "pie"
           }
          ],
          "scatter": [
           {
            "fillpattern": {
             "fillmode": "overlay",
             "size": 10,
             "solidity": 0.2
            },
            "type": "scatter"
           }
          ],
          "scatter3d": [
           {
            "line": {
             "colorbar": {
              "outlinewidth": 0,
              "ticks": ""
             }
            },
            "marker": {
             "colorbar": {
              "outlinewidth": 0,
              "ticks": ""
             }
            },
            "type": "scatter3d"
           }
          ],
          "scattercarpet": [
           {
            "marker": {
             "colorbar": {
              "outlinewidth": 0,
              "ticks": ""
             }
            },
            "type": "scattercarpet"
           }
          ],
          "scattergeo": [
           {
            "marker": {
             "colorbar": {
              "outlinewidth": 0,
              "ticks": ""
             }
            },
            "type": "scattergeo"
           }
          ],
          "scattergl": [
           {
            "marker": {
             "colorbar": {
              "outlinewidth": 0,
              "ticks": ""
             }
            },
            "type": "scattergl"
           }
          ],
          "scattermapbox": [
           {
            "marker": {
             "colorbar": {
              "outlinewidth": 0,
              "ticks": ""
             }
            },
            "type": "scattermapbox"
           }
          ],
          "scatterpolar": [
           {
            "marker": {
             "colorbar": {
              "outlinewidth": 0,
              "ticks": ""
             }
            },
            "type": "scatterpolar"
           }
          ],
          "scatterpolargl": [
           {
            "marker": {
             "colorbar": {
              "outlinewidth": 0,
              "ticks": ""
             }
            },
            "type": "scatterpolargl"
           }
          ],
          "scatterternary": [
           {
            "marker": {
             "colorbar": {
              "outlinewidth": 0,
              "ticks": ""
             }
            },
            "type": "scatterternary"
           }
          ],
          "surface": [
           {
            "colorbar": {
             "outlinewidth": 0,
             "ticks": ""
            },
            "colorscale": [
             [
              0,
              "#0d0887"
             ],
             [
              0.1111111111111111,
              "#46039f"
             ],
             [
              0.2222222222222222,
              "#7201a8"
             ],
             [
              0.3333333333333333,
              "#9c179e"
             ],
             [
              0.4444444444444444,
              "#bd3786"
             ],
             [
              0.5555555555555556,
              "#d8576b"
             ],
             [
              0.6666666666666666,
              "#ed7953"
             ],
             [
              0.7777777777777778,
              "#fb9f3a"
             ],
             [
              0.8888888888888888,
              "#fdca26"
             ],
             [
              1,
              "#f0f921"
             ]
            ],
            "type": "surface"
           }
          ],
          "table": [
           {
            "cells": {
             "fill": {
              "color": "#EBF0F8"
             },
             "line": {
              "color": "white"
             }
            },
            "header": {
             "fill": {
              "color": "#C8D4E3"
             },
             "line": {
              "color": "white"
             }
            },
            "type": "table"
           }
          ]
         },
         "layout": {
          "annotationdefaults": {
           "arrowcolor": "#2a3f5f",
           "arrowhead": 0,
           "arrowwidth": 1
          },
          "autotypenumbers": "strict",
          "coloraxis": {
           "colorbar": {
            "outlinewidth": 0,
            "ticks": ""
           }
          },
          "colorscale": {
           "diverging": [
            [
             0,
             "#8e0152"
            ],
            [
             0.1,
             "#c51b7d"
            ],
            [
             0.2,
             "#de77ae"
            ],
            [
             0.3,
             "#f1b6da"
            ],
            [
             0.4,
             "#fde0ef"
            ],
            [
             0.5,
             "#f7f7f7"
            ],
            [
             0.6,
             "#e6f5d0"
            ],
            [
             0.7,
             "#b8e186"
            ],
            [
             0.8,
             "#7fbc41"
            ],
            [
             0.9,
             "#4d9221"
            ],
            [
             1,
             "#276419"
            ]
           ],
           "sequential": [
            [
             0,
             "#0d0887"
            ],
            [
             0.1111111111111111,
             "#46039f"
            ],
            [
             0.2222222222222222,
             "#7201a8"
            ],
            [
             0.3333333333333333,
             "#9c179e"
            ],
            [
             0.4444444444444444,
             "#bd3786"
            ],
            [
             0.5555555555555556,
             "#d8576b"
            ],
            [
             0.6666666666666666,
             "#ed7953"
            ],
            [
             0.7777777777777778,
             "#fb9f3a"
            ],
            [
             0.8888888888888888,
             "#fdca26"
            ],
            [
             1,
             "#f0f921"
            ]
           ],
           "sequentialminus": [
            [
             0,
             "#0d0887"
            ],
            [
             0.1111111111111111,
             "#46039f"
            ],
            [
             0.2222222222222222,
             "#7201a8"
            ],
            [
             0.3333333333333333,
             "#9c179e"
            ],
            [
             0.4444444444444444,
             "#bd3786"
            ],
            [
             0.5555555555555556,
             "#d8576b"
            ],
            [
             0.6666666666666666,
             "#ed7953"
            ],
            [
             0.7777777777777778,
             "#fb9f3a"
            ],
            [
             0.8888888888888888,
             "#fdca26"
            ],
            [
             1,
             "#f0f921"
            ]
           ]
          },
          "colorway": [
           "#636efa",
           "#EF553B",
           "#00cc96",
           "#ab63fa",
           "#FFA15A",
           "#19d3f3",
           "#FF6692",
           "#B6E880",
           "#FF97FF",
           "#FECB52"
          ],
          "font": {
           "color": "#2a3f5f"
          },
          "geo": {
           "bgcolor": "white",
           "lakecolor": "white",
           "landcolor": "#E5ECF6",
           "showlakes": true,
           "showland": true,
           "subunitcolor": "white"
          },
          "hoverlabel": {
           "align": "left"
          },
          "hovermode": "closest",
          "mapbox": {
           "style": "light"
          },
          "paper_bgcolor": "white",
          "plot_bgcolor": "#E5ECF6",
          "polar": {
           "angularaxis": {
            "gridcolor": "white",
            "linecolor": "white",
            "ticks": ""
           },
           "bgcolor": "#E5ECF6",
           "radialaxis": {
            "gridcolor": "white",
            "linecolor": "white",
            "ticks": ""
           }
          },
          "scene": {
           "xaxis": {
            "backgroundcolor": "#E5ECF6",
            "gridcolor": "white",
            "gridwidth": 2,
            "linecolor": "white",
            "showbackground": true,
            "ticks": "",
            "zerolinecolor": "white"
           },
           "yaxis": {
            "backgroundcolor": "#E5ECF6",
            "gridcolor": "white",
            "gridwidth": 2,
            "linecolor": "white",
            "showbackground": true,
            "ticks": "",
            "zerolinecolor": "white"
           },
           "zaxis": {
            "backgroundcolor": "#E5ECF6",
            "gridcolor": "white",
            "gridwidth": 2,
            "linecolor": "white",
            "showbackground": true,
            "ticks": "",
            "zerolinecolor": "white"
           }
          },
          "shapedefaults": {
           "line": {
            "color": "#2a3f5f"
           }
          },
          "ternary": {
           "aaxis": {
            "gridcolor": "white",
            "linecolor": "white",
            "ticks": ""
           },
           "baxis": {
            "gridcolor": "white",
            "linecolor": "white",
            "ticks": ""
           },
           "bgcolor": "#E5ECF6",
           "caxis": {
            "gridcolor": "white",
            "linecolor": "white",
            "ticks": ""
           }
          },
          "title": {
           "x": 0.05
          },
          "xaxis": {
           "automargin": true,
           "gridcolor": "white",
           "linecolor": "white",
           "ticks": "",
           "title": {
            "standoff": 15
           },
           "zerolinecolor": "white",
           "zerolinewidth": 2
          },
          "yaxis": {
           "automargin": true,
           "gridcolor": "white",
           "linecolor": "white",
           "ticks": "",
           "title": {
            "standoff": 15
           },
           "zerolinecolor": "white",
           "zerolinewidth": 2
          }
         }
        },
        "xaxis": {
         "anchor": "y",
         "domain": [
          0,
          1
         ],
         "title": {
          "text": "Age"
         }
        },
        "yaxis": {
         "anchor": "x",
         "domain": [
          0,
          1
         ],
         "title": {
          "text": "count"
         }
        }
       }
      }
     },
     "metadata": {},
     "output_type": "display_data"
    }
   ],
   "source": [
    "px.histogram(df, x=\"Age\")"
   ]
  },
  {
   "cell_type": "markdown",
   "metadata": {},
   "source": [
    "Ahora que se han completado los datos, se procederá a eliminar los datos que se consideren que no aporten a la predicción."
   ]
  },
  {
   "cell_type": "markdown",
   "metadata": {},
   "source": [
    "Convertimos en una variable binaria el sexo, para poder utilizar este dato. Male tiene el valor 0 y Female 1."
   ]
  },
  {
   "cell_type": "code",
   "execution_count": 21,
   "metadata": {},
   "outputs": [
    {
     "name": "stderr",
     "output_type": "stream",
     "text": [
      "C:\\Users\\aoran\\AppData\\Local\\Temp\\ipykernel_21060\\751189688.py:1: FutureWarning:\n",
      "\n",
      "A value is trying to be set on a copy of a DataFrame or Series through chained assignment using an inplace method.\n",
      "The behavior will change in pandas 3.0. This inplace method will never work because the intermediate object on which we are setting values always behaves as a copy.\n",
      "\n",
      "For example, when doing 'df[col].method(value, inplace=True)', try using 'df.method({col: value}, inplace=True)' or df[col] = df[col].method(value) instead, to perform the operation inplace on the original object.\n",
      "\n",
      "\n",
      "\n",
      "C:\\Users\\aoran\\AppData\\Local\\Temp\\ipykernel_21060\\751189688.py:1: FutureWarning:\n",
      "\n",
      "Downcasting behavior in `replace` is deprecated and will be removed in a future version. To retain the old behavior, explicitly call `result.infer_objects(copy=False)`. To opt-in to the future behavior, set `pd.set_option('future.no_silent_downcasting', True)`\n",
      "\n"
     ]
    }
   ],
   "source": [
    "df['Sex'].replace(['male', 'female'],\n",
    "                        [0, 1], inplace=True)"
   ]
  },
  {
   "cell_type": "markdown",
   "metadata": {},
   "source": [
    "A continuación se generan nuevas variables que indicarán relaciones existentes entre familias"
   ]
  },
  {
   "cell_type": "code",
   "execution_count": 22,
   "metadata": {},
   "outputs": [],
   "source": [
    "df['# relatives'] = df['SibSp'] + df['Parch'] #Número total de familiares en el barco\n"
   ]
  },
  {
   "cell_type": "markdown",
   "metadata": {},
   "source": [
    "A continuación se realizará una tabla de correlación, por lo que se hará que las variables categóricas pasen a ser variables numéricas que puedan ser utilizadas. Además se hará la eliminación de las variables \"Name\" y Ticket\", puesto que son muy variantes los valores de estos."
   ]
  },
  {
   "cell_type": "code",
   "execution_count": 23,
   "metadata": {},
   "outputs": [],
   "source": [
    "df=df.drop(columns=['Name','Ticket','Title'])"
   ]
  },
  {
   "cell_type": "code",
   "execution_count": 24,
   "metadata": {},
   "outputs": [],
   "source": [
    "categorical_columns = df.select_dtypes(include=['object']).columns.tolist()"
   ]
  },
  {
   "cell_type": "code",
   "execution_count": 25,
   "metadata": {},
   "outputs": [
    {
     "name": "stdout",
     "output_type": "stream",
     "text": [
      "Encoded Employee data : \n",
      "      Survived  Pclass  Sex   Age  SibSp  Parch      Fare  # relatives  \\\n",
      "0          0.0       3    0  22.0      1      0    7.2500            1   \n",
      "1          1.0       1    1  38.0      1      0   71.2833            1   \n",
      "2          1.0       3    1  26.0      0      0    7.9250            0   \n",
      "3          1.0       1    1  35.0      1      0   53.1000            1   \n",
      "4          0.0       3    0  35.0      0      0    8.0500            0   \n",
      "...        ...     ...  ...   ...    ...    ...       ...          ...   \n",
      "1304       NaN       3    0  36.5      0      0    8.0500            0   \n",
      "1305       NaN       1    1  39.0      0      0  108.9000            0   \n",
      "1306       NaN       3    0  38.5      0      0    7.2500            0   \n",
      "1307       NaN       3    0  38.5      0      0    8.0500            0   \n",
      "1308       NaN       3    0   9.5      1      1   22.3583            2   \n",
      "\n",
      "      Embarked_C  Embarked_Q  Embarked_S  \n",
      "0            0.0         0.0         1.0  \n",
      "1            1.0         0.0         0.0  \n",
      "2            0.0         0.0         1.0  \n",
      "3            0.0         0.0         1.0  \n",
      "4            0.0         0.0         1.0  \n",
      "...          ...         ...         ...  \n",
      "1304         0.0         0.0         1.0  \n",
      "1305         1.0         0.0         0.0  \n",
      "1306         0.0         0.0         1.0  \n",
      "1307         0.0         0.0         1.0  \n",
      "1308         1.0         0.0         0.0  \n",
      "\n",
      "[1309 rows x 11 columns]\n"
     ]
    },
    {
     "data": {
      "text/plain": [
       "'df[\\'Embarked\\'].replace([\\'C\\', \\'Q\\', \"S\"],\\n                        [0, 1, 2], inplace=True) '"
      ]
     },
     "execution_count": 25,
     "metadata": {},
     "output_type": "execute_result"
    }
   ],
   "source": [
    "#Initialize OneHotEncoder\n",
    "encoder = OneHotEncoder(sparse_output=False)\n",
    "\n",
    "# Apply one-hot encoding to the categorical columns\n",
    "one_hot_encoded = encoder.fit_transform(df[categorical_columns])\n",
    "\n",
    "#Create a DataFrame with the one-hot encoded columns\n",
    "#We use get_feature_names_out() to get the column names for the encoded data\n",
    "one_hot_df = pd.DataFrame(one_hot_encoded, columns=encoder.get_feature_names_out(categorical_columns))\n",
    "\n",
    "# Concatenate the one-hot encoded dataframe with the original dataframe\n",
    "df_encoded = pd.concat([df, one_hot_df], axis=1)\n",
    "\n",
    "# Drop the original categorical columns\n",
    "df_encoded = df_encoded.drop(categorical_columns, axis=1)\n",
    "\n",
    "# Display the resulting dataframe\n",
    "print(f\"Encoded Employee data : \\n{df_encoded}\")\n",
    "\"\"\"df['Embarked'].replace(['C', 'Q', \"S\"],\n",
    "                        [0, 1, 2], inplace=True) \"\"\""
   ]
  },
  {
   "cell_type": "code",
   "execution_count": 28,
   "metadata": {},
   "outputs": [],
   "source": [
    "#dftrain=df_encoded.iloc[:891]\n",
    "#dftest=df_encoded.iloc[891:]\n",
    "dftrain=df_encoded.iloc[:891]\n",
    "dftest=df_encoded.iloc[891:]"
   ]
  },
  {
   "cell_type": "code",
   "execution_count": 29,
   "metadata": {},
   "outputs": [
    {
     "name": "stdout",
     "output_type": "stream",
     "text": [
      "             Survived    Pclass       Sex       Age     SibSp     Parch  \\\n",
      "Survived     1.000000 -0.338481  0.543351 -0.078835 -0.035322  0.081629   \n",
      "Pclass      -0.338481  1.000000 -0.131900 -0.332154  0.083081  0.018443   \n",
      "Sex          0.543351 -0.131900  1.000000 -0.104277  0.114631  0.245489   \n",
      "Age         -0.078835 -0.332154 -0.104277  1.000000 -0.260410 -0.185083   \n",
      "SibSp       -0.035322  0.083081  0.114631 -0.260410  1.000000  0.414838   \n",
      "Parch        0.081629  0.018443  0.245489 -0.185083  0.414838  1.000000   \n",
      "Fare         0.257307 -0.549500  0.182333  0.092884  0.159651  0.216225   \n",
      "# relatives  0.016639  0.065997  0.200988 -0.270446  0.890712  0.783111   \n",
      "Embarked_C   0.168240 -0.243292  0.082853  0.060324 -0.059528 -0.011069   \n",
      "Embarked_Q   0.003650  0.221009  0.074115 -0.043826 -0.026354 -0.081228   \n",
      "Embarked_S  -0.149683  0.074053 -0.119224 -0.025267  0.068734  0.060814   \n",
      "\n",
      "                 Fare  # relatives  Embarked_C  Embarked_Q  Embarked_S  \n",
      "Survived     0.257307     0.016639    0.168240    0.003650   -0.149683  \n",
      "Pclass      -0.549500     0.065997   -0.243292    0.221009    0.074053  \n",
      "Sex          0.182333     0.200988    0.082853    0.074115   -0.119224  \n",
      "Age          0.092884    -0.270446    0.060324   -0.043826   -0.025267  \n",
      "SibSp        0.159651     0.890712   -0.059528   -0.026354    0.068734  \n",
      "Parch        0.216225     0.783111   -0.011069   -0.081228    0.060814  \n",
      "Fare         1.000000     0.217138    0.269335   -0.117216   -0.162184  \n",
      "# relatives  0.217138     1.000000   -0.046215   -0.058592    0.077359  \n",
      "Embarked_C   0.269335    -0.046215    1.000000   -0.148258   -0.782742  \n",
      "Embarked_Q  -0.117216    -0.058592   -0.148258    1.000000   -0.499421  \n",
      "Embarked_S  -0.162184     0.077359   -0.782742   -0.499421    1.000000  \n"
     ]
    },
    {
     "data": {
      "image/png": "[encoded data removed]",
      "text/plain": [
       "<Figure size 640x480 with 2 Axes>"
      ]
     },
     "metadata": {},
     "output_type": "display_data"
    }
   ],
   "source": [
    "\n",
    "print(dftrain.corr()) \n",
    "  \n",
    "# plotting correlation heatmap \n",
    "dataplot = sb.heatmap(dftrain.corr(), cmap=\"YlGnBu\", annot=True) \n",
    "  \n"
   ]
  },
  {
   "cell_type": "markdown",
   "metadata": {},
   "source": [
    "Considerando la información recopilada en nuestra investigación y la correlación encontrada entre las diferentes variables con supervivencia, decidimos hacer uso de las variables Pclass, Sex y Age. Esta fue una elección definitiva, sin embargo, con varias variables que se mantenían en duda. Ante este problema se encontró una función que permite encontrar las mejores features, este es Sequential Feature Selector."
   ]
  },
  {
   "cell_type": "code",
   "execution_count": 35,
   "metadata": {},
   "outputs": [
    {
     "name": "stderr",
     "output_type": "stream",
     "text": [
      "c:\\Users\\aoran\\anaconda3\\Lib\\site-packages\\sklearn\\model_selection\\_validation.py:73: FutureWarning:\n",
      "\n",
      "`fit_params` is deprecated and will be removed in version 1.6. Pass parameters via `params` instead.\n",
      "\n",
      "c:\\Users\\aoran\\anaconda3\\Lib\\site-packages\\sklearn\\model_selection\\_validation.py:73: FutureWarning:\n",
      "\n",
      "`fit_params` is deprecated and will be removed in version 1.6. Pass parameters via `params` instead.\n",
      "\n",
      "c:\\Users\\aoran\\anaconda3\\Lib\\site-packages\\sklearn\\model_selection\\_validation.py:73: FutureWarning:\n",
      "\n",
      "`fit_params` is deprecated and will be removed in version 1.6. Pass parameters via `params` instead.\n",
      "\n",
      "c:\\Users\\aoran\\anaconda3\\Lib\\site-packages\\sklearn\\model_selection\\_validation.py:73: FutureWarning:\n",
      "\n",
      "`fit_params` is deprecated and will be removed in version 1.6. Pass parameters via `params` instead.\n",
      "\n",
      "c:\\Users\\aoran\\anaconda3\\Lib\\site-packages\\sklearn\\model_selection\\_validation.py:73: FutureWarning:\n",
      "\n",
      "`fit_params` is deprecated and will be removed in version 1.6. Pass parameters via `params` instead.\n",
      "\n",
      "c:\\Users\\aoran\\anaconda3\\Lib\\site-packages\\sklearn\\model_selection\\_validation.py:73: FutureWarning:\n",
      "\n",
      "`fit_params` is deprecated and will be removed in version 1.6. Pass parameters via `params` instead.\n",
      "\n",
      "c:\\Users\\aoran\\anaconda3\\Lib\\site-packages\\sklearn\\model_selection\\_validation.py:73: FutureWarning:\n",
      "\n",
      "`fit_params` is deprecated and will be removed in version 1.6. Pass parameters via `params` instead.\n",
      "\n",
      "c:\\Users\\aoran\\anaconda3\\Lib\\site-packages\\sklearn\\model_selection\\_validation.py:73: FutureWarning:\n",
      "\n",
      "`fit_params` is deprecated and will be removed in version 1.6. Pass parameters via `params` instead.\n",
      "\n",
      "c:\\Users\\aoran\\anaconda3\\Lib\\site-packages\\sklearn\\model_selection\\_validation.py:73: FutureWarning:\n",
      "\n",
      "`fit_params` is deprecated and will be removed in version 1.6. Pass parameters via `params` instead.\n",
      "\n",
      "c:\\Users\\aoran\\anaconda3\\Lib\\site-packages\\sklearn\\model_selection\\_validation.py:73: FutureWarning:\n",
      "\n",
      "`fit_params` is deprecated and will be removed in version 1.6. Pass parameters via `params` instead.\n",
      "\n",
      "\n",
      "[2024-08-16 20:42:32] Features: 1/7 -- score: -0.16767095436373283c:\\Users\\aoran\\anaconda3\\Lib\\site-packages\\sklearn\\model_selection\\_validation.py:73: FutureWarning:\n",
      "\n",
      "`fit_params` is deprecated and will be removed in version 1.6. Pass parameters via `params` instead.\n",
      "\n",
      "c:\\Users\\aoran\\anaconda3\\Lib\\site-packages\\sklearn\\model_selection\\_validation.py:73: FutureWarning:\n",
      "\n",
      "`fit_params` is deprecated and will be removed in version 1.6. Pass parameters via `params` instead.\n",
      "\n",
      "c:\\Users\\aoran\\anaconda3\\Lib\\site-packages\\sklearn\\model_selection\\_validation.py:73: FutureWarning:\n",
      "\n",
      "`fit_params` is deprecated and will be removed in version 1.6. Pass parameters via `params` instead.\n",
      "\n",
      "c:\\Users\\aoran\\anaconda3\\Lib\\site-packages\\sklearn\\model_selection\\_validation.py:73: FutureWarning:\n",
      "\n",
      "`fit_params` is deprecated and will be removed in version 1.6. Pass parameters via `params` instead.\n",
      "\n",
      "c:\\Users\\aoran\\anaconda3\\Lib\\site-packages\\sklearn\\model_selection\\_validation.py:73: FutureWarning:\n",
      "\n",
      "`fit_params` is deprecated and will be removed in version 1.6. Pass parameters via `params` instead.\n",
      "\n",
      "c:\\Users\\aoran\\anaconda3\\Lib\\site-packages\\sklearn\\model_selection\\_validation.py:73: FutureWarning:\n",
      "\n",
      "`fit_params` is deprecated and will be removed in version 1.6. Pass parameters via `params` instead.\n",
      "\n",
      "c:\\Users\\aoran\\anaconda3\\Lib\\site-packages\\sklearn\\model_selection\\_validation.py:73: FutureWarning:\n",
      "\n",
      "`fit_params` is deprecated and will be removed in version 1.6. Pass parameters via `params` instead.\n",
      "\n",
      "c:\\Users\\aoran\\anaconda3\\Lib\\site-packages\\sklearn\\model_selection\\_validation.py:73: FutureWarning:\n",
      "\n",
      "`fit_params` is deprecated and will be removed in version 1.6. Pass parameters via `params` instead.\n",
      "\n",
      "c:\\Users\\aoran\\anaconda3\\Lib\\site-packages\\sklearn\\model_selection\\_validation.py:73: FutureWarning:\n",
      "\n",
      "`fit_params` is deprecated and will be removed in version 1.6. Pass parameters via `params` instead.\n",
      "\n",
      "\n",
      "[2024-08-16 20:42:32] Features: 2/7 -- score: -0.1516098183019021c:\\Users\\aoran\\anaconda3\\Lib\\site-packages\\sklearn\\model_selection\\_validation.py:73: FutureWarning:\n",
      "\n",
      "`fit_params` is deprecated and will be removed in version 1.6. Pass parameters via `params` instead.\n",
      "\n",
      "c:\\Users\\aoran\\anaconda3\\Lib\\site-packages\\sklearn\\model_selection\\_validation.py:73: FutureWarning:\n",
      "\n",
      "`fit_params` is deprecated and will be removed in version 1.6. Pass parameters via `params` instead.\n",
      "\n",
      "c:\\Users\\aoran\\anaconda3\\Lib\\site-packages\\sklearn\\model_selection\\_validation.py:73: FutureWarning:\n",
      "\n",
      "`fit_params` is deprecated and will be removed in version 1.6. Pass parameters via `params` instead.\n",
      "\n",
      "c:\\Users\\aoran\\anaconda3\\Lib\\site-packages\\sklearn\\model_selection\\_validation.py:73: FutureWarning:\n",
      "\n",
      "`fit_params` is deprecated and will be removed in version 1.6. Pass parameters via `params` instead.\n",
      "\n",
      "c:\\Users\\aoran\\anaconda3\\Lib\\site-packages\\sklearn\\model_selection\\_validation.py:73: FutureWarning:\n",
      "\n",
      "`fit_params` is deprecated and will be removed in version 1.6. Pass parameters via `params` instead.\n",
      "\n",
      "c:\\Users\\aoran\\anaconda3\\Lib\\site-packages\\sklearn\\model_selection\\_validation.py:73: FutureWarning:\n",
      "\n",
      "`fit_params` is deprecated and will be removed in version 1.6. Pass parameters via `params` instead.\n",
      "\n",
      "c:\\Users\\aoran\\anaconda3\\Lib\\site-packages\\sklearn\\model_selection\\_validation.py:73: FutureWarning:\n",
      "\n",
      "`fit_params` is deprecated and will be removed in version 1.6. Pass parameters via `params` instead.\n",
      "\n",
      "c:\\Users\\aoran\\anaconda3\\Lib\\site-packages\\sklearn\\model_selection\\_validation.py:73: FutureWarning:\n",
      "\n",
      "`fit_params` is deprecated and will be removed in version 1.6. Pass parameters via `params` instead.\n",
      "\n",
      "\n",
      "[2024-08-16 20:42:32] Features: 3/7 -- score: -0.14846935244964818c:\\Users\\aoran\\anaconda3\\Lib\\site-packages\\sklearn\\model_selection\\_validation.py:73: FutureWarning:\n",
      "\n",
      "`fit_params` is deprecated and will be removed in version 1.6. Pass parameters via `params` instead.\n",
      "\n",
      "c:\\Users\\aoran\\anaconda3\\Lib\\site-packages\\sklearn\\model_selection\\_validation.py:73: FutureWarning:\n",
      "\n",
      "`fit_params` is deprecated and will be removed in version 1.6. Pass parameters via `params` instead.\n",
      "\n",
      "c:\\Users\\aoran\\anaconda3\\Lib\\site-packages\\sklearn\\model_selection\\_validation.py:73: FutureWarning:\n",
      "\n",
      "`fit_params` is deprecated and will be removed in version 1.6. Pass parameters via `params` instead.\n",
      "\n",
      "c:\\Users\\aoran\\anaconda3\\Lib\\site-packages\\sklearn\\model_selection\\_validation.py:73: FutureWarning:\n",
      "\n",
      "`fit_params` is deprecated and will be removed in version 1.6. Pass parameters via `params` instead.\n",
      "\n",
      "c:\\Users\\aoran\\anaconda3\\Lib\\site-packages\\sklearn\\model_selection\\_validation.py:73: FutureWarning:\n",
      "\n",
      "`fit_params` is deprecated and will be removed in version 1.6. Pass parameters via `params` instead.\n",
      "\n",
      "c:\\Users\\aoran\\anaconda3\\Lib\\site-packages\\sklearn\\model_selection\\_validation.py:73: FutureWarning:\n",
      "\n",
      "`fit_params` is deprecated and will be removed in version 1.6. Pass parameters via `params` instead.\n",
      "\n",
      "c:\\Users\\aoran\\anaconda3\\Lib\\site-packages\\sklearn\\model_selection\\_validation.py:73: FutureWarning:\n",
      "\n",
      "`fit_params` is deprecated and will be removed in version 1.6. Pass parameters via `params` instead.\n",
      "\n",
      "\n",
      "[2024-08-16 20:42:32] Features: 4/7 -- score: -0.14645008840299467c:\\Users\\aoran\\anaconda3\\Lib\\site-packages\\sklearn\\model_selection\\_validation.py:73: FutureWarning:\n",
      "\n",
      "`fit_params` is deprecated and will be removed in version 1.6. Pass parameters via `params` instead.\n",
      "\n",
      "c:\\Users\\aoran\\anaconda3\\Lib\\site-packages\\sklearn\\model_selection\\_validation.py:73: FutureWarning:\n",
      "\n",
      "`fit_params` is deprecated and will be removed in version 1.6. Pass parameters via `params` instead.\n",
      "\n",
      "c:\\Users\\aoran\\anaconda3\\Lib\\site-packages\\sklearn\\model_selection\\_validation.py:73: FutureWarning:\n",
      "\n",
      "`fit_params` is deprecated and will be removed in version 1.6. Pass parameters via `params` instead.\n",
      "\n",
      "c:\\Users\\aoran\\anaconda3\\Lib\\site-packages\\sklearn\\model_selection\\_validation.py:73: FutureWarning:\n",
      "\n",
      "`fit_params` is deprecated and will be removed in version 1.6. Pass parameters via `params` instead.\n",
      "\n",
      "c:\\Users\\aoran\\anaconda3\\Lib\\site-packages\\sklearn\\model_selection\\_validation.py:73: FutureWarning:\n",
      "\n",
      "`fit_params` is deprecated and will be removed in version 1.6. Pass parameters via `params` instead.\n",
      "\n",
      "c:\\Users\\aoran\\anaconda3\\Lib\\site-packages\\sklearn\\model_selection\\_validation.py:73: FutureWarning:\n",
      "\n",
      "`fit_params` is deprecated and will be removed in version 1.6. Pass parameters via `params` instead.\n",
      "\n",
      "\n",
      "[2024-08-16 20:42:32] Features: 5/7 -- score: -0.1455677532268616c:\\Users\\aoran\\anaconda3\\Lib\\site-packages\\sklearn\\model_selection\\_validation.py:73: FutureWarning:\n",
      "\n",
      "`fit_params` is deprecated and will be removed in version 1.6. Pass parameters via `params` instead.\n",
      "\n",
      "c:\\Users\\aoran\\anaconda3\\Lib\\site-packages\\sklearn\\model_selection\\_validation.py:73: FutureWarning:\n",
      "\n",
      "`fit_params` is deprecated and will be removed in version 1.6. Pass parameters via `params` instead.\n",
      "\n",
      "c:\\Users\\aoran\\anaconda3\\Lib\\site-packages\\sklearn\\model_selection\\_validation.py:73: FutureWarning:\n",
      "\n",
      "`fit_params` is deprecated and will be removed in version 1.6. Pass parameters via `params` instead.\n",
      "\n",
      "c:\\Users\\aoran\\anaconda3\\Lib\\site-packages\\sklearn\\model_selection\\_validation.py:73: FutureWarning:\n",
      "\n",
      "`fit_params` is deprecated and will be removed in version 1.6. Pass parameters via `params` instead.\n",
      "\n",
      "c:\\Users\\aoran\\anaconda3\\Lib\\site-packages\\sklearn\\model_selection\\_validation.py:73: FutureWarning:\n",
      "\n",
      "`fit_params` is deprecated and will be removed in version 1.6. Pass parameters via `params` instead.\n",
      "\n",
      "\n",
      "[2024-08-16 20:42:32] Features: 6/7 -- score: -0.14582093187898162c:\\Users\\aoran\\anaconda3\\Lib\\site-packages\\sklearn\\model_selection\\_validation.py:73: FutureWarning:\n",
      "\n",
      "`fit_params` is deprecated and will be removed in version 1.6. Pass parameters via `params` instead.\n",
      "\n",
      "c:\\Users\\aoran\\anaconda3\\Lib\\site-packages\\sklearn\\model_selection\\_validation.py:73: FutureWarning:\n",
      "\n",
      "`fit_params` is deprecated and will be removed in version 1.6. Pass parameters via `params` instead.\n",
      "\n",
      "c:\\Users\\aoran\\anaconda3\\Lib\\site-packages\\sklearn\\model_selection\\_validation.py:73: FutureWarning:\n",
      "\n",
      "`fit_params` is deprecated and will be removed in version 1.6. Pass parameters via `params` instead.\n",
      "\n",
      "c:\\Users\\aoran\\anaconda3\\Lib\\site-packages\\sklearn\\model_selection\\_validation.py:73: FutureWarning:\n",
      "\n",
      "`fit_params` is deprecated and will be removed in version 1.6. Pass parameters via `params` instead.\n",
      "\n",
      "\n",
      "[2024-08-16 20:42:32] Features: 7/7 -- score: -0.1464921175629738"
     ]
    }
   ],
   "source": [
    "from mlxtend.feature_selection import SequentialFeatureSelector\n",
    "from sklearn.model_selection  import train_test_split\n",
    "from sklearn.linear_model import LinearRegression\n",
    "\n",
    "\n",
    "X=dftrain.drop(columns=['Survived']) #Se elimina la que se va a predecir\n",
    "y=dftrain['Survived'] #Se elimina la predictora\n",
    "X_train,X_test,y_train,y_test =train_test_split(X,y,test_size=0.2,\n",
    "random_state=42)\n",
    "\n",
    "linearreg = LinearRegression()\n",
    "forwad = SequentialFeatureSelector(\n",
    "linearreg, #Modelo de Regresión\n",
    "k_features=7, #Features que tendremos\n",
    "forward=True,#Forward Selection o Backward Elimination\n",
    "verbose=2, #\n",
    "scoring=\"neg_mean_squared_error\"\n",
    ")\n",
    "sf = forwad.fit(X,y)"
   ]
  },
  {
   "cell_type": "code",
   "execution_count": 36,
   "metadata": {},
   "outputs": [
    {
     "name": "stdout",
     "output_type": "stream",
     "text": [
      "['Pclass', 'Sex', 'Age', 'Fare', '# relatives', 'Embarked_C', 'Embarked_S']\n"
     ]
    }
   ],
   "source": [
    "feat_names = list(sf.k_feature_names_)\n",
    "print(feat_names)\n"
   ]
  },
  {
   "cell_type": "markdown",
   "metadata": {},
   "source": [
    "Encontramos que los 5 features más relevantes son 'Pclass', 'Sex', 'Age', 'Embarked', '# relatives', con esto confirmamos los 3 features que habíamos decidido. Y además agregamos 2 features que habíamos tenido contempladas como un ¨Tal vez¨. por lo que se procedió con la eliminación del resto de features innecesarias y posteriormente con el guardado de este"
   ]
  },
  {
   "cell_type": "code",
   "execution_count": 38,
   "metadata": {},
   "outputs": [
    {
     "data": {
      "text/html": [
       "<div>\n",
       "<style scoped>\n",
       "    .dataframe tbody tr th:only-of-type {\n",
       "        vertical-align: middle;\n",
       "    }\n",
       "\n",
       "    .dataframe tbody tr th {\n",
       "        vertical-align: top;\n",
       "    }\n",
       "\n",
       "    .dataframe thead th {\n",
       "        text-align: right;\n",
       "    }\n",
       "</style>\n",
       "<table border=\"1\" class=\"dataframe\">\n",
       "  <thead>\n",
       "    <tr style=\"text-align: right;\">\n",
       "      <th></th>\n",
       "      <th>Survived</th>\n",
       "      <th>Pclass</th>\n",
       "      <th>Sex</th>\n",
       "      <th>Age</th>\n",
       "      <th>SibSp</th>\n",
       "      <th>Parch</th>\n",
       "      <th>Fare</th>\n",
       "      <th># relatives</th>\n",
       "      <th>Embarked_C</th>\n",
       "      <th>Embarked_Q</th>\n",
       "      <th>Embarked_S</th>\n",
       "    </tr>\n",
       "  </thead>\n",
       "  <tbody>\n",
       "    <tr>\n",
       "      <th>0</th>\n",
       "      <td>0.0</td>\n",
       "      <td>3</td>\n",
       "      <td>0</td>\n",
       "      <td>22.0</td>\n",
       "      <td>1</td>\n",
       "      <td>0</td>\n",
       "      <td>7.2500</td>\n",
       "      <td>1</td>\n",
       "      <td>0.0</td>\n",
       "      <td>0.0</td>\n",
       "      <td>1.0</td>\n",
       "    </tr>\n",
       "    <tr>\n",
       "      <th>1</th>\n",
       "      <td>1.0</td>\n",
       "      <td>1</td>\n",
       "      <td>1</td>\n",
       "      <td>38.0</td>\n",
       "      <td>1</td>\n",
       "      <td>0</td>\n",
       "      <td>71.2833</td>\n",
       "      <td>1</td>\n",
       "      <td>1.0</td>\n",
       "      <td>0.0</td>\n",
       "      <td>0.0</td>\n",
       "    </tr>\n",
       "    <tr>\n",
       "      <th>2</th>\n",
       "      <td>1.0</td>\n",
       "      <td>3</td>\n",
       "      <td>1</td>\n",
       "      <td>26.0</td>\n",
       "      <td>0</td>\n",
       "      <td>0</td>\n",
       "      <td>7.9250</td>\n",
       "      <td>0</td>\n",
       "      <td>0.0</td>\n",
       "      <td>0.0</td>\n",
       "      <td>1.0</td>\n",
       "    </tr>\n",
       "    <tr>\n",
       "      <th>3</th>\n",
       "      <td>1.0</td>\n",
       "      <td>1</td>\n",
       "      <td>1</td>\n",
       "      <td>35.0</td>\n",
       "      <td>1</td>\n",
       "      <td>0</td>\n",
       "      <td>53.1000</td>\n",
       "      <td>1</td>\n",
       "      <td>0.0</td>\n",
       "      <td>0.0</td>\n",
       "      <td>1.0</td>\n",
       "    </tr>\n",
       "    <tr>\n",
       "      <th>4</th>\n",
       "      <td>0.0</td>\n",
       "      <td>3</td>\n",
       "      <td>0</td>\n",
       "      <td>35.0</td>\n",
       "      <td>0</td>\n",
       "      <td>0</td>\n",
       "      <td>8.0500</td>\n",
       "      <td>0</td>\n",
       "      <td>0.0</td>\n",
       "      <td>0.0</td>\n",
       "      <td>1.0</td>\n",
       "    </tr>\n",
       "    <tr>\n",
       "      <th>...</th>\n",
       "      <td>...</td>\n",
       "      <td>...</td>\n",
       "      <td>...</td>\n",
       "      <td>...</td>\n",
       "      <td>...</td>\n",
       "      <td>...</td>\n",
       "      <td>...</td>\n",
       "      <td>...</td>\n",
       "      <td>...</td>\n",
       "      <td>...</td>\n",
       "      <td>...</td>\n",
       "    </tr>\n",
       "    <tr>\n",
       "      <th>1304</th>\n",
       "      <td>NaN</td>\n",
       "      <td>3</td>\n",
       "      <td>0</td>\n",
       "      <td>36.5</td>\n",
       "      <td>0</td>\n",
       "      <td>0</td>\n",
       "      <td>8.0500</td>\n",
       "      <td>0</td>\n",
       "      <td>0.0</td>\n",
       "      <td>0.0</td>\n",
       "      <td>1.0</td>\n",
       "    </tr>\n",
       "    <tr>\n",
       "      <th>1305</th>\n",
       "      <td>NaN</td>\n",
       "      <td>1</td>\n",
       "      <td>1</td>\n",
       "      <td>39.0</td>\n",
       "      <td>0</td>\n",
       "      <td>0</td>\n",
       "      <td>108.9000</td>\n",
       "      <td>0</td>\n",
       "      <td>1.0</td>\n",
       "      <td>0.0</td>\n",
       "      <td>0.0</td>\n",
       "    </tr>\n",
       "    <tr>\n",
       "      <th>1306</th>\n",
       "      <td>NaN</td>\n",
       "      <td>3</td>\n",
       "      <td>0</td>\n",
       "      <td>38.5</td>\n",
       "      <td>0</td>\n",
       "      <td>0</td>\n",
       "      <td>7.2500</td>\n",
       "      <td>0</td>\n",
       "      <td>0.0</td>\n",
       "      <td>0.0</td>\n",
       "      <td>1.0</td>\n",
       "    </tr>\n",
       "    <tr>\n",
       "      <th>1307</th>\n",
       "      <td>NaN</td>\n",
       "      <td>3</td>\n",
       "      <td>0</td>\n",
       "      <td>38.5</td>\n",
       "      <td>0</td>\n",
       "      <td>0</td>\n",
       "      <td>8.0500</td>\n",
       "      <td>0</td>\n",
       "      <td>0.0</td>\n",
       "      <td>0.0</td>\n",
       "      <td>1.0</td>\n",
       "    </tr>\n",
       "    <tr>\n",
       "      <th>1308</th>\n",
       "      <td>NaN</td>\n",
       "      <td>3</td>\n",
       "      <td>0</td>\n",
       "      <td>9.5</td>\n",
       "      <td>1</td>\n",
       "      <td>1</td>\n",
       "      <td>22.3583</td>\n",
       "      <td>2</td>\n",
       "      <td>1.0</td>\n",
       "      <td>0.0</td>\n",
       "      <td>0.0</td>\n",
       "    </tr>\n",
       "  </tbody>\n",
       "</table>\n",
       "<p>1309 rows × 11 columns</p>\n",
       "</div>"
      ],
      "text/plain": [
       "      Survived  Pclass  Sex   Age  SibSp  Parch      Fare  # relatives  \\\n",
       "0          0.0       3    0  22.0      1      0    7.2500            1   \n",
       "1          1.0       1    1  38.0      1      0   71.2833            1   \n",
       "2          1.0       3    1  26.0      0      0    7.9250            0   \n",
       "3          1.0       1    1  35.0      1      0   53.1000            1   \n",
       "4          0.0       3    0  35.0      0      0    8.0500            0   \n",
       "...        ...     ...  ...   ...    ...    ...       ...          ...   \n",
       "1304       NaN       3    0  36.5      0      0    8.0500            0   \n",
       "1305       NaN       1    1  39.0      0      0  108.9000            0   \n",
       "1306       NaN       3    0  38.5      0      0    7.2500            0   \n",
       "1307       NaN       3    0  38.5      0      0    8.0500            0   \n",
       "1308       NaN       3    0   9.5      1      1   22.3583            2   \n",
       "\n",
       "      Embarked_C  Embarked_Q  Embarked_S  \n",
       "0            0.0         0.0         1.0  \n",
       "1            1.0         0.0         0.0  \n",
       "2            0.0         0.0         1.0  \n",
       "3            0.0         0.0         1.0  \n",
       "4            0.0         0.0         1.0  \n",
       "...          ...         ...         ...  \n",
       "1304         0.0         0.0         1.0  \n",
       "1305         1.0         0.0         0.0  \n",
       "1306         0.0         0.0         1.0  \n",
       "1307         0.0         0.0         1.0  \n",
       "1308         1.0         0.0         0.0  \n",
       "\n",
       "[1309 rows x 11 columns]"
      ]
     },
     "execution_count": 38,
     "metadata": {},
     "output_type": "execute_result"
    }
   ],
   "source": [
    "df_encoded"
   ]
  },
  {
   "cell_type": "code",
   "execution_count": 39,
   "metadata": {},
   "outputs": [],
   "source": [
    "df=df.drop(columns=[\"SibSp\",\"Parch\",\"Fare\"])"
   ]
  },
  {
   "cell_type": "code",
   "execution_count": 34,
   "metadata": {},
   "outputs": [],
   "source": [
    "#df.to_csv(\"Titanic_train_test\")\n",
    "#dftrain=df_encoded.iloc[:891]\n",
    "#dftest=df_encoded.iloc[891:]\n",
    "# Cuando realicemos la separaci'on de los datasets"
   ]
  }
 ],
 "metadata": {
  "kernelspec": {
   "display_name": "base",
   "language": "python",
   "name": "python3"
  },
  "language_info": {
   "codemirror_mode": {
    "name": "ipython",
    "version": 3
   },
   "file_extension": ".py",
   "mimetype": "text/x-python",
   "name": "python",
   "nbconvert_exporter": "python",
   "pygments_lexer": "ipython3",
   "version": "3.12.4"
  }
 },
 "nbformat": 4,
 "nbformat_minor": 2
}
