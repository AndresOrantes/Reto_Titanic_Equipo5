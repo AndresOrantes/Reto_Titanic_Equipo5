{
 "cells": [
  {
   "cell_type": "markdown",
   "metadata": {},
   "source": [
    "# 3ro Entregable del Reto\n",
    "## Evaluación y Refinamiento de modelo"
   ]
  },
  {
   "cell_type": "markdown",
   "metadata": {},
   "source": [
    "#### Carga de librerías"
   ]
  },
  {
   "cell_type": "code",
   "execution_count": 146,
   "metadata": {},
   "outputs": [],
   "source": [
    "import pandas as pd\n",
    "import numpy as np\n",
    "from sklearn.model_selection import train_test_split, GridSearchCV, StratifiedKFold,RandomizedSearchCV\n",
    "from sklearn.metrics import accuracy_score, precision_score, recall_score, f1_score, roc_auc_score, confusion_matrix\n",
    "from sklearn.preprocessing import StandardScaler\n",
    "from sklearn.feature_selection import RFECV\n",
    "from sklearn.ensemble import RandomForestClassifier\n",
    "from sklearn.pipeline import Pipeline\n",
    "from scipy.stats import uniform\n"
   ]
  },
  {
   "cell_type": "markdown",
   "metadata": {},
   "source": [
    "#### Importación de base de datos limpia \n",
    "Separación de features de label, estandarización de datos y división de datos entre Train set y Test set para su entrenamiento."
   ]
  },
  {
   "cell_type": "code",
   "execution_count": 147,
   "metadata": {},
   "outputs": [],
   "source": [
    "df= pd.read_csv('Titanic_train_test.csv')"
   ]
  },
  {
   "cell_type": "markdown",
   "metadata": {},
   "source": [
    "Separación de datos entre Train(Entrenamiento) y Test(Prueba)"
   ]
  },
  {
   "cell_type": "code",
   "execution_count": 148,
   "metadata": {},
   "outputs": [],
   "source": [
    "df=df.drop(columns='Unnamed: 0')"
   ]
  },
  {
   "cell_type": "code",
   "execution_count": 149,
   "metadata": {},
   "outputs": [],
   "source": [
    "dftrain=df.iloc[:891]\n",
    "dftest=df.iloc[891:]"
   ]
  },
  {
   "cell_type": "code",
   "execution_count": 150,
   "metadata": {},
   "outputs": [],
   "source": [
    "dftest=dftest.drop(columns=['Survived'])"
   ]
  },
  {
   "cell_type": "markdown",
   "metadata": {},
   "source": [
    "Separación de features y target"
   ]
  },
  {
   "cell_type": "code",
   "execution_count": 151,
   "metadata": {},
   "outputs": [],
   "source": [
    "y=dftrain['Survived']\n",
    "X=dftrain.drop(columns='Survived')"
   ]
  },
  {
   "cell_type": "markdown",
   "metadata": {},
   "source": [
    "Escalar los features"
   ]
  },
  {
   "cell_type": "code",
   "execution_count": 152,
   "metadata": {},
   "outputs": [],
   "source": [
    "scaler=StandardScaler()\n",
    "Xf=scaler.fit_transform(X)"
   ]
  },
  {
   "cell_type": "markdown",
   "metadata": {},
   "source": [
    "Separación de los datos en train y test "
   ]
  },
  {
   "cell_type": "code",
   "execution_count": 135,
   "metadata": {},
   "outputs": [],
   "source": [
    "X_train, X_test, y_train, y_test = train_test_split(Xf, y, test_size=0.2, random_state=42)"
   ]
  },
  {
   "cell_type": "markdown",
   "metadata": {},
   "source": [
    "### Grid Search\n",
    "Creación de Grid search para encontrar los mejores parámetros para el algoritmo Random "
   ]
  },
  {
   "cell_type": "code",
   "execution_count": 9,
   "metadata": {},
   "outputs": [],
   "source": [
    "def gridSearch(clf_model, param_grid, name):\n",
    "\n",
    "    # Define the feature selector\n",
    "    rfecv_model = RFECV(estimator=clf_model, step=1, cv=StratifiedKFold(5), scoring='roc_auc')\n",
    "\n",
    "    # Creación de pipeline con el modelo de Random Forest y el selector de features\n",
    "    pipeline = Pipeline([\n",
    "        ('feature_selection', rfecv_model),\n",
    "        ('classification', clf_model)\n",
    "        ])\n",
    "    \n",
    "    # Define the GridSearchCV\n",
    "    grid_search = GridSearchCV(estimator=pipeline, param_grid=param_grid, cv=StratifiedKFold(10), scoring='roc_auc_ovr', n_jobs=-1)\n",
    "\n",
    "    # Hacerle fit model\n",
    "    grid_search.fit(X_train, y_train)\n",
    "\n",
    "    # Get the best parameters and score\n",
    "    print(\"Best parameters found for \",name,\":\", grid_search.best_params_)\n",
    "    print(\"Best cross-validation score for \",name,\":\", grid_search.best_score_)\n",
    "    "
   ]
  },
  {
   "cell_type": "markdown",
   "metadata": {},
   "source": [
    "#### Random Forest"
   ]
  },
  {
   "cell_type": "code",
   "execution_count": 28,
   "metadata": {},
   "outputs": [
    {
     "name": "stdout",
     "output_type": "stream",
     "text": [
      "Best parameters found for  Random Forest : {'classification__criterion': 'gini', 'classification__max_depth': 10, 'classification__max_features': 'sqrt', 'classification__max_leaf_nodes': 10, 'classification__n_estimators': 200}\n",
      "Best cross-validation score for  Random Forest : 0.8513247863247864\n"
     ]
    }
   ],
   "source": [
    "# Define the classifier\n",
    "clf_rf = RandomForestClassifier(random_state=42, class_weight=\"balanced\")\n",
    "\n",
    "\n",
    "param_grid_rf = {\n",
    "    'classification__n_estimators': [ 5, 10, 50, 200, 250],\n",
    "    'classification__max_features': ['sqrt','log2'],\n",
    "    'classification__max_depth': [4, 6, 8, 10, 12],\n",
    "    'classification__criterion':['gini','log_loss','entropy'],\n",
    "    'classification__max_leaf_nodes':[2, 5, 10]\n",
    "}\n",
    "\n",
    "gridSearch(clf_rf, param_grid_rf, name = \"Random Forest\" )"
   ]
  },
  {
   "cell_type": "markdown",
   "metadata": {},
   "source": [
    "### Randomized Search"
   ]
  },
  {
   "cell_type": "markdown",
   "metadata": {},
   "source": [
    "#### Random Forest"
   ]
  },
  {
   "cell_type": "code",
   "execution_count": 25,
   "metadata": {},
   "outputs": [
    {
     "name": "stdout",
     "output_type": "stream",
     "text": [
      "{'n_estimators': 1209, 'min_samples_split': 6, 'max_features': 'sqrt', 'max_depth': 4, 'criterion': 'gini', 'bootstrap': True}\n",
      "Accuracy: 0.8044692737430168\n"
     ]
    }
   ],
   "source": [
    "clf_rf = RandomForestClassifier(random_state=42, class_weight=\"balanced\")\n",
    "\n",
    "rfc_search_space = {\n",
    "    'n_estimators': range(200, 1600),\n",
    "    'criterion':['gini','log_loss','entropy'],\n",
    "    'max_depth': range(2, 51),\n",
    "    'min_samples_split': range(2, 11),\n",
    "    'max_features': ['sqrt', 'log2'],\n",
    "    'bootstrap': [True, False]\n",
    "}\n",
    "\n",
    "random_search = RandomizedSearchCV(estimator=clf_rf, param_distributions=rfc_search_space, n_iter=200, cv=5)\n",
    "random_search.fit(X_train, y_train)\n",
    "\n",
    "best_params = random_search.best_params_\n",
    "rfc = RandomForestClassifier(**best_params)\n",
    "print(best_params)\n",
    "\n",
    "rfc.fit(X_train, y_train)\n",
    "y_pred = rfc.predict(X_test)\n",
    "\n",
    "accuracy = accuracy_score(y_test, y_pred)\n",
    "print(\"Accuracy:\", accuracy)\n"
   ]
  },
  {
   "cell_type": "markdown",
   "metadata": {},
   "source": [
    "### Manual Tunning"
   ]
  },
  {
   "cell_type": "markdown",
   "metadata": {},
   "source": [
    "#### Random Forest"
   ]
  },
  {
   "cell_type": "code",
   "execution_count": 263,
   "metadata": {},
   "outputs": [
    {
     "name": "stdout",
     "output_type": "stream",
     "text": [
      "Accuracy: 0.8044692737430168\n",
      "F1 Score: 0.7482014388489209\n",
      "ROC-AUC: 0.7894465894465894\n",
      "Confusion Matrix:\n",
      "[[92 13]\n",
      " [22 52]]\n"
     ]
    }
   ],
   "source": [
    "#Usando los parámetros de Grid Search\n",
    "rfc1 = RandomForestClassifier(\n",
    "    \n",
    "    max_features = 'sqrt', \n",
    "    criterion ='gini',\n",
    "    max_depth = 10, \n",
    "    max_leaf_nodes = 10, \n",
    "    n_estimators =  200\n",
    ")\n",
    "manual_tunning(rfc1)"
   ]
  },
  {
   "cell_type": "code",
   "execution_count": 262,
   "metadata": {},
   "outputs": [
    {
     "name": "stdout",
     "output_type": "stream",
     "text": [
      "Accuracy: 0.8044692737430168\n",
      "F1 Score: 0.7482014388489209\n",
      "ROC-AUC: 0.7894465894465894\n",
      "Confusion Matrix:\n",
      "[[92 13]\n",
      " [22 52]]\n"
     ]
    }
   ],
   "source": [
    "#Usando los parámetros de Random Search\n",
    "rfc2 = RandomForestClassifier(\n",
    "    \n",
    "    n_estimators = 1209,\n",
    "    min_samples_split =6, \n",
    "    max_features= 'sqrt', \n",
    "    max_depth= 4, \n",
    "    criterion= 'gini',\n",
    "    bootstrap= True\n",
    ")\n",
    "manual_tunning(rfc2)"
   ]
  },
  {
   "cell_type": "code",
   "execution_count": 261,
   "metadata": {},
   "outputs": [
    {
     "name": "stdout",
     "output_type": "stream",
     "text": [
      "Accuracy: 0.8324022346368715\n",
      "F1 Score: 0.782608695652174\n",
      "ROC-AUC: 0.8172458172458174\n",
      "Confusion Matrix:\n",
      "[[95 10]\n",
      " [20 54]]\n"
     ]
    }
   ],
   "source": [
    "#Usando los parámetros de forma manual y de experimentación\n",
    "rfc3 = RandomForestClassifier(\n",
    "    \n",
    "    max_features = 'sqrt',\n",
    "    criterion = 'gini',\n",
    "    n_estimators=200, \n",
    "    max_depth=10, \n",
    "    min_samples_split=10, \n",
    "    random_state=30\n",
    ")\n",
    "manual_tunning(rfc3)"
   ]
  },
  {
   "cell_type": "code",
   "execution_count": 236,
   "metadata": {},
   "outputs": [],
   "source": [
    "\n",
    "def manual_tunning(rfc):\n",
    "    rfc.fit(X_train, y_train)\n",
    "\n",
    "    y_predRF = rfc.predict(X_test)\n",
    "    accuracy = accuracy_score(y_test, y_predRF)\n",
    "    f1 = f1_score(y_test, y_predRF)\n",
    "    roc_auc = roc_auc_score(y_test, y_predRF)\n",
    "    conf_matrix = confusion_matrix(y_test, y_predRF)\n",
    "\n",
    "    print(f'Accuracy: {accuracy}')\n",
    "    print(f'F1 Score: {f1}')\n",
    "    print(f'ROC-AUC: {roc_auc}')\n",
    "    print('Confusion Matrix:')\n",
    "    print(conf_matrix)"
   ]
  },
  {
   "cell_type": "code",
   "execution_count": 16,
   "metadata": {},
   "outputs": [
    {
     "data": {
      "text/plain": [
       "<sklearn.metrics._plot.precision_recall_curve.PrecisionRecallDisplay at 0x744d930cb8b0>"
      ]
     },
     "execution_count": 16,
     "metadata": {},
     "output_type": "execute_result"
    },
    {
     "data": {
      "image/png": "[encoded data removed]",
      "text/plain": [
       "<Figure size 640x480 with 1 Axes>"
      ]
     },
     "metadata": {},
     "output_type": "display_data"
    }
   ],
   "source": [
    "from sklearn.metrics import PrecisionRecallDisplay\n",
    "PrecisionRecallDisplay.from_estimator(rfc, X_test, y_test)"
   ]
  },
  {
   "cell_type": "code",
   "execution_count": 14,
   "metadata": {},
   "outputs": [
    {
     "data": {
      "text/plain": [
       "<sklearn.metrics._plot.roc_curve.RocCurveDisplay at 0x744d930cb940>"
      ]
     },
     "execution_count": 14,
     "metadata": {},
     "output_type": "execute_result"
    },
    {
     "data": {
      "image/png": "[encoded data removed]",
      "text/plain": [
       "<Figure size 640x480 with 1 Axes>"
      ]
     },
     "metadata": {},
     "output_type": "display_data"
    }
   ],
   "source": [
    "from sklearn.metrics import RocCurveDisplay\n",
    "RocCurveDisplay.from_estimator(rfc, X_test, y_test)"
   ]
  },
  {
   "cell_type": "code",
   "execution_count": 17,
   "metadata": {},
   "outputs": [
    {
     "data": {
      "text/plain": [
       "<sklearn.metrics._plot.confusion_matrix.ConfusionMatrixDisplay at 0x744d930cb190>"
      ]
     },
     "execution_count": 17,
     "metadata": {},
     "output_type": "execute_result"
    },
    {
     "data": {
      "image/png": "[encoded data removed]",
      "text/plain": [
       "<Figure size 640x480 with 2 Axes>"
      ]
     },
     "metadata": {},
     "output_type": "display_data"
    }
   ],
   "source": [
    "from sklearn.metrics import ConfusionMatrixDisplay\n",
    "ConfusionMatrixDisplay.from_estimator(rfc, X_test, y_test)"
   ]
  }
 ],
 "metadata": {
  "kernelspec": {
   "display_name": "Python 3",
   "language": "python",
   "name": "python3"
  },
  "language_info": {
   "codemirror_mode": {
    "name": "ipython",
    "version": 3
   },
   "file_extension": ".py",
   "mimetype": "text/x-python",
   "name": "python",
   "nbconvert_exporter": "python",
   "pygments_lexer": "ipython3",
   "version": "3.12.4"
  }
 },
 "nbformat": 4,
 "nbformat_minor": 2
}
